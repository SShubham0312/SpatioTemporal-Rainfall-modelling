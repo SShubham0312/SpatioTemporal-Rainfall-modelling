{
 "cells": [
  {
   "cell_type": "code",
   "execution_count": 4,
   "id": "8abde89d",
   "metadata": {},
   "outputs": [
    {
     "name": "stdout",
     "output_type": "stream",
     "text": [
      "Requirement already satisfied: pandas in ./.venv/lib/python3.12/site-packages (2.2.3)\n",
      "Requirement already satisfied: numpy in ./.venv/lib/python3.12/site-packages (2.2.6)\n",
      "Requirement already satisfied: matplotlib in ./.venv/lib/python3.12/site-packages (3.10.3)\n",
      "Requirement already satisfied: seaborn in ./.venv/lib/python3.12/site-packages (0.13.2)\n",
      "Requirement already satisfied: scikit-learn in ./.venv/lib/python3.12/site-packages (1.6.1)\n",
      "Requirement already satisfied: torch in ./.venv/lib/python3.12/site-packages (2.7.0)\n",
      "Requirement already satisfied: torchvision in ./.venv/lib/python3.12/site-packages (0.22.0)\n",
      "Requirement already satisfied: transformers in ./.venv/lib/python3.12/site-packages (4.51.3)\n",
      "Requirement already satisfied: datasets in ./.venv/lib/python3.12/site-packages (3.6.0)\n",
      "Requirement already satisfied: tqdm in ./.venv/lib/python3.12/site-packages (4.67.1)\n",
      "\u001b[31mERROR: Could not find a version that satisfies the requirement collections (from versions: none)\u001b[0m\u001b[31m\n",
      "\u001b[0m\u001b[31mERROR: No matching distribution found for collections\u001b[0m\u001b[31m\n",
      "\u001b[0m"
     ]
    }
   ],
   "source": [
    "!pip install pandas numpy matplotlib seaborn scikit-learn torch torchvision transformers datasets tqdm collections"
   ]
  },
  {
   "cell_type": "code",
   "execution_count": 10,
   "id": "7b346ea8",
   "metadata": {},
   "outputs": [],
   "source": [
    "import pandas as pd\n",
    "import numpy as np\n",
    "from sklearn.preprocessing import StandardScaler\n",
    "from sklearn.utils.class_weight import compute_class_weight\n",
    "from sklearn.model_selection import train_test_split\n",
    "from sklearn.metrics import accuracy_score, precision_score, recall_score, f1_score\n",
    "from tqdm import tqdm\n",
    "import torch\n",
    "import torch.nn as nn\n",
    "from torch.utils.data import DataLoader, TensorDataset\n",
    "from collections import defaultdict"
   ]
  },
  {
   "cell_type": "code",
   "execution_count": 11,
   "id": "4c5b6de9",
   "metadata": {},
   "outputs": [],
   "source": [
    "import os\n",
    "os.environ[\"CUDA_LAUNCH_BLOCKING\"] = \"1\""
   ]
  },
  {
   "cell_type": "code",
   "execution_count": 12,
   "id": "7b83d918",
   "metadata": {},
   "outputs": [],
   "source": [
    "# Load and preprocess\n",
    "df = pd.read_csv('final_training_data.csv')\n",
    "df.replace([np.inf, -np.inf], np.nan, inplace=True)\n",
    "df = df.dropna()\n",
    "\n",
    "# Normalize labels to 0-indexed\n",
    "label_col = 'label_num'\n",
    "label_mapping = {old: i for i, old in enumerate(sorted(df[label_col].unique()))}\n",
    "df[label_col] = df[label_col].map(label_mapping)\n",
    "all_metrics = defaultdict(list)\n",
    "classwise_metrics = defaultdict(lambda: defaultdict(list))  # {class_id: {prec: [], rec: [], f1: []}}"
   ]
  },
  {
   "cell_type": "code",
   "execution_count": 13,
   "id": "94cb1310",
   "metadata": {},
   "outputs": [],
   "source": [
    "class CNN(nn.Module):\n",
    "    def __init__(self, input_channels, num_classes):\n",
    "        super(CNN, self).__init__()\n",
    "        self.model = nn.Sequential(\n",
    "            nn.Conv1d(input_channels, 32, kernel_size=3, padding=1),  # Change here\n",
    "            nn.BatchNorm1d(32),\n",
    "            nn.ReLU(),\n",
    "            \n",
    "            nn.Conv1d(32, 64, kernel_size=3, padding=1),\n",
    "            nn.BatchNorm1d(64),\n",
    "            nn.ReLU(),\n",
    "\n",
    "            nn.Conv1d(64, 128, kernel_size=3, padding=1),\n",
    "            nn.BatchNorm1d(128),\n",
    "            nn.ReLU(),\n",
    "\n",
    "            nn.AdaptiveAvgPool1d(1),\n",
    "            nn.Flatten(),\n",
    "\n",
    "            nn.Dropout(0.3),\n",
    "            nn.Linear(128, 64),\n",
    "            nn.ReLU(),\n",
    "\n",
    "            nn.Dropout(0.2),\n",
    "            nn.Linear(64, num_classes)\n",
    "        )\n",
    "\n",
    "    def forward(self, x):\n",
    "        return self.model(x)\n"
   ]
  },
  {
   "cell_type": "code",
   "execution_count": 14,
   "id": "357c53de",
   "metadata": {},
   "outputs": [
    {
     "name": "stderr",
     "output_type": "stream",
     "text": [
      "Stations:   0%|          | 0/217 [00:00<?, ?it/s]"
     ]
    },
    {
     "name": "stdout",
     "output_type": "stream",
     "text": [
      "[19.0500, 74.4800] Epoch 1/5, Loss: 7.6838\n",
      "[19.0500, 74.4800] Epoch 2/5, Loss: 7.3042\n",
      "[19.0500, 74.4800] Epoch 3/5, Loss: 7.1317\n",
      "[19.0500, 74.4800] Epoch 4/5, Loss: 7.0319\n",
      "[19.0500, 74.4800] Epoch 5/5, Loss: 6.8700\n",
      "[19.0500, 74.4800] Epoch 6/5, Loss: 6.6910\n",
      "[19.0500, 74.4800] Epoch 7/5, Loss: 6.5623\n",
      "[19.0500, 74.4800] Epoch 8/5, Loss: 6.4645\n",
      "[19.0500, 74.4800] Epoch 9/5, Loss: 6.0721\n",
      "[19.0500, 74.4800] Epoch 10/5, Loss: 6.0548\n",
      "[19.0500, 74.4800] Epoch 11/5, Loss: 5.8641\n",
      "[19.0500, 74.4800] Epoch 12/5, Loss: 5.8069\n",
      "[19.0500, 74.4800] Epoch 13/5, Loss: 5.9074\n",
      "[19.0500, 74.4800] Epoch 14/5, Loss: 5.3325\n",
      "[19.0500, 74.4800] Epoch 15/5, Loss: 5.2674\n",
      "[19.0500, 74.4800] Epoch 16/5, Loss: 5.1516\n",
      "[19.0500, 74.4800] Epoch 17/5, Loss: 4.6168\n",
      "[19.0500, 74.4800] Epoch 18/5, Loss: 4.3549\n"
     ]
    },
    {
     "name": "stderr",
     "output_type": "stream",
     "text": [
      "Stations:   0%|          | 1/217 [00:01<03:41,  1.03s/it]"
     ]
    },
    {
     "name": "stdout",
     "output_type": "stream",
     "text": [
      "[19.0500, 74.4800] Epoch 19/5, Loss: 4.5424\n",
      "[19.0500, 74.4800] Epoch 20/5, Loss: 4.2020\n",
      "📍 Station (19.0500, 74.4800)\n",
      "  Accuracy : 0.9425\n",
      "  Precision: 0.7265\n",
      "  Recall   : 0.5939\n",
      "  F1-score : 0.6279\n",
      "    Class 0: Precision=0.9529, Recall=0.9878, F1-score=0.9701\n",
      "    Class 1: Precision=0.5000, Recall=0.2000, F1-score=0.2857\n",
      "[18.4200, 76.5600] Epoch 1/5, Loss: 12.6798\n",
      "[18.4200, 76.5600] Epoch 2/5, Loss: 12.1891\n",
      "[18.4200, 76.5600] Epoch 3/5, Loss: 11.3007\n",
      "[18.4200, 76.5600] Epoch 4/5, Loss: 10.9996\n",
      "[18.4200, 76.5600] Epoch 5/5, Loss: 10.7824\n",
      "[18.4200, 76.5600] Epoch 6/5, Loss: 10.5994\n",
      "[18.4200, 76.5600] Epoch 7/5, Loss: 10.0283\n",
      "[18.4200, 76.5600] Epoch 8/5, Loss: 9.7062\n",
      "[18.4200, 76.5600] Epoch 9/5, Loss: 9.5833\n",
      "[18.4200, 76.5600] Epoch 10/5, Loss: 9.2844\n",
      "[18.4200, 76.5600] Epoch 11/5, Loss: 8.7509\n",
      "[18.4200, 76.5600] Epoch 12/5, Loss: 8.4295\n",
      "[18.4200, 76.5600] Epoch 13/5, Loss: 7.8706\n",
      "[18.4200, 76.5600] Epoch 14/5, Loss: 7.4260\n",
      "[18.4200, 76.5600] Epoch 15/5, Loss: 7.5919\n",
      "[18.4200, 76.5600] Epoch 16/5, Loss: 7.2027\n",
      "[18.4200, 76.5600] Epoch 17/5, Loss: 6.4651\n"
     ]
    },
    {
     "name": "stderr",
     "output_type": "stream",
     "text": [
      "Stations:   1%|          | 2/217 [00:02<04:42,  1.31s/it]"
     ]
    },
    {
     "name": "stdout",
     "output_type": "stream",
     "text": [
      "[18.4200, 76.5600] Epoch 18/5, Loss: 6.3127\n",
      "[18.4200, 76.5600] Epoch 19/5, Loss: 5.7725\n",
      "[18.4200, 76.5600] Epoch 20/5, Loss: 5.5941\n",
      "📍 Station (18.4200, 76.5600)\n",
      "  Accuracy : 0.8357\n",
      "  Precision: 0.4466\n",
      "  Recall   : 0.4643\n",
      "  F1-score : 0.4553\n",
      "    Class 0: Precision=0.8931, Recall=0.9286, F1-score=0.9105\n",
      "    Class 1: Precision=0.0000, Recall=0.0000, F1-score=0.0000\n",
      "[16.0500, 74.1000] Epoch 1/5, Loss: 12.3823\n",
      "[16.0500, 74.1000] Epoch 2/5, Loss: 11.5799\n",
      "[16.0500, 74.1000] Epoch 3/5, Loss: 11.2012\n",
      "[16.0500, 74.1000] Epoch 4/5, Loss: 10.6191\n",
      "[16.0500, 74.1000] Epoch 5/5, Loss: 10.3990\n",
      "[16.0500, 74.1000] Epoch 6/5, Loss: 9.9151\n",
      "[16.0500, 74.1000] Epoch 7/5, Loss: 9.5680\n",
      "[16.0500, 74.1000] Epoch 8/5, Loss: 9.2096\n",
      "[16.0500, 74.1000] Epoch 9/5, Loss: 8.8523\n",
      "[16.0500, 74.1000] Epoch 10/5, Loss: 8.6539\n",
      "[16.0500, 74.1000] Epoch 11/5, Loss: 8.1957\n",
      "[16.0500, 74.1000] Epoch 12/5, Loss: 8.1575\n",
      "[16.0500, 74.1000] Epoch 13/5, Loss: 7.6480\n",
      "[16.0500, 74.1000] Epoch 14/5, Loss: 7.5037\n",
      "[16.0500, 74.1000] Epoch 15/5, Loss: 7.2259\n",
      "[16.0500, 74.1000] Epoch 16/5, Loss: 6.7339\n",
      "[16.0500, 74.1000] Epoch 17/5, Loss: 6.4637\n",
      "[16.0500, 74.1000] Epoch 18/5, Loss: 6.3367\n",
      "[16.0500, 74.1000] Epoch 19/5, Loss: 6.0658\n"
     ]
    },
    {
     "name": "stderr",
     "output_type": "stream",
     "text": [
      "Stations:   1%|▏         | 3/217 [00:04<04:56,  1.39s/it]"
     ]
    },
    {
     "name": "stdout",
     "output_type": "stream",
     "text": [
      "[16.0500, 74.1000] Epoch 20/5, Loss: 5.7574\n",
      "📍 Station (16.0500, 74.1000)\n",
      "  Accuracy : 0.8000\n",
      "  Precision: 0.7495\n",
      "  Recall   : 0.7719\n",
      "  F1-score : 0.7586\n",
      "    Class 0: Precision=0.8854, Recall=0.8333, F1-score=0.8586\n",
      "    Class 1: Precision=0.6136, Recall=0.7105, F1-score=0.6585\n",
      "[17.3200, 76.1200] Epoch 1/5, Loss: 12.3645\n",
      "[17.3200, 76.1200] Epoch 2/5, Loss: 11.0488\n",
      "[17.3200, 76.1200] Epoch 3/5, Loss: 10.1877\n",
      "[17.3200, 76.1200] Epoch 4/5, Loss: 9.1911\n",
      "[17.3200, 76.1200] Epoch 5/5, Loss: 8.3113\n",
      "[17.3200, 76.1200] Epoch 6/5, Loss: 7.3612\n",
      "[17.3200, 76.1200] Epoch 7/5, Loss: 7.2049\n",
      "[17.3200, 76.1200] Epoch 8/5, Loss: 6.4380\n",
      "[17.3200, 76.1200] Epoch 9/5, Loss: 6.2747\n",
      "[17.3200, 76.1200] Epoch 10/5, Loss: 6.3538\n",
      "[17.3200, 76.1200] Epoch 11/5, Loss: 6.4008\n",
      "[17.3200, 76.1200] Epoch 12/5, Loss: 6.1354\n",
      "[17.3200, 76.1200] Epoch 13/5, Loss: 5.9574\n",
      "[17.3200, 76.1200] Epoch 14/5, Loss: 5.0128\n",
      "[17.3200, 76.1200] Epoch 15/5, Loss: 6.3408\n",
      "[17.3200, 76.1200] Epoch 16/5, Loss: 5.7758\n",
      "[17.3200, 76.1200] Epoch 17/5, Loss: 5.5337\n"
     ]
    },
    {
     "name": "stderr",
     "output_type": "stream",
     "text": [
      "Stations:   2%|▏         | 4/217 [00:05<05:06,  1.44s/it]"
     ]
    },
    {
     "name": "stdout",
     "output_type": "stream",
     "text": [
      "[17.3200, 76.1200] Epoch 18/5, Loss: 5.2296\n",
      "[17.3200, 76.1200] Epoch 19/5, Loss: 5.6362\n",
      "[17.3200, 76.1200] Epoch 20/5, Loss: 5.0995\n",
      "📍 Station (17.3200, 76.1200)\n",
      "  Accuracy : 1.0000\n",
      "  Precision: 1.0000\n",
      "  Recall   : 1.0000\n",
      "  F1-score : 1.0000\n",
      "    Class 0: Precision=1.0000, Recall=1.0000, F1-score=1.0000\n",
      "    Class 1: Precision=0.0000, Recall=0.0000, F1-score=0.0000\n",
      "[21.4500, 74.0000] Epoch 1/5, Loss: 12.2508\n",
      "[21.4500, 74.0000] Epoch 2/5, Loss: 11.7578\n",
      "[21.4500, 74.0000] Epoch 3/5, Loss: 11.2296\n",
      "[21.4500, 74.0000] Epoch 4/5, Loss: 10.7509\n",
      "[21.4500, 74.0000] Epoch 5/5, Loss: 10.6083\n",
      "[21.4500, 74.0000] Epoch 6/5, Loss: 10.3642\n",
      "[21.4500, 74.0000] Epoch 7/5, Loss: 9.9239\n",
      "[21.4500, 74.0000] Epoch 8/5, Loss: 9.9234\n",
      "[21.4500, 74.0000] Epoch 9/5, Loss: 9.7045\n",
      "[21.4500, 74.0000] Epoch 10/5, Loss: 9.1521\n",
      "[21.4500, 74.0000] Epoch 11/5, Loss: 8.9585\n",
      "[21.4500, 74.0000] Epoch 12/5, Loss: 8.4373\n",
      "[21.4500, 74.0000] Epoch 13/5, Loss: 8.3751\n",
      "[21.4500, 74.0000] Epoch 14/5, Loss: 7.9287\n",
      "[21.4500, 74.0000] Epoch 15/5, Loss: 7.6511\n",
      "[21.4500, 74.0000] Epoch 16/5, Loss: 7.4525\n",
      "[21.4500, 74.0000] Epoch 17/5, Loss: 7.4237\n",
      "[21.4500, 74.0000] Epoch 18/5, Loss: 6.8505\n"
     ]
    },
    {
     "name": "stderr",
     "output_type": "stream",
     "text": [
      "Stations:   2%|▏         | 5/217 [00:07<05:12,  1.48s/it]"
     ]
    },
    {
     "name": "stdout",
     "output_type": "stream",
     "text": [
      "[21.4500, 74.0000] Epoch 19/5, Loss: 6.6963\n",
      "[21.4500, 74.0000] Epoch 20/5, Loss: 6.5444\n",
      "📍 Station (21.4500, 74.0000)\n",
      "  Accuracy : 0.6667\n",
      "  Precision: 0.5660\n",
      "  Recall   : 0.6296\n",
      "  F1-score : 0.5491\n",
      "    Class 0: Precision=0.9121, Recall=0.6803, F1-score=0.7793\n",
      "    Class 1: Precision=0.2200, Recall=0.5789, F1-score=0.3188\n",
      "[19.3300, 74.0100] Epoch 1/5, Loss: 11.9954\n",
      "[19.3300, 74.0100] Epoch 2/5, Loss: 11.9792\n",
      "[19.3300, 74.0100] Epoch 3/5, Loss: 11.4936\n",
      "[19.3300, 74.0100] Epoch 4/5, Loss: 11.1463\n",
      "[19.3300, 74.0100] Epoch 5/5, Loss: 10.5276\n",
      "[19.3300, 74.0100] Epoch 6/5, Loss: 10.4847\n",
      "[19.3300, 74.0100] Epoch 7/5, Loss: 10.2235\n",
      "[19.3300, 74.0100] Epoch 8/5, Loss: 9.8853\n",
      "[19.3300, 74.0100] Epoch 9/5, Loss: 9.6225\n",
      "[19.3300, 74.0100] Epoch 10/5, Loss: 9.3857\n",
      "[19.3300, 74.0100] Epoch 11/5, Loss: 8.9683\n",
      "[19.3300, 74.0100] Epoch 12/5, Loss: 8.5900\n",
      "[19.3300, 74.0100] Epoch 13/5, Loss: 8.2748\n",
      "[19.3300, 74.0100] Epoch 14/5, Loss: 8.1159\n",
      "[19.3300, 74.0100] Epoch 15/5, Loss: 7.6727\n",
      "[19.3300, 74.0100] Epoch 16/5, Loss: 7.3143\n",
      "[19.3300, 74.0100] Epoch 17/5, Loss: 6.8648\n"
     ]
    },
    {
     "name": "stderr",
     "output_type": "stream",
     "text": [
      "Stations:   3%|▎         | 6/217 [00:08<05:09,  1.47s/it]"
     ]
    },
    {
     "name": "stdout",
     "output_type": "stream",
     "text": [
      "[19.3300, 74.0100] Epoch 18/5, Loss: 7.0433\n",
      "[19.3300, 74.0100] Epoch 19/5, Loss: 6.4664\n",
      "[19.3300, 74.0100] Epoch 20/5, Loss: 6.3907\n",
      "📍 Station (19.3300, 74.0100)\n",
      "  Accuracy : 0.8000\n",
      "  Precision: 0.6285\n",
      "  Recall   : 0.7238\n",
      "  F1-score : 0.6480\n",
      "    Class 0: Precision=0.9444, Recall=0.8226, F1-score=0.8793\n",
      "    Class 1: Precision=0.3125, Recall=0.6250, F1-score=0.4167\n",
      "[18.3800, 72.5200] Epoch 1/5, Loss: 12.9876\n",
      "[18.3800, 72.5200] Epoch 2/5, Loss: 12.4748\n",
      "[18.3800, 72.5200] Epoch 3/5, Loss: 12.1467\n",
      "[18.3800, 72.5200] Epoch 4/5, Loss: 11.8006\n",
      "[18.3800, 72.5200] Epoch 5/5, Loss: 11.6029\n",
      "[18.3800, 72.5200] Epoch 6/5, Loss: 11.4610\n",
      "[18.3800, 72.5200] Epoch 7/5, Loss: 11.1942\n",
      "[18.3800, 72.5200] Epoch 8/5, Loss: 10.8751\n",
      "[18.3800, 72.5200] Epoch 9/5, Loss: 10.7816\n",
      "[18.3800, 72.5200] Epoch 10/5, Loss: 10.7068\n",
      "[18.3800, 72.5200] Epoch 11/5, Loss: 10.4277\n",
      "[18.3800, 72.5200] Epoch 12/5, Loss: 10.1816\n",
      "[18.3800, 72.5200] Epoch 13/5, Loss: 10.0576\n",
      "[18.3800, 72.5200] Epoch 14/5, Loss: 9.8621\n",
      "[18.3800, 72.5200] Epoch 15/5, Loss: 9.6393\n",
      "[18.3800, 72.5200] Epoch 16/5, Loss: 9.5778\n",
      "[18.3800, 72.5200] Epoch 17/5, Loss: 9.5528\n",
      "[18.3800, 72.5200] Epoch 18/5, Loss: 9.3047\n"
     ]
    },
    {
     "name": "stderr",
     "output_type": "stream",
     "text": [
      "Stations:   3%|▎         | 7/217 [00:09<05:06,  1.46s/it]"
     ]
    },
    {
     "name": "stdout",
     "output_type": "stream",
     "text": [
      "[18.3800, 72.5200] Epoch 19/5, Loss: 9.0217\n",
      "[18.3800, 72.5200] Epoch 20/5, Loss: 8.7513\n",
      "📍 Station (18.3800, 72.5200)\n",
      "  Accuracy : 0.7557\n",
      "  Precision: 0.7062\n",
      "  Recall   : 0.7491\n",
      "  F1-score : 0.7160\n",
      "    Class 0: Precision=0.8916, Recall=0.7629, F1-score=0.8222\n",
      "    Class 1: Precision=0.5208, Recall=0.7353, F1-score=0.6098\n",
      "[21.0300, 75.0400] Epoch 1/5, Loss: 10.3961\n",
      "[21.0300, 75.0400] Epoch 2/5, Loss: 9.7956\n",
      "[21.0300, 75.0400] Epoch 3/5, Loss: 9.5175\n",
      "[21.0300, 75.0400] Epoch 4/5, Loss: 9.0596\n",
      "[21.0300, 75.0400] Epoch 5/5, Loss: 8.8048\n",
      "[21.0300, 75.0400] Epoch 6/5, Loss: 8.8143\n",
      "[21.0300, 75.0400] Epoch 7/5, Loss: 8.5071\n",
      "[21.0300, 75.0400] Epoch 8/5, Loss: 8.2699\n",
      "[21.0300, 75.0400] Epoch 9/5, Loss: 7.9179\n",
      "[21.0300, 75.0400] Epoch 10/5, Loss: 7.7361\n",
      "[21.0300, 75.0400] Epoch 11/5, Loss: 7.4246\n",
      "[21.0300, 75.0400] Epoch 12/5, Loss: 7.1731\n",
      "[21.0300, 75.0400] Epoch 13/5, Loss: 6.8595\n",
      "[21.0300, 75.0400] Epoch 14/5, Loss: 6.5192\n",
      "[21.0300, 75.0400] Epoch 15/5, Loss: 6.4248\n",
      "[21.0300, 75.0400] Epoch 16/5, Loss: 6.1563\n",
      "[21.0300, 75.0400] Epoch 17/5, Loss: 5.8351\n"
     ]
    },
    {
     "name": "stderr",
     "output_type": "stream",
     "text": [
      "Stations:   4%|▎         | 8/217 [00:11<04:46,  1.37s/it]"
     ]
    },
    {
     "name": "stdout",
     "output_type": "stream",
     "text": [
      "[21.0300, 75.0400] Epoch 18/5, Loss: 5.6262\n",
      "[21.0300, 75.0400] Epoch 19/5, Loss: 5.5788\n",
      "[21.0300, 75.0400] Epoch 20/5, Loss: 5.0644\n",
      "📍 Station (21.0300, 75.0400)\n",
      "  Accuracy : 0.8417\n",
      "  Precision: 0.5571\n",
      "  Recall   : 0.5384\n",
      "  F1-score : 0.5432\n",
      "    Class 0: Precision=0.8919, Recall=0.9340, F1-score=0.9124\n",
      "    Class 1: Precision=0.2222, Recall=0.1429, F1-score=0.1739\n",
      "[19.3700, 75.4700] Epoch 1/5, Loss: 12.2914\n",
      "[19.3700, 75.4700] Epoch 2/5, Loss: 12.0559\n",
      "[19.3700, 75.4700] Epoch 3/5, Loss: 11.6290\n",
      "[19.3700, 75.4700] Epoch 4/5, Loss: 11.1501\n",
      "[19.3700, 75.4700] Epoch 5/5, Loss: 10.9381\n",
      "[19.3700, 75.4700] Epoch 6/5, Loss: 10.6860\n",
      "[19.3700, 75.4700] Epoch 7/5, Loss: 10.3463\n",
      "[19.3700, 75.4700] Epoch 8/5, Loss: 9.9592\n",
      "[19.3700, 75.4700] Epoch 9/5, Loss: 9.5642\n",
      "[19.3700, 75.4700] Epoch 10/5, Loss: 9.2890\n",
      "[19.3700, 75.4700] Epoch 11/5, Loss: 8.9553\n",
      "[19.3700, 75.4700] Epoch 12/5, Loss: 8.9195\n",
      "[19.3700, 75.4700] Epoch 13/5, Loss: 8.8959\n",
      "[19.3700, 75.4700] Epoch 14/5, Loss: 8.3251\n",
      "[19.3700, 75.4700] Epoch 15/5, Loss: 8.1204\n",
      "[19.3700, 75.4700] Epoch 16/5, Loss: 7.6353\n",
      "[19.3700, 75.4700] Epoch 17/5, Loss: 7.1047\n",
      "[19.3700, 75.4700] Epoch 18/5, Loss: 7.0486\n"
     ]
    },
    {
     "name": "stderr",
     "output_type": "stream",
     "text": [
      "Stations:   4%|▍         | 9/217 [00:12<04:58,  1.43s/it]"
     ]
    },
    {
     "name": "stdout",
     "output_type": "stream",
     "text": [
      "[19.3700, 75.4700] Epoch 19/5, Loss: 6.8413\n",
      "[19.3700, 75.4700] Epoch 20/5, Loss: 6.3599\n",
      "📍 Station (19.3700, 75.4700)\n",
      "  Accuracy : 0.8357\n",
      "  Precision: 0.5699\n",
      "  Recall   : 0.6780\n",
      "  F1-score : 0.5828\n",
      "    Class 0: Precision=0.9658, Recall=0.8561, F1-score=0.9076\n",
      "    Class 1: Precision=0.1739, Recall=0.5000, F1-score=0.2581\n",
      "[19.0300, 73.5000] Epoch 1/5, Loss: 12.2104\n",
      "[19.0300, 73.5000] Epoch 2/5, Loss: 11.0615\n",
      "[19.0300, 73.5000] Epoch 3/5, Loss: 10.4094\n",
      "[19.0300, 73.5000] Epoch 4/5, Loss: 9.9626\n",
      "[19.0300, 73.5000] Epoch 5/5, Loss: 9.5911\n",
      "[19.0300, 73.5000] Epoch 6/5, Loss: 9.4119\n",
      "[19.0300, 73.5000] Epoch 7/5, Loss: 8.9081\n",
      "[19.0300, 73.5000] Epoch 8/5, Loss: 8.0803\n",
      "[19.0300, 73.5000] Epoch 9/5, Loss: 7.9897\n",
      "[19.0300, 73.5000] Epoch 10/5, Loss: 7.4912\n",
      "[19.0300, 73.5000] Epoch 11/5, Loss: 7.0220\n",
      "[19.0300, 73.5000] Epoch 12/5, Loss: 6.6269\n",
      "[19.0300, 73.5000] Epoch 13/5, Loss: 6.4072\n",
      "[19.0300, 73.5000] Epoch 14/5, Loss: 6.0857\n",
      "[19.0300, 73.5000] Epoch 15/5, Loss: 5.7864\n",
      "[19.0300, 73.5000] Epoch 16/5, Loss: 5.4784\n",
      "[19.0300, 73.5000] Epoch 17/5, Loss: 5.1663\n",
      "[19.0300, 73.5000] Epoch 18/5, Loss: 4.7669\n",
      "[19.0300, 73.5000] Epoch 19/5, Loss: 4.4274\n"
     ]
    },
    {
     "name": "stderr",
     "output_type": "stream",
     "text": [
      "Stations:   5%|▍         | 10/217 [00:14<05:05,  1.48s/it]"
     ]
    },
    {
     "name": "stdout",
     "output_type": "stream",
     "text": [
      "[19.0300, 73.5000] Epoch 20/5, Loss: 4.6559\n",
      "📍 Station (19.0300, 73.5000)\n",
      "  Accuracy : 0.8794\n",
      "  Precision: 0.4493\n",
      "  Recall   : 0.4882\n",
      "  F1-score : 0.4679\n",
      "    Class 0: Precision=0.8986, Recall=0.9764, F1-score=0.9358\n",
      "    Class 1: Precision=0.0000, Recall=0.0000, F1-score=0.0000\n",
      "[18.7200, 76.3600] Epoch 1/5, Loss: 2.2074\n",
      "[18.7200, 76.3600] Epoch 2/5, Loss: 1.9028\n",
      "[18.7200, 76.3600] Epoch 3/5, Loss: 1.9722\n",
      "[18.7200, 76.3600] Epoch 4/5, Loss: 1.8789\n",
      "[18.7200, 76.3600] Epoch 5/5, Loss: 1.8278\n",
      "[18.7200, 76.3600] Epoch 6/5, Loss: 1.8600\n",
      "[18.7200, 76.3600] Epoch 7/5, Loss: 1.8906\n",
      "[18.7200, 76.3600] Epoch 8/5, Loss: 1.7852\n",
      "[18.7200, 76.3600] Epoch 9/5, Loss: 1.5592\n",
      "[18.7200, 76.3600] Epoch 10/5, Loss: 1.6329\n",
      "[18.7200, 76.3600] Epoch 11/5, Loss: 1.5910\n",
      "[18.7200, 76.3600] Epoch 12/5, Loss: 1.7305\n",
      "[18.7200, 76.3600] Epoch 13/5, Loss: 1.6027\n",
      "[18.7200, 76.3600] Epoch 14/5, Loss: 1.5229\n",
      "[18.7200, 76.3600] Epoch 15/5, Loss: 1.5212\n"
     ]
    },
    {
     "name": "stderr",
     "output_type": "stream",
     "text": [
      "Stations:   5%|▌         | 11/217 [00:14<03:47,  1.11s/it]"
     ]
    },
    {
     "name": "stdout",
     "output_type": "stream",
     "text": [
      "[18.7200, 76.3600] Epoch 16/5, Loss: 1.4119\n",
      "[18.7200, 76.3600] Epoch 17/5, Loss: 1.2496\n",
      "[18.7200, 76.3600] Epoch 18/5, Loss: 1.4424\n",
      "[18.7200, 76.3600] Epoch 19/5, Loss: 1.4629\n",
      "[18.7200, 76.3600] Epoch 20/5, Loss: 1.3570\n",
      "📍 Station (18.7200, 76.3600)\n",
      "  Accuracy : 1.0000\n",
      "  Precision: 1.0000\n",
      "  Recall   : 1.0000\n",
      "  F1-score : 1.0000\n",
      "    Class 0: Precision=1.0000, Recall=1.0000, F1-score=1.0000\n",
      "    Class 1: Precision=0.0000, Recall=0.0000, F1-score=0.0000\n",
      "[18.4300, 76.2300] Epoch 1/5, Loss: 11.4737\n",
      "[18.4300, 76.2300] Epoch 2/5, Loss: 11.2026\n",
      "[18.4300, 76.2300] Epoch 3/5, Loss: 11.0518\n",
      "[18.4300, 76.2300] Epoch 4/5, Loss: 10.5084\n",
      "[18.4300, 76.2300] Epoch 5/5, Loss: 10.0535\n",
      "[18.4300, 76.2300] Epoch 6/5, Loss: 10.0615\n",
      "[18.4300, 76.2300] Epoch 7/5, Loss: 9.3528\n",
      "[18.4300, 76.2300] Epoch 8/5, Loss: 9.1902\n",
      "[18.4300, 76.2300] Epoch 9/5, Loss: 8.5245\n",
      "[18.4300, 76.2300] Epoch 10/5, Loss: 8.5598\n",
      "[18.4300, 76.2300] Epoch 11/5, Loss: 8.4735\n",
      "[18.4300, 76.2300] Epoch 12/5, Loss: 8.0913\n",
      "[18.4300, 76.2300] Epoch 13/5, Loss: 7.9492\n",
      "[18.4300, 76.2300] Epoch 14/5, Loss: 7.2705\n",
      "[18.4300, 76.2300] Epoch 15/5, Loss: 7.1547\n",
      "[18.4300, 76.2300] Epoch 16/5, Loss: 6.8766\n",
      "[18.4300, 76.2300] Epoch 17/5, Loss: 6.6553\n"
     ]
    },
    {
     "name": "stderr",
     "output_type": "stream",
     "text": [
      "Stations:   6%|▌         | 12/217 [00:15<04:06,  1.20s/it]"
     ]
    },
    {
     "name": "stdout",
     "output_type": "stream",
     "text": [
      "[18.4300, 76.2300] Epoch 18/5, Loss: 6.2235\n",
      "[18.4300, 76.2300] Epoch 19/5, Loss: 6.2437\n",
      "[18.4300, 76.2300] Epoch 20/5, Loss: 5.7110\n",
      "📍 Station (18.4300, 76.2300)\n",
      "  Accuracy : 0.8582\n",
      "  Precision: 0.5738\n",
      "  Recall   : 0.5916\n",
      "  F1-score : 0.5809\n",
      "    Class 0: Precision=0.9333, Recall=0.9106, F1-score=0.9218\n",
      "    Class 1: Precision=0.2143, Recall=0.2727, F1-score=0.2400\n",
      "[19.1700, 77.2200] Epoch 1/5, Loss: 12.7967\n",
      "[19.1700, 77.2200] Epoch 2/5, Loss: 12.3088\n",
      "[19.1700, 77.2200] Epoch 3/5, Loss: 11.7113\n",
      "[19.1700, 77.2200] Epoch 4/5, Loss: 11.3335\n",
      "[19.1700, 77.2200] Epoch 5/5, Loss: 11.0028\n",
      "[19.1700, 77.2200] Epoch 6/5, Loss: 10.8138\n",
      "[19.1700, 77.2200] Epoch 7/5, Loss: 10.4963\n",
      "[19.1700, 77.2200] Epoch 8/5, Loss: 10.4012\n",
      "[19.1700, 77.2200] Epoch 9/5, Loss: 10.1912\n",
      "[19.1700, 77.2200] Epoch 10/5, Loss: 9.9606\n",
      "[19.1700, 77.2200] Epoch 11/5, Loss: 9.7428\n",
      "[19.1700, 77.2200] Epoch 12/5, Loss: 9.2594\n",
      "[19.1700, 77.2200] Epoch 13/5, Loss: 9.0272\n",
      "[19.1700, 77.2200] Epoch 14/5, Loss: 8.6396\n",
      "[19.1700, 77.2200] Epoch 15/5, Loss: 8.3743\n",
      "[19.1700, 77.2200] Epoch 16/5, Loss: 8.2023\n",
      "[19.1700, 77.2200] Epoch 17/5, Loss: 7.7532\n",
      "[19.1700, 77.2200] Epoch 18/5, Loss: 7.7099\n"
     ]
    },
    {
     "name": "stderr",
     "output_type": "stream",
     "text": [
      "Stations:   6%|▌         | 13/217 [00:17<04:27,  1.31s/it]"
     ]
    },
    {
     "name": "stdout",
     "output_type": "stream",
     "text": [
      "[19.1700, 77.2200] Epoch 19/5, Loss: 7.1365\n",
      "[19.1700, 77.2200] Epoch 20/5, Loss: 7.0490\n",
      "📍 Station (19.1700, 77.2200)\n",
      "  Accuracy : 0.7286\n",
      "  Precision: 0.5679\n",
      "  Recall   : 0.6427\n",
      "  F1-score : 0.5641\n",
      "    Class 0: Precision=0.9307, Recall=0.7520, F1-score=0.8319\n",
      "    Class 1: Precision=0.2051, Recall=0.5333, F1-score=0.2963\n",
      "[18.4800, 75.1100] Epoch 1/5, Loss: 11.3636\n",
      "[18.4800, 75.1100] Epoch 2/5, Loss: 11.1775\n",
      "[18.4800, 75.1100] Epoch 3/5, Loss: 10.7766\n",
      "[18.4800, 75.1100] Epoch 4/5, Loss: 10.4690\n",
      "[18.4800, 75.1100] Epoch 5/5, Loss: 10.2537\n",
      "[18.4800, 75.1100] Epoch 6/5, Loss: 9.9697\n",
      "[18.4800, 75.1100] Epoch 7/5, Loss: 9.7565\n",
      "[18.4800, 75.1100] Epoch 8/5, Loss: 9.3919\n",
      "[18.4800, 75.1100] Epoch 9/5, Loss: 9.1169\n",
      "[18.4800, 75.1100] Epoch 10/5, Loss: 8.5972\n",
      "[18.4800, 75.1100] Epoch 11/5, Loss: 8.3975\n",
      "[18.4800, 75.1100] Epoch 12/5, Loss: 8.1608\n",
      "[18.4800, 75.1100] Epoch 13/5, Loss: 7.5237\n",
      "[18.4800, 75.1100] Epoch 14/5, Loss: 7.0793\n",
      "[18.4800, 75.1100] Epoch 15/5, Loss: 6.9923\n",
      "[18.4800, 75.1100] Epoch 16/5, Loss: 7.1310\n",
      "[18.4800, 75.1100] Epoch 17/5, Loss: 6.6134\n",
      "[18.4800, 75.1100] Epoch 18/5, Loss: 5.8224\n",
      "[18.4800, 75.1100] Epoch 19/5, Loss: 5.5784\n"
     ]
    },
    {
     "name": "stderr",
     "output_type": "stream",
     "text": [
      "Stations:   6%|▋         | 14/217 [00:19<04:35,  1.36s/it]"
     ]
    },
    {
     "name": "stdout",
     "output_type": "stream",
     "text": [
      "[18.4800, 75.1100] Epoch 20/5, Loss: 5.2049\n",
      "📍 Station (18.4800, 75.1100)\n",
      "  Accuracy : 0.8889\n",
      "  Precision: 0.6713\n",
      "  Recall   : 0.5906\n",
      "  F1-score : 0.6127\n",
      "    Class 0: Precision=0.9141, Recall=0.9669, F1-score=0.9398\n",
      "    Class 1: Precision=0.4286, Recall=0.2143, F1-score=0.2857\n",
      "[19.3200, 77.0200] Epoch 1/5, Loss: 13.3167\n",
      "[19.3200, 77.0200] Epoch 2/5, Loss: 12.6953\n",
      "[19.3200, 77.0200] Epoch 3/5, Loss: 11.9959\n",
      "[19.3200, 77.0200] Epoch 4/5, Loss: 11.8928\n",
      "[19.3200, 77.0200] Epoch 5/5, Loss: 11.1786\n",
      "[19.3200, 77.0200] Epoch 6/5, Loss: 11.0109\n",
      "[19.3200, 77.0200] Epoch 7/5, Loss: 10.6375\n",
      "[19.3200, 77.0200] Epoch 8/5, Loss: 10.1158\n",
      "[19.3200, 77.0200] Epoch 9/5, Loss: 9.6657\n",
      "[19.3200, 77.0200] Epoch 10/5, Loss: 9.3430\n",
      "[19.3200, 77.0200] Epoch 11/5, Loss: 9.0457\n",
      "[19.3200, 77.0200] Epoch 12/5, Loss: 8.6497\n",
      "[19.3200, 77.0200] Epoch 13/5, Loss: 8.5110\n",
      "[19.3200, 77.0200] Epoch 14/5, Loss: 7.9780\n",
      "[19.3200, 77.0200] Epoch 15/5, Loss: 7.8983\n",
      "[19.3200, 77.0200] Epoch 16/5, Loss: 7.2893\n",
      "[19.3200, 77.0200] Epoch 17/5, Loss: 6.9415\n"
     ]
    },
    {
     "name": "stderr",
     "output_type": "stream",
     "text": [
      "Stations:   7%|▋         | 15/217 [00:20<04:46,  1.42s/it]"
     ]
    },
    {
     "name": "stdout",
     "output_type": "stream",
     "text": [
      "[19.3200, 77.0200] Epoch 18/5, Loss: 6.7619\n",
      "[19.3200, 77.0200] Epoch 19/5, Loss: 6.3246\n",
      "[19.3200, 77.0200] Epoch 20/5, Loss: 5.6672\n",
      "📍 Station (19.3200, 77.0200)\n",
      "  Accuracy : 0.8643\n",
      "  Precision: 0.5423\n",
      "  Recall   : 0.5902\n",
      "  F1-score : 0.5500\n",
      "    Class 0: Precision=0.9597, Recall=0.8947, F1-score=0.9261\n",
      "    Class 1: Precision=0.1250, Recall=0.2857, F1-score=0.1739\n",
      "[19.5100, 75.2400] Epoch 1/5, Loss: 12.4772\n",
      "[19.5100, 75.2400] Epoch 2/5, Loss: 11.9463\n",
      "[19.5100, 75.2400] Epoch 3/5, Loss: 11.8312\n",
      "[19.5100, 75.2400] Epoch 4/5, Loss: 11.3550\n",
      "[19.5100, 75.2400] Epoch 5/5, Loss: 11.2195\n",
      "[19.5100, 75.2400] Epoch 6/5, Loss: 11.0083\n",
      "[19.5100, 75.2400] Epoch 7/5, Loss: 10.7472\n",
      "[19.5100, 75.2400] Epoch 8/5, Loss: 10.2655\n",
      "[19.5100, 75.2400] Epoch 9/5, Loss: 10.0869\n",
      "[19.5100, 75.2400] Epoch 10/5, Loss: 9.8459\n",
      "[19.5100, 75.2400] Epoch 11/5, Loss: 9.4444\n",
      "[19.5100, 75.2400] Epoch 12/5, Loss: 8.9341\n",
      "[19.5100, 75.2400] Epoch 13/5, Loss: 8.5074\n",
      "[19.5100, 75.2400] Epoch 14/5, Loss: 8.4769\n",
      "[19.5100, 75.2400] Epoch 15/5, Loss: 7.8789\n",
      "[19.5100, 75.2400] Epoch 16/5, Loss: 7.6495\n",
      "[19.5100, 75.2400] Epoch 17/5, Loss: 7.0976\n",
      "[19.5100, 75.2400] Epoch 18/5, Loss: 6.4344\n",
      "[19.5100, 75.2400] Epoch 19/5, Loss: 6.3009\n"
     ]
    },
    {
     "name": "stderr",
     "output_type": "stream",
     "text": [
      "Stations:   7%|▋         | 16/217 [00:22<04:52,  1.45s/it]"
     ]
    },
    {
     "name": "stdout",
     "output_type": "stream",
     "text": [
      "[19.5100, 75.2400] Epoch 20/5, Loss: 5.8228\n",
      "📍 Station (19.5100, 75.2400)\n",
      "  Accuracy : 0.9143\n",
      "  Precision: 0.5919\n",
      "  Recall   : 0.5385\n",
      "  F1-score : 0.5489\n",
      "    Class 0: Precision=0.9338, Recall=0.9769, F1-score=0.9549\n",
      "    Class 1: Precision=0.2500, Recall=0.1000, F1-score=0.1429\n",
      "[18.1500, 76.3000] Epoch 1/5, Loss: 12.6320\n",
      "[18.1500, 76.3000] Epoch 2/5, Loss: 12.0410\n",
      "[18.1500, 76.3000] Epoch 3/5, Loss: 11.6750\n",
      "[18.1500, 76.3000] Epoch 4/5, Loss: 11.2515\n",
      "[18.1500, 76.3000] Epoch 5/5, Loss: 10.9865\n",
      "[18.1500, 76.3000] Epoch 6/5, Loss: 10.4996\n",
      "[18.1500, 76.3000] Epoch 7/5, Loss: 10.3225\n",
      "[18.1500, 76.3000] Epoch 8/5, Loss: 9.9332\n",
      "[18.1500, 76.3000] Epoch 9/5, Loss: 9.2837\n",
      "[18.1500, 76.3000] Epoch 10/5, Loss: 8.7421\n",
      "[18.1500, 76.3000] Epoch 11/5, Loss: 8.5152\n",
      "[18.1500, 76.3000] Epoch 12/5, Loss: 7.9958\n",
      "[18.1500, 76.3000] Epoch 13/5, Loss: 7.7732\n",
      "[18.1500, 76.3000] Epoch 14/5, Loss: 7.1402\n",
      "[18.1500, 76.3000] Epoch 15/5, Loss: 6.6211\n",
      "[18.1500, 76.3000] Epoch 16/5, Loss: 6.2155\n",
      "[18.1500, 76.3000] Epoch 17/5, Loss: 5.9780\n"
     ]
    },
    {
     "name": "stderr",
     "output_type": "stream",
     "text": [
      "Stations:   8%|▊         | 17/217 [00:23<04:53,  1.47s/it]"
     ]
    },
    {
     "name": "stdout",
     "output_type": "stream",
     "text": [
      "[18.1500, 76.3000] Epoch 18/5, Loss: 5.3725\n",
      "[18.1500, 76.3000] Epoch 19/5, Loss: 5.3437\n",
      "[18.1500, 76.3000] Epoch 20/5, Loss: 5.0124\n",
      "📍 Station (18.1500, 76.3000)\n",
      "  Accuracy : 0.8571\n",
      "  Precision: 0.4348\n",
      "  Recall   : 0.4918\n",
      "  F1-score : 0.4615\n",
      "    Class 0: Precision=0.8696, Recall=0.9836, F1-score=0.9231\n",
      "    Class 1: Precision=0.0000, Recall=0.0000, F1-score=0.0000\n",
      "[19.5200, 75.4400] Epoch 1/5, Loss: 12.3432\n",
      "[19.5200, 75.4400] Epoch 2/5, Loss: 12.0620\n",
      "[19.5200, 75.4400] Epoch 3/5, Loss: 11.6196\n",
      "[19.5200, 75.4400] Epoch 4/5, Loss: 11.3411\n",
      "[19.5200, 75.4400] Epoch 5/5, Loss: 10.9478\n",
      "[19.5200, 75.4400] Epoch 6/5, Loss: 10.9196\n",
      "[19.5200, 75.4400] Epoch 7/5, Loss: 10.5862\n",
      "[19.5200, 75.4400] Epoch 8/5, Loss: 10.2324\n",
      "[19.5200, 75.4400] Epoch 9/5, Loss: 9.7423\n",
      "[19.5200, 75.4400] Epoch 10/5, Loss: 9.6496\n",
      "[19.5200, 75.4400] Epoch 11/5, Loss: 9.3596\n",
      "[19.5200, 75.4400] Epoch 12/5, Loss: 8.9291\n",
      "[19.5200, 75.4400] Epoch 13/5, Loss: 8.6714\n",
      "[19.5200, 75.4400] Epoch 14/5, Loss: 8.6530\n",
      "[19.5200, 75.4400] Epoch 15/5, Loss: 8.0949\n",
      "[19.5200, 75.4400] Epoch 16/5, Loss: 7.7478\n",
      "[19.5200, 75.4400] Epoch 17/5, Loss: 7.6941\n",
      "[19.5200, 75.4400] Epoch 18/5, Loss: 7.4406\n",
      "[19.5200, 75.4400] Epoch 19/5, Loss: 7.0314\n"
     ]
    },
    {
     "name": "stderr",
     "output_type": "stream",
     "text": [
      "Stations:   8%|▊         | 18/217 [00:24<04:39,  1.40s/it]"
     ]
    },
    {
     "name": "stdout",
     "output_type": "stream",
     "text": [
      "[19.5200, 75.4400] Epoch 20/5, Loss: 6.8226\n",
      "📍 Station (19.5200, 75.4400)\n",
      "  Accuracy : 0.9137\n",
      "  Precision: 0.6021\n",
      "  Recall   : 0.6021\n",
      "  F1-score : 0.6021\n",
      "    Class 0: Precision=0.9542, Recall=0.9542, F1-score=0.9542\n",
      "    Class 1: Precision=0.2500, Recall=0.2500, F1-score=0.2500\n",
      "[18.0900, 74.3500] Epoch 1/5, Loss: 12.7082\n",
      "[18.0900, 74.3500] Epoch 2/5, Loss: 12.0220\n",
      "[18.0900, 74.3500] Epoch 3/5, Loss: 11.3672\n",
      "[18.0900, 74.3500] Epoch 4/5, Loss: 10.9405\n",
      "[18.0900, 74.3500] Epoch 5/5, Loss: 10.6752\n",
      "[18.0900, 74.3500] Epoch 6/5, Loss: 10.0648\n",
      "[18.0900, 74.3500] Epoch 7/5, Loss: 9.7949\n",
      "[18.0900, 74.3500] Epoch 8/5, Loss: 9.2732\n",
      "[18.0900, 74.3500] Epoch 9/5, Loss: 9.2647\n",
      "[18.0900, 74.3500] Epoch 10/5, Loss: 8.9961\n",
      "[18.0900, 74.3500] Epoch 11/5, Loss: 8.3416\n",
      "[18.0900, 74.3500] Epoch 12/5, Loss: 7.7033\n",
      "[18.0900, 74.3500] Epoch 13/5, Loss: 8.3645\n",
      "[18.0900, 74.3500] Epoch 14/5, Loss: 7.7080\n",
      "[18.0900, 74.3500] Epoch 15/5, Loss: 7.2486\n",
      "[18.0900, 74.3500] Epoch 16/5, Loss: 6.9419\n",
      "[18.0900, 74.3500] Epoch 17/5, Loss: 7.2846\n"
     ]
    },
    {
     "name": "stderr",
     "output_type": "stream",
     "text": [
      "Stations:   9%|▉         | 19/217 [00:26<04:48,  1.46s/it]"
     ]
    },
    {
     "name": "stdout",
     "output_type": "stream",
     "text": [
      "[18.0900, 74.3500] Epoch 18/5, Loss: 6.7090\n",
      "[18.0900, 74.3500] Epoch 19/5, Loss: 6.7341\n",
      "[18.0900, 74.3500] Epoch 20/5, Loss: 5.8674\n",
      "📍 Station (18.0900, 74.3500)\n",
      "  Accuracy : 0.9203\n",
      "  Precision: 0.4635\n",
      "  Recall   : 0.4961\n",
      "  F1-score : 0.4792\n",
      "    Class 0: Precision=0.9270, Recall=0.9922, F1-score=0.9585\n",
      "    Class 1: Precision=0.0000, Recall=0.0000, F1-score=0.0000\n",
      "[18.1400, 75.4200] Epoch 1/5, Loss: 12.6468\n",
      "[18.1400, 75.4200] Epoch 2/5, Loss: 11.9512\n",
      "[18.1400, 75.4200] Epoch 3/5, Loss: 11.5320\n",
      "[18.1400, 75.4200] Epoch 4/5, Loss: 11.1383\n",
      "[18.1400, 75.4200] Epoch 5/5, Loss: 11.1827\n",
      "[18.1400, 75.4200] Epoch 6/5, Loss: 10.6709\n",
      "[18.1400, 75.4200] Epoch 7/5, Loss: 10.3921\n",
      "[18.1400, 75.4200] Epoch 8/5, Loss: 9.6944\n",
      "[18.1400, 75.4200] Epoch 9/5, Loss: 9.7661\n",
      "[18.1400, 75.4200] Epoch 10/5, Loss: 9.7619\n",
      "[18.1400, 75.4200] Epoch 11/5, Loss: 8.9557\n",
      "[18.1400, 75.4200] Epoch 12/5, Loss: 8.4737\n",
      "[18.1400, 75.4200] Epoch 13/5, Loss: 8.6837\n",
      "[18.1400, 75.4200] Epoch 14/5, Loss: 8.0328\n",
      "[18.1400, 75.4200] Epoch 15/5, Loss: 8.0547\n",
      "[18.1400, 75.4200] Epoch 16/5, Loss: 7.6855\n",
      "[18.1400, 75.4200] Epoch 17/5, Loss: 7.2395\n",
      "[18.1400, 75.4200] Epoch 18/5, Loss: 7.0131\n"
     ]
    },
    {
     "name": "stderr",
     "output_type": "stream",
     "text": [
      "Stations:   9%|▉         | 20/217 [00:28<04:53,  1.49s/it]"
     ]
    },
    {
     "name": "stdout",
     "output_type": "stream",
     "text": [
      "[18.1400, 75.4200] Epoch 19/5, Loss: 6.7393\n",
      "[18.1400, 75.4200] Epoch 20/5, Loss: 6.2779\n",
      "📍 Station (18.1400, 75.4200)\n",
      "  Accuracy : 0.9416\n",
      "  Precision: 0.7241\n",
      "  Recall   : 0.5586\n",
      "  F1-score : 0.5848\n",
      "    Class 0: Precision=0.9481, Recall=0.9922, F1-score=0.9697\n",
      "    Class 1: Precision=0.5000, Recall=0.1250, F1-score=0.2000\n",
      "[19.0000, 75.4300] Epoch 1/5, Loss: 10.2867\n",
      "[19.0000, 75.4300] Epoch 2/5, Loss: 9.9191\n",
      "[19.0000, 75.4300] Epoch 3/5, Loss: 9.5054\n",
      "[19.0000, 75.4300] Epoch 4/5, Loss: 9.1819\n",
      "[19.0000, 75.4300] Epoch 5/5, Loss: 8.7568\n",
      "[19.0000, 75.4300] Epoch 6/5, Loss: 8.3864\n",
      "[19.0000, 75.4300] Epoch 7/5, Loss: 8.2393\n",
      "[19.0000, 75.4300] Epoch 8/5, Loss: 8.1269\n",
      "[19.0000, 75.4300] Epoch 9/5, Loss: 7.6915\n",
      "[19.0000, 75.4300] Epoch 10/5, Loss: 7.4180\n",
      "[19.0000, 75.4300] Epoch 11/5, Loss: 7.2797\n",
      "[19.0000, 75.4300] Epoch 12/5, Loss: 7.1490\n",
      "[19.0000, 75.4300] Epoch 13/5, Loss: 6.7098\n",
      "[19.0000, 75.4300] Epoch 14/5, Loss: 6.6954\n",
      "[19.0000, 75.4300] Epoch 15/5, Loss: 6.1512\n",
      "[19.0000, 75.4300] Epoch 16/5, Loss: 6.1285\n",
      "[19.0000, 75.4300] Epoch 17/5, Loss: 5.9731\n"
     ]
    },
    {
     "name": "stderr",
     "output_type": "stream",
     "text": [
      "Stations:  10%|▉         | 21/217 [00:29<04:37,  1.41s/it]"
     ]
    },
    {
     "name": "stdout",
     "output_type": "stream",
     "text": [
      "[19.0000, 75.4300] Epoch 18/5, Loss: 5.4247\n",
      "[19.0000, 75.4300] Epoch 19/5, Loss: 5.4318\n",
      "[19.0000, 75.4300] Epoch 20/5, Loss: 5.1318\n",
      "📍 Station (19.0000, 75.4300)\n",
      "  Accuracy : 0.9340\n",
      "  Precision: 0.7752\n",
      "  Recall   : 0.6773\n",
      "  F1-score : 0.7132\n",
      "    Class 0: Precision=0.9505, Recall=0.9796, F1-score=0.9648\n",
      "    Class 1: Precision=0.6000, Recall=0.3750, F1-score=0.4615\n",
      "[20.4000, 75.1400] Epoch 1/5, Loss: 12.4247\n",
      "[20.4000, 75.1400] Epoch 2/5, Loss: 11.7191\n",
      "[20.4000, 75.1400] Epoch 3/5, Loss: 11.4299\n",
      "[20.4000, 75.1400] Epoch 4/5, Loss: 11.0570\n",
      "[20.4000, 75.1400] Epoch 5/5, Loss: 10.6221\n",
      "[20.4000, 75.1400] Epoch 6/5, Loss: 10.4666\n",
      "[20.4000, 75.1400] Epoch 7/5, Loss: 9.9335\n",
      "[20.4000, 75.1400] Epoch 8/5, Loss: 9.8181\n",
      "[20.4000, 75.1400] Epoch 9/5, Loss: 9.4442\n",
      "[20.4000, 75.1400] Epoch 10/5, Loss: 9.1396\n",
      "[20.4000, 75.1400] Epoch 11/5, Loss: 9.0580\n",
      "[20.4000, 75.1400] Epoch 12/5, Loss: 8.5226\n",
      "[20.4000, 75.1400] Epoch 13/5, Loss: 7.9541\n",
      "[20.4000, 75.1400] Epoch 14/5, Loss: 8.0890\n",
      "[20.4000, 75.1400] Epoch 15/5, Loss: 7.2952\n",
      "[20.4000, 75.1400] Epoch 16/5, Loss: 6.9142\n",
      "[20.4000, 75.1400] Epoch 17/5, Loss: 6.8014\n"
     ]
    },
    {
     "name": "stderr",
     "output_type": "stream",
     "text": [
      "Stations:  10%|█         | 22/217 [00:30<04:37,  1.42s/it]"
     ]
    },
    {
     "name": "stdout",
     "output_type": "stream",
     "text": [
      "[20.4000, 75.1400] Epoch 18/5, Loss: 6.5946\n",
      "[20.4000, 75.1400] Epoch 19/5, Loss: 5.8831\n",
      "[20.4000, 75.1400] Epoch 20/5, Loss: 5.5062\n",
      "📍 Station (20.4000, 75.1400)\n",
      "  Accuracy : 0.7071\n",
      "  Precision: 0.4842\n",
      "  Recall   : 0.4768\n",
      "  F1-score : 0.4758\n",
      "    Class 0: Precision=0.8649, Recall=0.7869, F1-score=0.8240\n",
      "    Class 1: Precision=0.1034, Recall=0.1667, F1-score=0.1277\n",
      "[18.2700, 73.2400] Epoch 1/5, Loss: 4.1895\n",
      "[18.2700, 73.2400] Epoch 2/5, Loss: 4.0148\n",
      "[18.2700, 73.2400] Epoch 3/5, Loss: 3.8295\n",
      "[18.2700, 73.2400] Epoch 4/5, Loss: 3.8464\n",
      "[18.2700, 73.2400] Epoch 5/5, Loss: 3.7221\n",
      "[18.2700, 73.2400] Epoch 6/5, Loss: 3.6959\n",
      "[18.2700, 73.2400] Epoch 7/5, Loss: 3.6402\n",
      "[18.2700, 73.2400] Epoch 8/5, Loss: 3.5407\n",
      "[18.2700, 73.2400] Epoch 9/5, Loss: 3.4958\n",
      "[18.2700, 73.2400] Epoch 10/5, Loss: 3.3631\n",
      "[18.2700, 73.2400] Epoch 11/5, Loss: 3.3724\n",
      "[18.2700, 73.2400] Epoch 12/5, Loss: 3.3007\n",
      "[18.2700, 73.2400] Epoch 13/5, Loss: 3.2039\n",
      "[18.2700, 73.2400] Epoch 14/5, Loss: 3.2125\n",
      "[18.2700, 73.2400] Epoch 15/5, Loss: 3.1185\n",
      "[18.2700, 73.2400] Epoch 16/5, Loss: 3.0592\n",
      "[18.2700, 73.2400] Epoch 17/5, Loss: 2.9696\n"
     ]
    },
    {
     "name": "stderr",
     "output_type": "stream",
     "text": [
      "Stations:  11%|█         | 23/217 [00:31<03:44,  1.16s/it]"
     ]
    },
    {
     "name": "stdout",
     "output_type": "stream",
     "text": [
      "[18.2700, 73.2400] Epoch 18/5, Loss: 2.9208\n",
      "[18.2700, 73.2400] Epoch 19/5, Loss: 2.8459\n",
      "[18.2700, 73.2400] Epoch 20/5, Loss: 2.7424\n",
      "📍 Station (18.2700, 73.2400)\n",
      "  Accuracy : 0.6279\n",
      "  Precision: 0.5905\n",
      "  Recall   : 0.5905\n",
      "  F1-score : 0.5905\n",
      "    Class 0: Precision=0.7143, Recall=0.7143, F1-score=0.7143\n",
      "    Class 1: Precision=0.4667, Recall=0.4667, F1-score=0.4667\n",
      "[19.1800, 73.0300] Epoch 1/5, Loss: 12.8274\n",
      "[19.1800, 73.0300] Epoch 2/5, Loss: 12.0244\n",
      "[19.1800, 73.0300] Epoch 3/5, Loss: 11.5995\n",
      "[19.1800, 73.0300] Epoch 4/5, Loss: 11.2618\n",
      "[19.1800, 73.0300] Epoch 5/5, Loss: 10.6928\n",
      "[19.1800, 73.0300] Epoch 6/5, Loss: 10.4705\n",
      "[19.1800, 73.0300] Epoch 7/5, Loss: 10.0940\n",
      "[19.1800, 73.0300] Epoch 8/5, Loss: 9.8965\n",
      "[19.1800, 73.0300] Epoch 9/5, Loss: 9.6101\n",
      "[19.1800, 73.0300] Epoch 10/5, Loss: 9.4019\n",
      "[19.1800, 73.0300] Epoch 11/5, Loss: 9.1414\n",
      "[19.1800, 73.0300] Epoch 12/5, Loss: 8.9321\n",
      "[19.1800, 73.0300] Epoch 13/5, Loss: 8.7696\n",
      "[19.1800, 73.0300] Epoch 14/5, Loss: 8.5579\n",
      "[19.1800, 73.0300] Epoch 15/5, Loss: 8.2676\n",
      "[19.1800, 73.0300] Epoch 16/5, Loss: 8.1473\n",
      "[19.1800, 73.0300] Epoch 17/5, Loss: 7.8187\n",
      "[19.1800, 73.0300] Epoch 18/5, Loss: 7.6651\n",
      "[19.1800, 73.0300] Epoch 19/5, Loss: 7.3767\n"
     ]
    },
    {
     "name": "stderr",
     "output_type": "stream",
     "text": [
      "Stations:  11%|█         | 24/217 [00:32<04:06,  1.28s/it]"
     ]
    },
    {
     "name": "stdout",
     "output_type": "stream",
     "text": [
      "[19.1800, 73.0300] Epoch 20/5, Loss: 7.2019\n",
      "📍 Station (19.1800, 73.0300)\n",
      "  Accuracy : 0.7143\n",
      "  Precision: 0.6514\n",
      "  Recall   : 0.6603\n",
      "  F1-score : 0.6551\n",
      "    Class 0: Precision=0.8144, Recall=0.7822, F1-score=0.7980\n",
      "    Class 1: Precision=0.4884, Recall=0.5385, F1-score=0.5122\n",
      "[20.1600, 75.4600] Epoch 1/5, Loss: 12.7963\n",
      "[20.1600, 75.4600] Epoch 2/5, Loss: 12.2884\n",
      "[20.1600, 75.4600] Epoch 3/5, Loss: 11.8709\n",
      "[20.1600, 75.4600] Epoch 4/5, Loss: 11.5534\n",
      "[20.1600, 75.4600] Epoch 5/5, Loss: 11.0246\n",
      "[20.1600, 75.4600] Epoch 6/5, Loss: 10.9160\n",
      "[20.1600, 75.4600] Epoch 7/5, Loss: 10.6772\n",
      "[20.1600, 75.4600] Epoch 8/5, Loss: 10.2638\n",
      "[20.1600, 75.4600] Epoch 9/5, Loss: 10.0894\n",
      "[20.1600, 75.4600] Epoch 10/5, Loss: 9.7757\n",
      "[20.1600, 75.4600] Epoch 11/5, Loss: 9.4936\n",
      "[20.1600, 75.4600] Epoch 12/5, Loss: 9.5663\n",
      "[20.1600, 75.4600] Epoch 13/5, Loss: 9.1097\n",
      "[20.1600, 75.4600] Epoch 14/5, Loss: 8.7135\n",
      "[20.1600, 75.4600] Epoch 15/5, Loss: 8.4851\n",
      "[20.1600, 75.4600] Epoch 16/5, Loss: 8.0233\n",
      "[20.1600, 75.4600] Epoch 17/5, Loss: 7.5875\n"
     ]
    },
    {
     "name": "stderr",
     "output_type": "stream",
     "text": [
      "Stations:  12%|█▏        | 25/217 [00:33<03:48,  1.19s/it]"
     ]
    },
    {
     "name": "stdout",
     "output_type": "stream",
     "text": [
      "[20.1600, 75.4600] Epoch 18/5, Loss: 7.6539\n",
      "[20.1600, 75.4600] Epoch 19/5, Loss: 7.2477\n",
      "[20.1600, 75.4600] Epoch 20/5, Loss: 6.9234\n",
      "📍 Station (20.1600, 75.4600)\n",
      "  Accuracy : 0.9291\n",
      "  Precision: 0.5779\n",
      "  Recall   : 0.5565\n",
      "  F1-score : 0.5648\n",
      "    Class 0: Precision=0.9559, Recall=0.9701, F1-score=0.9630\n",
      "    Class 1: Precision=0.2000, Recall=0.1429, F1-score=0.1667\n",
      "[18.0800, 73.5100] Epoch 1/5, Loss: 12.7745\n",
      "[18.0800, 73.5100] Epoch 2/5, Loss: 12.0481\n",
      "[18.0800, 73.5100] Epoch 3/5, Loss: 11.2946\n",
      "[18.0800, 73.5100] Epoch 4/5, Loss: 11.0340\n",
      "[18.0800, 73.5100] Epoch 5/5, Loss: 10.5567\n",
      "[18.0800, 73.5100] Epoch 6/5, Loss: 10.0341\n",
      "[18.0800, 73.5100] Epoch 7/5, Loss: 9.6798\n",
      "[18.0800, 73.5100] Epoch 8/5, Loss: 9.3418\n",
      "[18.0800, 73.5100] Epoch 9/5, Loss: 9.0140\n",
      "[18.0800, 73.5100] Epoch 10/5, Loss: 8.5758\n",
      "[18.0800, 73.5100] Epoch 11/5, Loss: 8.0528\n",
      "[18.0800, 73.5100] Epoch 12/5, Loss: 7.8619\n",
      "[18.0800, 73.5100] Epoch 13/5, Loss: 7.5548\n",
      "[18.0800, 73.5100] Epoch 14/5, Loss: 7.2267\n",
      "[18.0800, 73.5100] Epoch 15/5, Loss: 6.9067\n",
      "[18.0800, 73.5100] Epoch 16/5, Loss: 6.7807\n",
      "[18.0800, 73.5100] Epoch 17/5, Loss: 6.3756\n",
      "[18.0800, 73.5100] Epoch 18/5, Loss: 6.2586\n"
     ]
    },
    {
     "name": "stderr",
     "output_type": "stream",
     "text": [
      "Stations:  12%|█▏        | 26/217 [00:35<04:02,  1.27s/it]"
     ]
    },
    {
     "name": "stdout",
     "output_type": "stream",
     "text": [
      "[18.0800, 73.5100] Epoch 19/5, Loss: 5.5912\n",
      "[18.0800, 73.5100] Epoch 20/5, Loss: 5.2735\n",
      "📍 Station (18.0800, 73.5100)\n",
      "  Accuracy : 0.8156\n",
      "  Precision: 0.6032\n",
      "  Recall   : 0.5774\n",
      "  F1-score : 0.5860\n",
      "    Class 0: Precision=0.8730, Recall=0.9167, F1-score=0.8943\n",
      "    Class 1: Precision=0.3333, Recall=0.2381, F1-score=0.2778\n",
      "[21.0200, 76.0300] Epoch 1/5, Loss: 12.7390\n",
      "[21.0200, 76.0300] Epoch 2/5, Loss: 12.1475\n",
      "[21.0200, 76.0300] Epoch 3/5, Loss: 11.6257\n",
      "[21.0200, 76.0300] Epoch 4/5, Loss: 11.2556\n",
      "[21.0200, 76.0300] Epoch 5/5, Loss: 10.4873\n",
      "[21.0200, 76.0300] Epoch 6/5, Loss: 10.3837\n",
      "[21.0200, 76.0300] Epoch 7/5, Loss: 9.7448\n",
      "[21.0200, 76.0300] Epoch 8/5, Loss: 9.4365\n",
      "[21.0200, 76.0300] Epoch 9/5, Loss: 9.2539\n",
      "[21.0200, 76.0300] Epoch 10/5, Loss: 8.4897\n",
      "[21.0200, 76.0300] Epoch 11/5, Loss: 8.0936\n",
      "[21.0200, 76.0300] Epoch 12/5, Loss: 7.7596\n",
      "[21.0200, 76.0300] Epoch 13/5, Loss: 7.4086\n",
      "[21.0200, 76.0300] Epoch 14/5, Loss: 6.9253\n",
      "[21.0200, 76.0300] Epoch 15/5, Loss: 6.3805\n",
      "[21.0200, 76.0300] Epoch 16/5, Loss: 6.0181\n",
      "[21.0200, 76.0300] Epoch 17/5, Loss: 5.4291\n",
      "[21.0200, 76.0300] Epoch 18/5, Loss: 5.4433\n",
      "[21.0200, 76.0300] Epoch 19/5, Loss: 5.1221\n"
     ]
    },
    {
     "name": "stderr",
     "output_type": "stream",
     "text": [
      "Stations:  12%|█▏        | 27/217 [00:36<04:16,  1.35s/it]"
     ]
    },
    {
     "name": "stdout",
     "output_type": "stream",
     "text": [
      "[21.0200, 76.0300] Epoch 20/5, Loss: 4.4315\n",
      "📍 Station (21.0200, 76.0300)\n",
      "  Accuracy : 0.8429\n",
      "  Precision: 0.4987\n",
      "  Recall   : 0.4987\n",
      "  F1-score : 0.4987\n",
      "    Class 0: Precision=0.9141, Recall=0.9141, F1-score=0.9141\n",
      "    Class 1: Precision=0.0833, Recall=0.0833, F1-score=0.0833\n",
      "[18.4700, 77.4400] Epoch 1/5, Loss: 12.5344\n",
      "[18.4700, 77.4400] Epoch 2/5, Loss: 11.7712\n",
      "[18.4700, 77.4400] Epoch 3/5, Loss: 11.3034\n",
      "[18.4700, 77.4400] Epoch 4/5, Loss: 11.1044\n",
      "[18.4700, 77.4400] Epoch 5/5, Loss: 10.9196\n",
      "[18.4700, 77.4400] Epoch 6/5, Loss: 10.6055\n",
      "[18.4700, 77.4400] Epoch 7/5, Loss: 10.5456\n",
      "[18.4700, 77.4400] Epoch 8/5, Loss: 10.2342\n",
      "[18.4700, 77.4400] Epoch 9/5, Loss: 9.6081\n",
      "[18.4700, 77.4400] Epoch 10/5, Loss: 9.4833\n",
      "[18.4700, 77.4400] Epoch 11/5, Loss: 8.9572\n",
      "[18.4700, 77.4400] Epoch 12/5, Loss: 8.8619\n",
      "[18.4700, 77.4400] Epoch 13/5, Loss: 8.9413\n",
      "[18.4700, 77.4400] Epoch 14/5, Loss: 8.5369\n",
      "[18.4700, 77.4400] Epoch 15/5, Loss: 8.4347\n",
      "[18.4700, 77.4400] Epoch 16/5, Loss: 8.0118\n",
      "[18.4700, 77.4400] Epoch 17/5, Loss: 7.7039\n",
      "[18.4700, 77.4400] Epoch 18/5, Loss: 7.2568\n"
     ]
    },
    {
     "name": "stderr",
     "output_type": "stream",
     "text": [
      "Stations:  13%|█▎        | 28/217 [00:38<04:22,  1.39s/it]"
     ]
    },
    {
     "name": "stdout",
     "output_type": "stream",
     "text": [
      "[18.4700, 77.4400] Epoch 19/5, Loss: 6.8680\n",
      "[18.4700, 77.4400] Epoch 20/5, Loss: 6.9428\n",
      "📍 Station (18.4700, 77.4400)\n",
      "  Accuracy : 0.8417\n",
      "  Precision: 0.6567\n",
      "  Recall   : 0.6425\n",
      "  F1-score : 0.6490\n",
      "    Class 0: Precision=0.9016, Recall=0.9167, F1-score=0.9091\n",
      "    Class 1: Precision=0.4118, Recall=0.3684, F1-score=0.3889\n",
      "[20.2700, 75.0100] Epoch 1/5, Loss: 12.6169\n",
      "[20.2700, 75.0100] Epoch 2/5, Loss: 12.2257\n",
      "[20.2700, 75.0100] Epoch 3/5, Loss: 11.9773\n",
      "[20.2700, 75.0100] Epoch 4/5, Loss: 11.4935\n",
      "[20.2700, 75.0100] Epoch 5/5, Loss: 11.1139\n",
      "[20.2700, 75.0100] Epoch 6/5, Loss: 10.7530\n",
      "[20.2700, 75.0100] Epoch 7/5, Loss: 10.3597\n",
      "[20.2700, 75.0100] Epoch 8/5, Loss: 10.1457\n",
      "[20.2700, 75.0100] Epoch 9/5, Loss: 9.8920\n",
      "[20.2700, 75.0100] Epoch 10/5, Loss: 9.5819\n",
      "[20.2700, 75.0100] Epoch 11/5, Loss: 9.3517\n",
      "[20.2700, 75.0100] Epoch 12/5, Loss: 9.0117\n",
      "[20.2700, 75.0100] Epoch 13/5, Loss: 8.5113\n",
      "[20.2700, 75.0100] Epoch 14/5, Loss: 8.1198\n",
      "[20.2700, 75.0100] Epoch 15/5, Loss: 7.8000\n",
      "[20.2700, 75.0100] Epoch 16/5, Loss: 7.4912\n",
      "[20.2700, 75.0100] Epoch 17/5, Loss: 7.1388\n",
      "[20.2700, 75.0100] Epoch 18/5, Loss: 6.7954\n",
      "[20.2700, 75.0100] Epoch 19/5, Loss: 6.4582\n"
     ]
    },
    {
     "name": "stderr",
     "output_type": "stream",
     "text": [
      "Stations:  13%|█▎        | 29/217 [00:39<04:10,  1.33s/it]"
     ]
    },
    {
     "name": "stdout",
     "output_type": "stream",
     "text": [
      "[20.2700, 75.0100] Epoch 20/5, Loss: 6.2609\n",
      "📍 Station (20.2700, 75.0100)\n",
      "  Accuracy : 0.8643\n",
      "  Precision: 0.5800\n",
      "  Recall   : 0.5859\n",
      "  F1-score : 0.5827\n",
      "    Class 0: Precision=0.9291, Recall=0.9219, F1-score=0.9255\n",
      "    Class 1: Precision=0.2308, Recall=0.2500, F1-score=0.2400\n",
      "[15.5600, 74.1100] Epoch 1/5, Loss: 11.9288\n",
      "[15.5600, 74.1100] Epoch 2/5, Loss: 11.2190\n",
      "[15.5600, 74.1100] Epoch 3/5, Loss: 10.6461\n",
      "[15.5600, 74.1100] Epoch 4/5, Loss: 10.2872\n",
      "[15.5600, 74.1100] Epoch 5/5, Loss: 9.8582\n",
      "[15.5600, 74.1100] Epoch 6/5, Loss: 9.4643\n",
      "[15.5600, 74.1100] Epoch 7/5, Loss: 9.1332\n",
      "[15.5600, 74.1100] Epoch 8/5, Loss: 8.7633\n",
      "[15.5600, 74.1100] Epoch 9/5, Loss: 8.6019\n",
      "[15.5600, 74.1100] Epoch 10/5, Loss: 8.1681\n",
      "[15.5600, 74.1100] Epoch 11/5, Loss: 8.0258\n",
      "[15.5600, 74.1100] Epoch 12/5, Loss: 7.7448\n",
      "[15.5600, 74.1100] Epoch 13/5, Loss: 7.5713\n",
      "[15.5600, 74.1100] Epoch 14/5, Loss: 7.2867\n",
      "[15.5600, 74.1100] Epoch 15/5, Loss: 7.2731\n",
      "[15.5600, 74.1100] Epoch 16/5, Loss: 6.8951\n",
      "[15.5600, 74.1100] Epoch 17/5, Loss: 6.7614\n",
      "[15.5600, 74.1100] Epoch 18/5, Loss: 6.5692\n",
      "[15.5600, 74.1100] Epoch 19/5, Loss: 6.4507\n"
     ]
    },
    {
     "name": "stderr",
     "output_type": "stream",
     "text": [
      "Stations:  14%|█▍        | 30/217 [00:40<03:42,  1.19s/it]"
     ]
    },
    {
     "name": "stdout",
     "output_type": "stream",
     "text": [
      "[15.5600, 74.1100] Epoch 20/5, Loss: 6.0004\n",
      "📍 Station (15.5600, 74.1100)\n",
      "  Accuracy : 0.7803\n",
      "  Precision: 0.7681\n",
      "  Recall   : 0.7958\n",
      "  F1-score : 0.7707\n",
      "    Class 0: Precision=0.9028, Recall=0.7471, F1-score=0.8176\n",
      "    Class 1: Precision=0.6333, Recall=0.8444, F1-score=0.7238\n",
      "[20.2000, 74.1500] Epoch 1/5, Loss: 12.1093\n",
      "[20.2000, 74.1500] Epoch 2/5, Loss: 11.5596\n",
      "[20.2000, 74.1500] Epoch 3/5, Loss: 10.9810\n",
      "[20.2000, 74.1500] Epoch 4/5, Loss: 10.9388\n",
      "[20.2000, 74.1500] Epoch 5/5, Loss: 10.5478\n",
      "[20.2000, 74.1500] Epoch 6/5, Loss: 10.3555\n",
      "[20.2000, 74.1500] Epoch 7/5, Loss: 9.6883\n",
      "[20.2000, 74.1500] Epoch 8/5, Loss: 9.5550\n",
      "[20.2000, 74.1500] Epoch 9/5, Loss: 9.3629\n",
      "[20.2000, 74.1500] Epoch 10/5, Loss: 8.7988\n",
      "[20.2000, 74.1500] Epoch 11/5, Loss: 8.8865\n",
      "[20.2000, 74.1500] Epoch 12/5, Loss: 8.5063\n",
      "[20.2000, 74.1500] Epoch 13/5, Loss: 8.0694\n",
      "[20.2000, 74.1500] Epoch 14/5, Loss: 7.8998\n",
      "[20.2000, 74.1500] Epoch 15/5, Loss: 7.4407\n",
      "[20.2000, 74.1500] Epoch 16/5, Loss: 7.2354\n",
      "[20.2000, 74.1500] Epoch 17/5, Loss: 7.0094\n"
     ]
    },
    {
     "name": "stderr",
     "output_type": "stream",
     "text": [
      "Stations:  14%|█▍        | 31/217 [00:41<03:33,  1.15s/it]"
     ]
    },
    {
     "name": "stdout",
     "output_type": "stream",
     "text": [
      "[20.2000, 74.1500] Epoch 18/5, Loss: 6.3885\n",
      "[20.2000, 74.1500] Epoch 19/5, Loss: 5.9401\n",
      "[20.2000, 74.1500] Epoch 20/5, Loss: 6.1166\n",
      "📍 Station (20.2000, 74.1500)\n",
      "  Accuracy : 0.9500\n",
      "  Precision: 0.4784\n",
      "  Recall   : 0.4963\n",
      "  F1-score : 0.4872\n",
      "    Class 0: Precision=0.9568, Recall=0.9925, F1-score=0.9744\n",
      "    Class 1: Precision=0.0000, Recall=0.0000, F1-score=0.0000\n",
      "[17.3200, 73.3100] Epoch 1/5, Loss: 12.7326\n",
      "[17.3200, 73.3100] Epoch 2/5, Loss: 11.9050\n",
      "[17.3200, 73.3100] Epoch 3/5, Loss: 11.3099\n",
      "[17.3200, 73.3100] Epoch 4/5, Loss: 10.9287\n",
      "[17.3200, 73.3100] Epoch 5/5, Loss: 10.4522\n",
      "[17.3200, 73.3100] Epoch 6/5, Loss: 10.2528\n",
      "[17.3200, 73.3100] Epoch 7/5, Loss: 9.7668\n",
      "[17.3200, 73.3100] Epoch 8/5, Loss: 9.5536\n",
      "[17.3200, 73.3100] Epoch 9/5, Loss: 9.1939\n",
      "[17.3200, 73.3100] Epoch 10/5, Loss: 9.0908\n",
      "[17.3200, 73.3100] Epoch 11/5, Loss: 8.7722\n",
      "[17.3200, 73.3100] Epoch 12/5, Loss: 8.6669\n",
      "[17.3200, 73.3100] Epoch 13/5, Loss: 8.5323\n",
      "[17.3200, 73.3100] Epoch 14/5, Loss: 8.4082\n",
      "[17.3200, 73.3100] Epoch 15/5, Loss: 8.0472\n",
      "[17.3200, 73.3100] Epoch 16/5, Loss: 7.8990\n",
      "[17.3200, 73.3100] Epoch 17/5, Loss: 7.5657\n"
     ]
    },
    {
     "name": "stderr",
     "output_type": "stream",
     "text": [
      "Stations:  15%|█▍        | 32/217 [00:42<03:30,  1.14s/it]"
     ]
    },
    {
     "name": "stdout",
     "output_type": "stream",
     "text": [
      "[17.3200, 73.3100] Epoch 18/5, Loss: 7.4179\n",
      "[17.3200, 73.3100] Epoch 19/5, Loss: 7.3341\n",
      "[17.3200, 73.3100] Epoch 20/5, Loss: 7.2159\n",
      "📍 Station (17.3200, 73.3100)\n",
      "  Accuracy : 0.6691\n",
      "  Precision: 0.6880\n",
      "  Recall   : 0.6837\n",
      "  F1-score : 0.6686\n",
      "    Class 0: Precision=0.7857, Recall=0.5641, F1-score=0.6567\n",
      "    Class 1: Precision=0.5904, Recall=0.8033, F1-score=0.6806\n",
      "[21.1500, 75.1800] Epoch 1/5, Loss: 12.4374\n",
      "[21.1500, 75.1800] Epoch 2/5, Loss: 11.9950\n",
      "[21.1500, 75.1800] Epoch 3/5, Loss: 11.5998\n",
      "[21.1500, 75.1800] Epoch 4/5, Loss: 11.5824\n",
      "[21.1500, 75.1800] Epoch 5/5, Loss: 10.7116\n",
      "[21.1500, 75.1800] Epoch 6/5, Loss: 10.9610\n",
      "[21.1500, 75.1800] Epoch 7/5, Loss: 10.5568\n",
      "[21.1500, 75.1800] Epoch 8/5, Loss: 10.1754\n",
      "[21.1500, 75.1800] Epoch 9/5, Loss: 9.8847\n",
      "[21.1500, 75.1800] Epoch 10/5, Loss: 9.3573\n",
      "[21.1500, 75.1800] Epoch 11/5, Loss: 8.8364\n",
      "[21.1500, 75.1800] Epoch 12/5, Loss: 8.5610\n",
      "[21.1500, 75.1800] Epoch 13/5, Loss: 8.3342\n",
      "[21.1500, 75.1800] Epoch 14/5, Loss: 8.0539\n",
      "[21.1500, 75.1800] Epoch 15/5, Loss: 7.7559\n",
      "[21.1500, 75.1800] Epoch 16/5, Loss: 7.2512\n",
      "[21.1500, 75.1800] Epoch 17/5, Loss: 6.7605\n",
      "[21.1500, 75.1800] Epoch 18/5, Loss: 6.6267\n"
     ]
    },
    {
     "name": "stderr",
     "output_type": "stream",
     "text": [
      "Stations:  15%|█▌        | 33/217 [00:43<03:14,  1.06s/it]"
     ]
    },
    {
     "name": "stdout",
     "output_type": "stream",
     "text": [
      "[21.1500, 75.1800] Epoch 19/5, Loss: 6.1164\n",
      "[21.1500, 75.1800] Epoch 20/5, Loss: 5.7153\n",
      "📍 Station (21.1500, 75.1800)\n",
      "  Accuracy : 0.9000\n",
      "  Precision: 0.5846\n",
      "  Recall   : 0.5299\n",
      "  F1-score : 0.5360\n",
      "    Class 0: Precision=0.9191, Recall=0.9766, F1-score=0.9470\n",
      "    Class 1: Precision=0.2500, Recall=0.0833, F1-score=0.1250\n",
      "[18.5400, 72.4900] Epoch 1/5, Loss: 12.4464\n",
      "[18.5400, 72.4900] Epoch 2/5, Loss: 12.1655\n",
      "[18.5400, 72.4900] Epoch 3/5, Loss: 11.7922\n",
      "[18.5400, 72.4900] Epoch 4/5, Loss: 11.3329\n",
      "[18.5400, 72.4900] Epoch 5/5, Loss: 11.1083\n",
      "[18.5400, 72.4900] Epoch 6/5, Loss: 10.8244\n",
      "[18.5400, 72.4900] Epoch 7/5, Loss: 10.7222\n",
      "[18.5400, 72.4900] Epoch 8/5, Loss: 10.5312\n",
      "[18.5400, 72.4900] Epoch 9/5, Loss: 10.3415\n",
      "[18.5400, 72.4900] Epoch 10/5, Loss: 10.2036\n",
      "[18.5400, 72.4900] Epoch 11/5, Loss: 9.8482\n",
      "[18.5400, 72.4900] Epoch 12/5, Loss: 9.6394\n",
      "[18.5400, 72.4900] Epoch 13/5, Loss: 9.2389\n",
      "[18.5400, 72.4900] Epoch 14/5, Loss: 9.1736\n",
      "[18.5400, 72.4900] Epoch 15/5, Loss: 9.0784\n"
     ]
    },
    {
     "name": "stderr",
     "output_type": "stream",
     "text": [
      "Stations:  16%|█▌        | 34/217 [00:44<03:01,  1.01it/s]"
     ]
    },
    {
     "name": "stdout",
     "output_type": "stream",
     "text": [
      "[18.5400, 72.4900] Epoch 16/5, Loss: 8.9568\n",
      "[18.5400, 72.4900] Epoch 17/5, Loss: 8.6406\n",
      "[18.5400, 72.4900] Epoch 18/5, Loss: 8.3816\n",
      "[18.5400, 72.4900] Epoch 19/5, Loss: 8.4213\n",
      "[18.5400, 72.4900] Epoch 20/5, Loss: 8.1472\n",
      "📍 Station (18.5400, 72.4900)\n",
      "  Accuracy : 0.7234\n",
      "  Precision: 0.6437\n",
      "  Recall   : 0.6721\n",
      "  F1-score : 0.6516\n",
      "    Class 0: Precision=0.8557, Recall=0.7685, F1-score=0.8098\n",
      "    Class 1: Precision=0.4318, Recall=0.5758, F1-score=0.4935\n",
      "[15.2300, 73.4900] Epoch 1/5, Loss: 11.5925\n",
      "[15.2300, 73.4900] Epoch 2/5, Loss: 10.8688\n",
      "[15.2300, 73.4900] Epoch 3/5, Loss: 10.3558\n",
      "[15.2300, 73.4900] Epoch 4/5, Loss: 10.0116\n",
      "[15.2300, 73.4900] Epoch 5/5, Loss: 9.6657\n",
      "[15.2300, 73.4900] Epoch 6/5, Loss: 9.4583\n",
      "[15.2300, 73.4900] Epoch 7/5, Loss: 9.3404\n",
      "[15.2300, 73.4900] Epoch 8/5, Loss: 8.9407\n",
      "[15.2300, 73.4900] Epoch 9/5, Loss: 8.7102\n",
      "[15.2300, 73.4900] Epoch 10/5, Loss: 8.6802\n",
      "[15.2300, 73.4900] Epoch 11/5, Loss: 8.6025\n",
      "[15.2300, 73.4900] Epoch 12/5, Loss: 8.2867\n",
      "[15.2300, 73.4900] Epoch 13/5, Loss: 7.9798\n",
      "[15.2300, 73.4900] Epoch 14/5, Loss: 7.9671\n",
      "[15.2300, 73.4900] Epoch 15/5, Loss: 7.7573\n",
      "[15.2300, 73.4900] Epoch 16/5, Loss: 7.5174\n",
      "[15.2300, 73.4900] Epoch 17/5, Loss: 7.3294\n",
      "[15.2300, 73.4900] Epoch 18/5, Loss: 7.1104\n"
     ]
    },
    {
     "name": "stderr",
     "output_type": "stream",
     "text": [
      "Stations:  16%|█▌        | 35/217 [00:44<02:46,  1.09it/s]"
     ]
    },
    {
     "name": "stdout",
     "output_type": "stream",
     "text": [
      "[15.2300, 73.4900] Epoch 19/5, Loss: 6.9591\n",
      "[15.2300, 73.4900] Epoch 20/5, Loss: 6.5264\n",
      "📍 Station (15.2300, 73.4900)\n",
      "  Accuracy : 0.6765\n",
      "  Precision: 0.6896\n",
      "  Recall   : 0.7023\n",
      "  F1-score : 0.6739\n",
      "    Class 0: Precision=0.8387, Recall=0.6047, F1-score=0.7027\n",
      "    Class 1: Precision=0.5405, Recall=0.8000, F1-score=0.6452\n",
      "[19.5800, 72.4300] Epoch 1/5, Loss: 12.5676\n",
      "[19.5800, 72.4300] Epoch 2/5, Loss: 11.9518\n",
      "[19.5800, 72.4300] Epoch 3/5, Loss: 11.5985\n",
      "[19.5800, 72.4300] Epoch 4/5, Loss: 11.2644\n",
      "[19.5800, 72.4300] Epoch 5/5, Loss: 11.2139\n",
      "[19.5800, 72.4300] Epoch 6/5, Loss: 10.7939\n",
      "[19.5800, 72.4300] Epoch 7/5, Loss: 10.6542\n",
      "[19.5800, 72.4300] Epoch 8/5, Loss: 10.3589\n",
      "[19.5800, 72.4300] Epoch 9/5, Loss: 10.0772\n",
      "[19.5800, 72.4300] Epoch 10/5, Loss: 10.0190\n",
      "[19.5800, 72.4300] Epoch 11/5, Loss: 9.9222\n",
      "[19.5800, 72.4300] Epoch 12/5, Loss: 9.5430\n",
      "[19.5800, 72.4300] Epoch 13/5, Loss: 9.3357\n",
      "[19.5800, 72.4300] Epoch 14/5, Loss: 9.2848\n"
     ]
    },
    {
     "name": "stderr",
     "output_type": "stream",
     "text": [
      "Stations:  17%|█▋        | 36/217 [00:45<02:38,  1.14it/s]"
     ]
    },
    {
     "name": "stdout",
     "output_type": "stream",
     "text": [
      "[19.5800, 72.4300] Epoch 15/5, Loss: 9.0564\n",
      "[19.5800, 72.4300] Epoch 16/5, Loss: 8.8102\n",
      "[19.5800, 72.4300] Epoch 17/5, Loss: 8.3944\n",
      "[19.5800, 72.4300] Epoch 18/5, Loss: 8.2370\n",
      "[19.5800, 72.4300] Epoch 19/5, Loss: 8.1308\n",
      "[19.5800, 72.4300] Epoch 20/5, Loss: 7.9098\n",
      "📍 Station (19.5800, 72.4300)\n",
      "  Accuracy : 0.7000\n",
      "  Precision: 0.6667\n",
      "  Recall   : 0.7220\n",
      "  F1-score : 0.6637\n",
      "    Class 0: Precision=0.9000, Recall=0.6792, F1-score=0.7742\n",
      "    Class 1: Precision=0.4333, Recall=0.7647, F1-score=0.5532\n",
      "[17.4200, 74.3300] Epoch 1/5, Loss: 9.8972\n",
      "[17.4200, 74.3300] Epoch 2/5, Loss: 9.3518\n",
      "[17.4200, 74.3300] Epoch 3/5, Loss: 8.7224\n",
      "[17.4200, 74.3300] Epoch 4/5, Loss: 8.5183\n",
      "[17.4200, 74.3300] Epoch 5/5, Loss: 7.9352\n",
      "[17.4200, 74.3300] Epoch 6/5, Loss: 7.6568\n",
      "[17.4200, 74.3300] Epoch 7/5, Loss: 7.2431\n",
      "[17.4200, 74.3300] Epoch 8/5, Loss: 6.8414\n",
      "[17.4200, 74.3300] Epoch 9/5, Loss: 6.9501\n",
      "[17.4200, 74.3300] Epoch 10/5, Loss: 6.4306\n",
      "[17.4200, 74.3300] Epoch 11/5, Loss: 6.3539\n",
      "[17.4200, 74.3300] Epoch 12/5, Loss: 6.0559\n",
      "[17.4200, 74.3300] Epoch 13/5, Loss: 6.0455\n",
      "[17.4200, 74.3300] Epoch 14/5, Loss: 6.0594\n"
     ]
    },
    {
     "name": "stderr",
     "output_type": "stream",
     "text": [
      "Stations:  17%|█▋        | 37/217 [00:46<02:26,  1.23it/s]"
     ]
    },
    {
     "name": "stdout",
     "output_type": "stream",
     "text": [
      "[17.4200, 74.3300] Epoch 15/5, Loss: 6.0689\n",
      "[17.4200, 74.3300] Epoch 16/5, Loss: 5.6259\n",
      "[17.4200, 74.3300] Epoch 17/5, Loss: 5.4271\n",
      "[17.4200, 74.3300] Epoch 18/5, Loss: 5.0088\n",
      "[17.4200, 74.3300] Epoch 19/5, Loss: 5.2905\n",
      "[17.4200, 74.3300] Epoch 20/5, Loss: 4.8294\n",
      "📍 Station (17.4200, 74.3300)\n",
      "  Accuracy : 0.9646\n",
      "  Precision: 0.4823\n",
      "  Recall   : 0.5000\n",
      "  F1-score : 0.4910\n",
      "    Class 0: Precision=0.9646, Recall=1.0000, F1-score=0.9820\n",
      "    Class 1: Precision=0.0000, Recall=0.0000, F1-score=0.0000\n",
      "[17.4600, 73.1200] Epoch 1/5, Loss: 12.3181\n",
      "[17.4600, 73.1200] Epoch 2/5, Loss: 11.7318\n",
      "[17.4600, 73.1200] Epoch 3/5, Loss: 11.1668\n",
      "[17.4600, 73.1200] Epoch 4/5, Loss: 10.8327\n",
      "[17.4600, 73.1200] Epoch 5/5, Loss: 10.4110\n",
      "[17.4600, 73.1200] Epoch 6/5, Loss: 10.0234\n",
      "[17.4600, 73.1200] Epoch 7/5, Loss: 9.7014\n",
      "[17.4600, 73.1200] Epoch 8/5, Loss: 9.4785\n",
      "[17.4600, 73.1200] Epoch 9/5, Loss: 9.2030\n",
      "[17.4600, 73.1200] Epoch 10/5, Loss: 8.9512\n",
      "[17.4600, 73.1200] Epoch 11/5, Loss: 8.8637\n",
      "[17.4600, 73.1200] Epoch 12/5, Loss: 8.4811\n",
      "[17.4600, 73.1200] Epoch 13/5, Loss: 8.3183\n",
      "[17.4600, 73.1200] Epoch 14/5, Loss: 8.2263\n",
      "[17.4600, 73.1200] Epoch 15/5, Loss: 7.9497\n",
      "[17.4600, 73.1200] Epoch 16/5, Loss: 7.8409\n",
      "[17.4600, 73.1200] Epoch 17/5, Loss: 7.6499\n",
      "[17.4600, 73.1200] Epoch 18/5, Loss: 7.3337\n"
     ]
    },
    {
     "name": "stderr",
     "output_type": "stream",
     "text": [
      "Stations:  18%|█▊        | 38/217 [00:47<02:24,  1.24it/s]"
     ]
    },
    {
     "name": "stdout",
     "output_type": "stream",
     "text": [
      "[17.4600, 73.1200] Epoch 19/5, Loss: 7.2242\n",
      "[17.4600, 73.1200] Epoch 20/5, Loss: 7.0914\n",
      "📍 Station (17.4600, 73.1200)\n",
      "  Accuracy : 0.7266\n",
      "  Precision: 0.7320\n",
      "  Recall   : 0.7354\n",
      "  F1-score : 0.7263\n",
      "    Class 0: Precision=0.8154, Recall=0.6709, F1-score=0.7361\n",
      "    Class 1: Precision=0.6486, Recall=0.8000, F1-score=0.7164\n",
      "[18.2800, 74.3600] Epoch 1/5, Loss: 12.2692\n",
      "[18.2800, 74.3600] Epoch 2/5, Loss: 11.6285\n",
      "[18.2800, 74.3600] Epoch 3/5, Loss: 11.4329\n",
      "[18.2800, 74.3600] Epoch 4/5, Loss: 11.3249\n",
      "[18.2800, 74.3600] Epoch 5/5, Loss: 11.1539\n",
      "[18.2800, 74.3600] Epoch 6/5, Loss: 10.0951\n",
      "[18.2800, 74.3600] Epoch 7/5, Loss: 10.5269\n",
      "[18.2800, 74.3600] Epoch 8/5, Loss: 10.3973\n",
      "[18.2800, 74.3600] Epoch 9/5, Loss: 9.5834\n",
      "[18.2800, 74.3600] Epoch 10/5, Loss: 9.1900\n",
      "[18.2800, 74.3600] Epoch 11/5, Loss: 9.7404\n",
      "[18.2800, 74.3600] Epoch 12/5, Loss: 9.3824\n",
      "[18.2800, 74.3600] Epoch 13/5, Loss: 8.6937\n",
      "[18.2800, 74.3600] Epoch 14/5, Loss: 8.8903\n",
      "[18.2800, 74.3600] Epoch 15/5, Loss: 8.7274\n"
     ]
    },
    {
     "name": "stderr",
     "output_type": "stream",
     "text": [
      "Stations:  18%|█▊        | 39/217 [00:47<02:24,  1.23it/s]"
     ]
    },
    {
     "name": "stdout",
     "output_type": "stream",
     "text": [
      "[18.2800, 74.3600] Epoch 16/5, Loss: 9.0999\n",
      "[18.2800, 74.3600] Epoch 17/5, Loss: 8.8410\n",
      "[18.2800, 74.3600] Epoch 18/5, Loss: 8.8898\n",
      "[18.2800, 74.3600] Epoch 19/5, Loss: 8.3546\n",
      "[18.2800, 74.3600] Epoch 20/5, Loss: 7.8235\n",
      "📍 Station (18.2800, 74.3600)\n",
      "  Accuracy : 0.9500\n",
      "  Precision: 0.4750\n",
      "  Recall   : 0.5000\n",
      "  F1-score : 0.4872\n",
      "    Class 0: Precision=0.9500, Recall=1.0000, F1-score=0.9744\n",
      "    Class 1: Precision=0.0000, Recall=0.0000, F1-score=0.0000\n",
      "[18.3300, 77.3500] Epoch 1/5, Loss: 12.0629\n",
      "[18.3300, 77.3500] Epoch 2/5, Loss: 11.7433\n",
      "[18.3300, 77.3500] Epoch 3/5, Loss: 11.3918\n",
      "[18.3300, 77.3500] Epoch 4/5, Loss: 11.2697\n",
      "[18.3300, 77.3500] Epoch 5/5, Loss: 10.9529\n",
      "[18.3300, 77.3500] Epoch 6/5, Loss: 10.7544\n",
      "[18.3300, 77.3500] Epoch 7/5, Loss: 10.4410\n",
      "[18.3300, 77.3500] Epoch 8/5, Loss: 10.1772\n",
      "[18.3300, 77.3500] Epoch 9/5, Loss: 10.2394\n",
      "[18.3300, 77.3500] Epoch 10/5, Loss: 9.9001\n",
      "[18.3300, 77.3500] Epoch 11/5, Loss: 9.7894\n",
      "[18.3300, 77.3500] Epoch 12/5, Loss: 9.3392\n",
      "[18.3300, 77.3500] Epoch 13/5, Loss: 9.2175\n",
      "[18.3300, 77.3500] Epoch 14/5, Loss: 9.0320\n",
      "[18.3300, 77.3500] Epoch 15/5, Loss: 8.7724\n",
      "[18.3300, 77.3500] Epoch 16/5, Loss: 8.5261\n"
     ]
    },
    {
     "name": "stderr",
     "output_type": "stream",
     "text": [
      "Stations:  18%|█▊        | 40/217 [00:48<02:23,  1.23it/s]"
     ]
    },
    {
     "name": "stdout",
     "output_type": "stream",
     "text": [
      "[18.3300, 77.3500] Epoch 17/5, Loss: 8.1655\n",
      "[18.3300, 77.3500] Epoch 18/5, Loss: 7.9487\n",
      "[18.3300, 77.3500] Epoch 19/5, Loss: 7.6325\n",
      "[18.3300, 77.3500] Epoch 20/5, Loss: 7.3985\n",
      "📍 Station (18.3300, 77.3500)\n",
      "  Accuracy : 0.7761\n",
      "  Precision: 0.4961\n",
      "  Recall   : 0.4952\n",
      "  F1-score : 0.4947\n",
      "    Class 0: Precision=0.8870, Recall=0.8571, F1-score=0.8718\n",
      "    Class 1: Precision=0.1053, Recall=0.1333, F1-score=0.1176\n",
      "[18.1500, 77.0400] Epoch 1/5, Loss: 12.6272\n",
      "[18.1500, 77.0400] Epoch 2/5, Loss: 12.1361\n",
      "[18.1500, 77.0400] Epoch 3/5, Loss: 12.1455\n",
      "[18.1500, 77.0400] Epoch 4/5, Loss: 11.6774\n",
      "[18.1500, 77.0400] Epoch 5/5, Loss: 11.1743\n",
      "[18.1500, 77.0400] Epoch 6/5, Loss: 10.9956\n",
      "[18.1500, 77.0400] Epoch 7/5, Loss: 10.7555\n",
      "[18.1500, 77.0400] Epoch 8/5, Loss: 10.9397\n",
      "[18.1500, 77.0400] Epoch 9/5, Loss: 10.3793\n",
      "[18.1500, 77.0400] Epoch 10/5, Loss: 9.7179\n",
      "[18.1500, 77.0400] Epoch 11/5, Loss: 9.4381\n",
      "[18.1500, 77.0400] Epoch 12/5, Loss: 9.1515\n",
      "[18.1500, 77.0400] Epoch 13/5, Loss: 9.1718\n",
      "[18.1500, 77.0400] Epoch 14/5, Loss: 8.9023\n"
     ]
    },
    {
     "name": "stderr",
     "output_type": "stream",
     "text": [
      "Stations:  19%|█▉        | 41/217 [00:49<02:20,  1.25it/s]"
     ]
    },
    {
     "name": "stdout",
     "output_type": "stream",
     "text": [
      "[18.1500, 77.0400] Epoch 15/5, Loss: 8.4406\n",
      "[18.1500, 77.0400] Epoch 16/5, Loss: 7.9476\n",
      "[18.1500, 77.0400] Epoch 17/5, Loss: 7.7238\n",
      "[18.1500, 77.0400] Epoch 18/5, Loss: 7.1547\n",
      "[18.1500, 77.0400] Epoch 19/5, Loss: 6.9851\n",
      "[18.1500, 77.0400] Epoch 20/5, Loss: 6.7140\n",
      "📍 Station (18.1500, 77.0400)\n",
      "  Accuracy : 0.9214\n",
      "  Precision: 0.5885\n",
      "  Recall   : 0.6704\n",
      "  F1-score : 0.6126\n",
      "    Class 0: Precision=0.9769, Recall=0.9407, F1-score=0.9585\n",
      "    Class 1: Precision=0.2000, Recall=0.4000, F1-score=0.2667\n",
      "[16.2300, 73.2100] Epoch 1/5, Loss: 12.3845\n",
      "[16.2300, 73.2100] Epoch 2/5, Loss: 11.7324\n",
      "[16.2300, 73.2100] Epoch 3/5, Loss: 11.2596\n",
      "[16.2300, 73.2100] Epoch 4/5, Loss: 10.8914\n",
      "[16.2300, 73.2100] Epoch 5/5, Loss: 10.4924\n",
      "[16.2300, 73.2100] Epoch 6/5, Loss: 10.0952\n",
      "[16.2300, 73.2100] Epoch 7/5, Loss: 9.9649\n",
      "[16.2300, 73.2100] Epoch 8/5, Loss: 9.6376\n",
      "[16.2300, 73.2100] Epoch 9/5, Loss: 9.3462\n",
      "[16.2300, 73.2100] Epoch 10/5, Loss: 9.1367\n",
      "[16.2300, 73.2100] Epoch 11/5, Loss: 8.9603\n",
      "[16.2300, 73.2100] Epoch 12/5, Loss: 8.5058\n",
      "[16.2300, 73.2100] Epoch 13/5, Loss: 8.6887\n",
      "[16.2300, 73.2100] Epoch 14/5, Loss: 8.2006\n",
      "[16.2300, 73.2100] Epoch 15/5, Loss: 8.1357\n",
      "[16.2300, 73.2100] Epoch 16/5, Loss: 7.9419\n",
      "[16.2300, 73.2100] Epoch 17/5, Loss: 7.6742\n",
      "[16.2300, 73.2100] Epoch 18/5, Loss: 7.3279\n"
     ]
    },
    {
     "name": "stderr",
     "output_type": "stream",
     "text": [
      "Stations:  19%|█▉        | 42/217 [00:50<02:18,  1.26it/s]"
     ]
    },
    {
     "name": "stdout",
     "output_type": "stream",
     "text": [
      "[16.2300, 73.2100] Epoch 19/5, Loss: 7.2426\n",
      "[16.2300, 73.2100] Epoch 20/5, Loss: 6.9460\n",
      "📍 Station (16.2300, 73.2100)\n",
      "  Accuracy : 0.7429\n",
      "  Precision: 0.6960\n",
      "  Recall   : 0.7110\n",
      "  F1-score : 0.7017\n",
      "    Class 0: Precision=0.8387, Recall=0.7879, F1-score=0.8125\n",
      "    Class 1: Precision=0.5532, Recall=0.6341, F1-score=0.5909\n",
      "[20.2700, 74.1000] Epoch 1/5, Loss: 12.6630\n",
      "[20.2700, 74.1000] Epoch 2/5, Loss: 12.3337\n",
      "[20.2700, 74.1000] Epoch 3/5, Loss: 12.1316\n",
      "[20.2700, 74.1000] Epoch 4/5, Loss: 11.0108\n",
      "[20.2700, 74.1000] Epoch 5/5, Loss: 11.0567\n",
      "[20.2700, 74.1000] Epoch 6/5, Loss: 10.7256\n",
      "[20.2700, 74.1000] Epoch 7/5, Loss: 10.4100\n",
      "[20.2700, 74.1000] Epoch 8/5, Loss: 9.8362\n",
      "[20.2700, 74.1000] Epoch 9/5, Loss: 9.5887\n",
      "[20.2700, 74.1000] Epoch 10/5, Loss: 9.0584\n",
      "[20.2700, 74.1000] Epoch 11/5, Loss: 9.1473\n",
      "[20.2700, 74.1000] Epoch 12/5, Loss: 8.6228\n",
      "[20.2700, 74.1000] Epoch 13/5, Loss: 8.1879\n",
      "[20.2700, 74.1000] Epoch 14/5, Loss: 7.8459\n",
      "[20.2700, 74.1000] Epoch 15/5, Loss: 7.4927\n"
     ]
    },
    {
     "name": "stderr",
     "output_type": "stream",
     "text": [
      "Stations:  20%|█▉        | 43/217 [00:51<02:17,  1.26it/s]"
     ]
    },
    {
     "name": "stdout",
     "output_type": "stream",
     "text": [
      "[20.2700, 74.1000] Epoch 16/5, Loss: 7.3924\n",
      "[20.2700, 74.1000] Epoch 17/5, Loss: 7.1042\n",
      "[20.2700, 74.1000] Epoch 18/5, Loss: 6.8018\n",
      "[20.2700, 74.1000] Epoch 19/5, Loss: 6.2640\n",
      "[20.2700, 74.1000] Epoch 20/5, Loss: 5.7455\n",
      "📍 Station (20.2700, 74.1000)\n",
      "  Accuracy : 0.9348\n",
      "  Precision: 0.7239\n",
      "  Recall   : 0.6034\n",
      "  F1-score : 0.6367\n",
      "    Class 0: Precision=0.9478, Recall=0.9845, F1-score=0.9658\n",
      "    Class 1: Precision=0.5000, Recall=0.2222, F1-score=0.3077\n",
      "[21.4900, 74.1300] Epoch 1/5, Loss: 12.4103\n",
      "[21.4900, 74.1300] Epoch 2/5, Loss: 12.0370\n",
      "[21.4900, 74.1300] Epoch 3/5, Loss: 11.5006\n",
      "[21.4900, 74.1300] Epoch 4/5, Loss: 11.2569\n",
      "[21.4900, 74.1300] Epoch 5/5, Loss: 10.8280\n",
      "[21.4900, 74.1300] Epoch 6/5, Loss: 10.6428\n",
      "[21.4900, 74.1300] Epoch 7/5, Loss: 10.4303\n",
      "[21.4900, 74.1300] Epoch 8/5, Loss: 10.3075\n",
      "[21.4900, 74.1300] Epoch 9/5, Loss: 9.7717\n",
      "[21.4900, 74.1300] Epoch 10/5, Loss: 9.6932\n",
      "[21.4900, 74.1300] Epoch 11/5, Loss: 9.4816\n",
      "[21.4900, 74.1300] Epoch 12/5, Loss: 8.9633\n",
      "[21.4900, 74.1300] Epoch 13/5, Loss: 8.9721\n",
      "[21.4900, 74.1300] Epoch 14/5, Loss: 8.7010\n",
      "[21.4900, 74.1300] Epoch 15/5, Loss: 8.5049\n",
      "[21.4900, 74.1300] Epoch 16/5, Loss: 8.3823\n",
      "[21.4900, 74.1300] Epoch 17/5, Loss: 8.0586\n",
      "[21.4900, 74.1300] Epoch 18/5, Loss: 7.9855\n"
     ]
    },
    {
     "name": "stderr",
     "output_type": "stream",
     "text": [
      "Stations:  20%|██        | 44/217 [00:51<02:16,  1.27it/s]"
     ]
    },
    {
     "name": "stdout",
     "output_type": "stream",
     "text": [
      "[21.4900, 74.1300] Epoch 19/5, Loss: 7.6443\n",
      "[21.4900, 74.1300] Epoch 20/5, Loss: 7.0549\n",
      "📍 Station (21.4900, 74.1300)\n",
      "  Accuracy : 0.8786\n",
      "  Precision: 0.5386\n",
      "  Recall   : 0.5188\n",
      "  F1-score : 0.5201\n",
      "    Class 0: Precision=0.9104, Recall=0.9606, F1-score=0.9349\n",
      "    Class 1: Precision=0.1667, Recall=0.0769, F1-score=0.1053\n",
      "[21.0000, 75.1600] Epoch 1/5, Loss: 12.8133\n",
      "[21.0000, 75.1600] Epoch 2/5, Loss: 12.3464\n",
      "[21.0000, 75.1600] Epoch 3/5, Loss: 12.1273\n",
      "[21.0000, 75.1600] Epoch 4/5, Loss: 11.6455\n",
      "[21.0000, 75.1600] Epoch 5/5, Loss: 11.4154\n",
      "[21.0000, 75.1600] Epoch 6/5, Loss: 11.2558\n",
      "[21.0000, 75.1600] Epoch 7/5, Loss: 10.8088\n",
      "[21.0000, 75.1600] Epoch 8/5, Loss: 10.5337\n",
      "[21.0000, 75.1600] Epoch 9/5, Loss: 10.4670\n",
      "[21.0000, 75.1600] Epoch 10/5, Loss: 10.1623\n",
      "[21.0000, 75.1600] Epoch 11/5, Loss: 9.7347\n",
      "[21.0000, 75.1600] Epoch 12/5, Loss: 9.4150\n",
      "[21.0000, 75.1600] Epoch 13/5, Loss: 9.2782\n",
      "[21.0000, 75.1600] Epoch 14/5, Loss: 9.2622\n",
      "[21.0000, 75.1600] Epoch 15/5, Loss: 8.6644\n"
     ]
    },
    {
     "name": "stderr",
     "output_type": "stream",
     "text": [
      "Stations:  21%|██        | 45/217 [00:52<02:17,  1.25it/s]"
     ]
    },
    {
     "name": "stdout",
     "output_type": "stream",
     "text": [
      "[21.0000, 75.1600] Epoch 16/5, Loss: 8.3431\n",
      "[21.0000, 75.1600] Epoch 17/5, Loss: 7.4711\n",
      "[21.0000, 75.1600] Epoch 18/5, Loss: 7.2563\n",
      "[21.0000, 75.1600] Epoch 19/5, Loss: 6.9247\n",
      "[21.0000, 75.1600] Epoch 20/5, Loss: 6.4162\n",
      "📍 Station (21.0000, 75.1600)\n",
      "  Accuracy : 0.8129\n",
      "  Precision: 0.5767\n",
      "  Recall   : 0.6022\n",
      "  F1-score : 0.5852\n",
      "    Class 0: Precision=0.9153, Recall=0.8710, F1-score=0.8926\n",
      "    Class 1: Precision=0.2381, Recall=0.3333, F1-score=0.2778\n",
      "[18.1000, 76.0300] Epoch 1/5, Loss: 12.6234\n",
      "[18.1000, 76.0300] Epoch 2/5, Loss: 11.9654\n",
      "[18.1000, 76.0300] Epoch 3/5, Loss: 11.5863\n",
      "[18.1000, 76.0300] Epoch 4/5, Loss: 11.5115\n",
      "[18.1000, 76.0300] Epoch 5/5, Loss: 10.9064\n",
      "[18.1000, 76.0300] Epoch 6/5, Loss: 10.8575\n",
      "[18.1000, 76.0300] Epoch 7/5, Loss: 10.4108\n",
      "[18.1000, 76.0300] Epoch 8/5, Loss: 10.0378\n",
      "[18.1000, 76.0300] Epoch 9/5, Loss: 9.8101\n",
      "[18.1000, 76.0300] Epoch 10/5, Loss: 9.0389\n",
      "[18.1000, 76.0300] Epoch 11/5, Loss: 8.5776\n",
      "[18.1000, 76.0300] Epoch 12/5, Loss: 8.4528\n",
      "[18.1000, 76.0300] Epoch 13/5, Loss: 7.8802\n",
      "[18.1000, 76.0300] Epoch 14/5, Loss: 7.7360\n",
      "[18.1000, 76.0300] Epoch 15/5, Loss: 7.4420\n",
      "[18.1000, 76.0300] Epoch 16/5, Loss: 6.9070\n",
      "[18.1000, 76.0300] Epoch 17/5, Loss: 6.3316\n",
      "[18.1000, 76.0300] Epoch 18/5, Loss: 5.9353\n",
      "[18.1000, 76.0300] Epoch 19/5, Loss: 5.5725\n"
     ]
    },
    {
     "name": "stderr",
     "output_type": "stream",
     "text": [
      "Stations:  21%|██        | 46/217 [00:53<02:25,  1.18it/s]"
     ]
    },
    {
     "name": "stdout",
     "output_type": "stream",
     "text": [
      "[18.1000, 76.0300] Epoch 20/5, Loss: 4.9759\n",
      "📍 Station (18.1000, 76.0300)\n",
      "  Accuracy : 0.9058\n",
      "  Precision: 0.7090\n",
      "  Recall   : 0.5689\n",
      "  F1-score : 0.5926\n",
      "    Class 0: Precision=0.9179, Recall=0.9840, F1-score=0.9498\n",
      "    Class 1: Precision=0.5000, Recall=0.1538, F1-score=0.2353\n",
      "[18.5300, 77.5000] Epoch 1/5, Loss: 12.0609\n",
      "[18.5300, 77.5000] Epoch 2/5, Loss: 11.8219\n",
      "[18.5300, 77.5000] Epoch 3/5, Loss: 11.0976\n",
      "[18.5300, 77.5000] Epoch 4/5, Loss: 10.8244\n",
      "[18.5300, 77.5000] Epoch 5/5, Loss: 10.4878\n",
      "[18.5300, 77.5000] Epoch 6/5, Loss: 10.1126\n",
      "[18.5300, 77.5000] Epoch 7/5, Loss: 9.8134\n",
      "[18.5300, 77.5000] Epoch 8/5, Loss: 9.4138\n",
      "[18.5300, 77.5000] Epoch 9/5, Loss: 9.2085\n",
      "[18.5300, 77.5000] Epoch 10/5, Loss: 8.9233\n",
      "[18.5300, 77.5000] Epoch 11/5, Loss: 8.5197\n",
      "[18.5300, 77.5000] Epoch 12/5, Loss: 8.1691\n",
      "[18.5300, 77.5000] Epoch 13/5, Loss: 7.9479\n",
      "[18.5300, 77.5000] Epoch 14/5, Loss: 7.4692\n",
      "[18.5300, 77.5000] Epoch 15/5, Loss: 7.2231\n",
      "[18.5300, 77.5000] Epoch 16/5, Loss: 6.7363\n",
      "[18.5300, 77.5000] Epoch 17/5, Loss: 6.7946\n",
      "[18.5300, 77.5000] Epoch 18/5, Loss: 6.2133\n",
      "[18.5300, 77.5000] Epoch 19/5, Loss: 5.8436\n"
     ]
    },
    {
     "name": "stderr",
     "output_type": "stream",
     "text": [
      "Stations:  22%|██▏       | 47/217 [00:54<02:30,  1.13it/s]"
     ]
    },
    {
     "name": "stdout",
     "output_type": "stream",
     "text": [
      "[18.5300, 77.5000] Epoch 20/5, Loss: 5.7455\n",
      "📍 Station (18.5300, 77.5000)\n",
      "  Accuracy : 0.7801\n",
      "  Precision: 0.4976\n",
      "  Recall   : 0.4966\n",
      "  F1-score : 0.4944\n",
      "    Class 0: Precision=0.9000, Recall=0.8504, F1-score=0.8745\n",
      "    Class 1: Precision=0.0952, Recall=0.1429, F1-score=0.1143\n",
      "[20.5400, 74.4700] Epoch 1/5, Loss: 12.3298\n",
      "[20.5400, 74.4700] Epoch 2/5, Loss: 11.6163\n",
      "[20.5400, 74.4700] Epoch 3/5, Loss: 11.2733\n",
      "[20.5400, 74.4700] Epoch 4/5, Loss: 10.6913\n",
      "[20.5400, 74.4700] Epoch 5/5, Loss: 10.4091\n",
      "[20.5400, 74.4700] Epoch 6/5, Loss: 10.2697\n",
      "[20.5400, 74.4700] Epoch 7/5, Loss: 10.0182\n",
      "[20.5400, 74.4700] Epoch 8/5, Loss: 9.5361\n",
      "[20.5400, 74.4700] Epoch 9/5, Loss: 9.4644\n",
      "[20.5400, 74.4700] Epoch 10/5, Loss: 9.0350\n",
      "[20.5400, 74.4700] Epoch 11/5, Loss: 8.5252\n",
      "[20.5400, 74.4700] Epoch 12/5, Loss: 7.8307\n",
      "[20.5400, 74.4700] Epoch 13/5, Loss: 7.7823\n",
      "[20.5400, 74.4700] Epoch 14/5, Loss: 7.5311\n",
      "[20.5400, 74.4700] Epoch 15/5, Loss: 7.0050\n",
      "[20.5400, 74.4700] Epoch 16/5, Loss: 6.8092\n",
      "[20.5400, 74.4700] Epoch 17/5, Loss: 6.4277\n",
      "[20.5400, 74.4700] Epoch 18/5, Loss: 5.9343\n",
      "[20.5400, 74.4700] Epoch 19/5, Loss: 5.4127\n"
     ]
    },
    {
     "name": "stderr",
     "output_type": "stream",
     "text": [
      "Stations:  22%|██▏       | 48/217 [00:56<02:53,  1.03s/it]"
     ]
    },
    {
     "name": "stdout",
     "output_type": "stream",
     "text": [
      "[20.5400, 74.4700] Epoch 20/5, Loss: 5.1670\n",
      "📍 Station (20.5400, 74.4700)\n",
      "  Accuracy : 0.8286\n",
      "  Precision: 0.4462\n",
      "  Recall   : 0.4603\n",
      "  F1-score : 0.4531\n",
      "    Class 0: Precision=0.8923, Recall=0.9206, F1-score=0.9062\n",
      "    Class 1: Precision=0.0000, Recall=0.0000, F1-score=0.0000\n",
      "[20.1200, 73.5000] Epoch 1/5, Loss: 12.6866\n",
      "[20.1200, 73.5000] Epoch 2/5, Loss: 12.2663\n",
      "[20.1200, 73.5000] Epoch 3/5, Loss: 11.6146\n",
      "[20.1200, 73.5000] Epoch 4/5, Loss: 11.4837\n",
      "[20.1200, 73.5000] Epoch 5/5, Loss: 11.0248\n",
      "[20.1200, 73.5000] Epoch 6/5, Loss: 10.5968\n",
      "[20.1200, 73.5000] Epoch 7/5, Loss: 10.2191\n",
      "[20.1200, 73.5000] Epoch 8/5, Loss: 9.9777\n",
      "[20.1200, 73.5000] Epoch 9/5, Loss: 9.6268\n",
      "[20.1200, 73.5000] Epoch 10/5, Loss: 9.5409\n",
      "[20.1200, 73.5000] Epoch 11/5, Loss: 9.2395\n",
      "[20.1200, 73.5000] Epoch 12/5, Loss: 8.9770\n",
      "[20.1200, 73.5000] Epoch 13/5, Loss: 8.8872\n",
      "[20.1200, 73.5000] Epoch 14/5, Loss: 8.4358\n",
      "[20.1200, 73.5000] Epoch 15/5, Loss: 7.9499\n",
      "[20.1200, 73.5000] Epoch 16/5, Loss: 7.7794\n",
      "[20.1200, 73.5000] Epoch 17/5, Loss: 7.7532\n"
     ]
    },
    {
     "name": "stderr",
     "output_type": "stream",
     "text": [
      "Stations:  23%|██▎       | 49/217 [00:57<03:14,  1.16s/it]"
     ]
    },
    {
     "name": "stdout",
     "output_type": "stream",
     "text": [
      "[20.1200, 73.5000] Epoch 18/5, Loss: 7.4813\n",
      "[20.1200, 73.5000] Epoch 19/5, Loss: 6.9952\n",
      "[20.1200, 73.5000] Epoch 20/5, Loss: 6.8597\n",
      "📍 Station (20.1200, 73.5000)\n",
      "  Accuracy : 0.9000\n",
      "  Precision: 0.5844\n",
      "  Recall   : 0.5844\n",
      "  F1-score : 0.5844\n",
      "    Class 0: Precision=0.9466, Recall=0.9466, F1-score=0.9466\n",
      "    Class 1: Precision=0.2222, Recall=0.2222, F1-score=0.2222\n",
      "[21.2000, 74.3200] Epoch 1/5, Loss: 5.1291\n",
      "[21.2000, 74.3200] Epoch 2/5, Loss: 5.4900\n",
      "[21.2000, 74.3200] Epoch 3/5, Loss: 4.7565\n",
      "[21.2000, 74.3200] Epoch 4/5, Loss: 4.6097\n",
      "[21.2000, 74.3200] Epoch 5/5, Loss: 4.2952\n",
      "[21.2000, 74.3200] Epoch 6/5, Loss: 4.1138\n",
      "[21.2000, 74.3200] Epoch 7/5, Loss: 4.2916\n",
      "[21.2000, 74.3200] Epoch 8/5, Loss: 4.3224\n",
      "[21.2000, 74.3200] Epoch 9/5, Loss: 3.6928\n",
      "[21.2000, 74.3200] Epoch 10/5, Loss: 3.8770\n",
      "[21.2000, 74.3200] Epoch 11/5, Loss: 3.4892\n",
      "[21.2000, 74.3200] Epoch 12/5, Loss: 3.6547\n",
      "[21.2000, 74.3200] Epoch 13/5, Loss: 3.4512\n",
      "[21.2000, 74.3200] Epoch 14/5, Loss: 3.1760\n",
      "[21.2000, 74.3200] Epoch 15/5, Loss: 3.2943\n",
      "[21.2000, 74.3200] Epoch 16/5, Loss: 2.9153\n",
      "[21.2000, 74.3200] Epoch 17/5, Loss: 2.9167\n"
     ]
    },
    {
     "name": "stderr",
     "output_type": "stream",
     "text": [
      "Stations:  23%|██▎       | 50/217 [00:58<02:44,  1.02it/s]"
     ]
    },
    {
     "name": "stdout",
     "output_type": "stream",
     "text": [
      "[21.2000, 74.3200] Epoch 18/5, Loss: 2.8132\n",
      "[21.2000, 74.3200] Epoch 19/5, Loss: 2.3962\n",
      "[21.2000, 74.3200] Epoch 20/5, Loss: 2.6522\n",
      "📍 Station (21.2000, 74.3200)\n",
      "  Accuracy : 0.9592\n",
      "  Precision: 0.4796\n",
      "  Recall   : 0.5000\n",
      "  F1-score : 0.4896\n",
      "    Class 0: Precision=0.9592, Recall=1.0000, F1-score=0.9792\n",
      "    Class 1: Precision=0.0000, Recall=0.0000, F1-score=0.0000\n",
      "[20.5600, 75.2000] Epoch 1/5, Loss: 12.5996\n",
      "[20.5600, 75.2000] Epoch 2/5, Loss: 11.9501\n",
      "[20.5600, 75.2000] Epoch 3/5, Loss: 11.8918\n",
      "[20.5600, 75.2000] Epoch 4/5, Loss: 11.5435\n",
      "[20.5600, 75.2000] Epoch 5/5, Loss: 11.2994\n",
      "[20.5600, 75.2000] Epoch 6/5, Loss: 10.8913\n",
      "[20.5600, 75.2000] Epoch 7/5, Loss: 10.6267\n",
      "[20.5600, 75.2000] Epoch 8/5, Loss: 10.4305\n",
      "[20.5600, 75.2000] Epoch 9/5, Loss: 10.2814\n",
      "[20.5600, 75.2000] Epoch 10/5, Loss: 9.8529\n",
      "[20.5600, 75.2000] Epoch 11/5, Loss: 9.6464\n",
      "[20.5600, 75.2000] Epoch 12/5, Loss: 9.4261\n",
      "[20.5600, 75.2000] Epoch 13/5, Loss: 9.2839\n",
      "[20.5600, 75.2000] Epoch 14/5, Loss: 8.7476\n",
      "[20.5600, 75.2000] Epoch 15/5, Loss: 8.5665\n",
      "[20.5600, 75.2000] Epoch 16/5, Loss: 8.3111\n",
      "[20.5600, 75.2000] Epoch 17/5, Loss: 8.1841\n",
      "[20.5600, 75.2000] Epoch 18/5, Loss: 7.8722\n",
      "[20.5600, 75.2000] Epoch 19/5, Loss: 7.4638\n"
     ]
    },
    {
     "name": "stderr",
     "output_type": "stream",
     "text": [
      "Stations:  24%|██▎       | 51/217 [00:59<03:08,  1.13s/it]"
     ]
    },
    {
     "name": "stdout",
     "output_type": "stream",
     "text": [
      "[20.5600, 75.2000] Epoch 20/5, Loss: 7.0278\n",
      "📍 Station (20.5600, 75.2000)\n",
      "  Accuracy : 0.7092\n",
      "  Precision: 0.5768\n",
      "  Recall   : 0.7016\n",
      "  F1-score : 0.5606\n",
      "    Class 0: Precision=0.9579, Recall=0.7109, F1-score=0.8161\n",
      "    Class 1: Precision=0.1957, Recall=0.6923, F1-score=0.3051\n",
      "[16.1300, 74.2100] Epoch 1/5, Loss: 11.2978\n",
      "[16.1300, 74.2100] Epoch 2/5, Loss: 11.0680\n",
      "[16.1300, 74.2100] Epoch 3/5, Loss: 10.5974\n",
      "[16.1300, 74.2100] Epoch 4/5, Loss: 10.0902\n",
      "[16.1300, 74.2100] Epoch 5/5, Loss: 10.0182\n",
      "[16.1300, 74.2100] Epoch 6/5, Loss: 9.6745\n",
      "[16.1300, 74.2100] Epoch 7/5, Loss: 9.2848\n",
      "[16.1300, 74.2100] Epoch 8/5, Loss: 9.2900\n",
      "[16.1300, 74.2100] Epoch 9/5, Loss: 8.7733\n",
      "[16.1300, 74.2100] Epoch 10/5, Loss: 8.4795\n",
      "[16.1300, 74.2100] Epoch 11/5, Loss: 8.2941\n",
      "[16.1300, 74.2100] Epoch 12/5, Loss: 8.1558\n",
      "[16.1300, 74.2100] Epoch 13/5, Loss: 7.8615\n",
      "[16.1300, 74.2100] Epoch 14/5, Loss: 7.8569\n",
      "[16.1300, 74.2100] Epoch 15/5, Loss: 7.3058\n",
      "[16.1300, 74.2100] Epoch 16/5, Loss: 7.3474\n",
      "[16.1300, 74.2100] Epoch 17/5, Loss: 7.1507\n"
     ]
    },
    {
     "name": "stderr",
     "output_type": "stream",
     "text": [
      "Stations:  24%|██▍       | 52/217 [01:00<03:21,  1.22s/it]"
     ]
    },
    {
     "name": "stdout",
     "output_type": "stream",
     "text": [
      "[16.1300, 74.2100] Epoch 18/5, Loss: 6.8818\n",
      "[16.1300, 74.2100] Epoch 19/5, Loss: 6.5970\n",
      "[16.1300, 74.2100] Epoch 20/5, Loss: 6.1768\n",
      "📍 Station (16.1300, 74.2100)\n",
      "  Accuracy : 0.6058\n",
      "  Precision: 0.5149\n",
      "  Recall   : 0.5413\n",
      "  F1-score : 0.4611\n",
      "    Class 0: Precision=0.9167, Recall=0.6210, F1-score=0.7404\n",
      "    Class 1: Precision=0.1132, Recall=0.4615, F1-score=0.1818\n",
      "[16.3300, 73.5000] Epoch 1/5, Loss: 12.5689\n",
      "[16.3300, 73.5000] Epoch 2/5, Loss: 12.0953\n",
      "[16.3300, 73.5000] Epoch 3/5, Loss: 11.5475\n",
      "[16.3300, 73.5000] Epoch 4/5, Loss: 11.4810\n",
      "[16.3300, 73.5000] Epoch 5/5, Loss: 11.1694\n",
      "[16.3300, 73.5000] Epoch 6/5, Loss: 10.7848\n",
      "[16.3300, 73.5000] Epoch 7/5, Loss: 10.6164\n",
      "[16.3300, 73.5000] Epoch 8/5, Loss: 10.2650\n",
      "[16.3300, 73.5000] Epoch 9/5, Loss: 10.0667\n",
      "[16.3300, 73.5000] Epoch 10/5, Loss: 9.7951\n",
      "[16.3300, 73.5000] Epoch 11/5, Loss: 9.4562\n",
      "[16.3300, 73.5000] Epoch 12/5, Loss: 9.4350\n",
      "[16.3300, 73.5000] Epoch 13/5, Loss: 9.0566\n",
      "[16.3300, 73.5000] Epoch 14/5, Loss: 8.8571\n",
      "[16.3300, 73.5000] Epoch 15/5, Loss: 8.6461\n",
      "[16.3300, 73.5000] Epoch 16/5, Loss: 8.6337\n",
      "[16.3300, 73.5000] Epoch 17/5, Loss: 8.4676\n",
      "[16.3300, 73.5000] Epoch 18/5, Loss: 8.2134\n"
     ]
    },
    {
     "name": "stderr",
     "output_type": "stream",
     "text": [
      "Stations:  24%|██▍       | 53/217 [01:02<03:33,  1.30s/it]"
     ]
    },
    {
     "name": "stdout",
     "output_type": "stream",
     "text": [
      "[16.3300, 73.5000] Epoch 19/5, Loss: 8.1683\n",
      "[16.3300, 73.5000] Epoch 20/5, Loss: 7.9854\n",
      "📍 Station (16.3300, 73.5000)\n",
      "  Accuracy : 0.7194\n",
      "  Precision: 0.7031\n",
      "  Recall   : 0.7045\n",
      "  F1-score : 0.7037\n",
      "    Class 0: Precision=0.6296, Recall=0.6415, F1-score=0.6355\n",
      "    Class 1: Precision=0.7765, Recall=0.7674, F1-score=0.7719\n",
      "[19.4200, 75.0100] Epoch 1/5, Loss: 12.8178\n",
      "[19.4200, 75.0100] Epoch 2/5, Loss: 12.4668\n",
      "[19.4200, 75.0100] Epoch 3/5, Loss: 11.9304\n",
      "[19.4200, 75.0100] Epoch 4/5, Loss: 11.7438\n",
      "[19.4200, 75.0100] Epoch 5/5, Loss: 11.5296\n",
      "[19.4200, 75.0100] Epoch 6/5, Loss: 11.1307\n",
      "[19.4200, 75.0100] Epoch 7/5, Loss: 11.0711\n",
      "[19.4200, 75.0100] Epoch 8/5, Loss: 10.5250\n",
      "[19.4200, 75.0100] Epoch 9/5, Loss: 10.6127\n",
      "[19.4200, 75.0100] Epoch 10/5, Loss: 10.3157\n",
      "[19.4200, 75.0100] Epoch 11/5, Loss: 9.9478\n",
      "[19.4200, 75.0100] Epoch 12/5, Loss: 9.6278\n",
      "[19.4200, 75.0100] Epoch 13/5, Loss: 9.6003\n",
      "[19.4200, 75.0100] Epoch 14/5, Loss: 9.5130\n",
      "[19.4200, 75.0100] Epoch 15/5, Loss: 8.6314\n",
      "[19.4200, 75.0100] Epoch 16/5, Loss: 8.6819\n",
      "[19.4200, 75.0100] Epoch 17/5, Loss: 8.2521\n",
      "[19.4200, 75.0100] Epoch 18/5, Loss: 7.9698\n",
      "[19.4200, 75.0100] Epoch 19/5, Loss: 7.6629\n"
     ]
    },
    {
     "name": "stderr",
     "output_type": "stream",
     "text": [
      "Stations:  25%|██▍       | 54/217 [01:03<03:42,  1.36s/it]"
     ]
    },
    {
     "name": "stdout",
     "output_type": "stream",
     "text": [
      "[19.4200, 75.0100] Epoch 20/5, Loss: 7.5111\n",
      "📍 Station (19.4200, 75.0100)\n",
      "  Accuracy : 0.8857\n",
      "  Precision: 0.6469\n",
      "  Recall   : 0.6263\n",
      "  F1-score : 0.6354\n",
      "    Class 0: Precision=0.9302, Recall=0.9449, F1-score=0.9375\n",
      "    Class 1: Precision=0.3636, Recall=0.3077, F1-score=0.3333\n",
      "[16.1800, 74.0800] Epoch 1/5, Loss: 12.4681\n",
      "[16.1800, 74.0800] Epoch 2/5, Loss: 11.4751\n",
      "[16.1800, 74.0800] Epoch 3/5, Loss: 10.9961\n",
      "[16.1800, 74.0800] Epoch 4/5, Loss: 10.4928\n",
      "[16.1800, 74.0800] Epoch 5/5, Loss: 9.8859\n",
      "[16.1800, 74.0800] Epoch 6/5, Loss: 9.7573\n",
      "[16.1800, 74.0800] Epoch 7/5, Loss: 9.2667\n",
      "[16.1800, 74.0800] Epoch 8/5, Loss: 8.8509\n",
      "[16.1800, 74.0800] Epoch 9/5, Loss: 8.4528\n",
      "[16.1800, 74.0800] Epoch 10/5, Loss: 8.2506\n",
      "[16.1800, 74.0800] Epoch 11/5, Loss: 7.7256\n",
      "[16.1800, 74.0800] Epoch 12/5, Loss: 7.9047\n",
      "[16.1800, 74.0800] Epoch 13/5, Loss: 7.2842\n",
      "[16.1800, 74.0800] Epoch 14/5, Loss: 6.9316\n",
      "[16.1800, 74.0800] Epoch 15/5, Loss: 6.6156\n",
      "[16.1800, 74.0800] Epoch 16/5, Loss: 6.4995\n",
      "[16.1800, 74.0800] Epoch 17/5, Loss: 6.0674\n"
     ]
    },
    {
     "name": "stderr",
     "output_type": "stream",
     "text": [
      "Stations:  25%|██▌       | 55/217 [01:05<03:50,  1.42s/it]"
     ]
    },
    {
     "name": "stdout",
     "output_type": "stream",
     "text": [
      "[16.1800, 74.0800] Epoch 18/5, Loss: 5.9376\n",
      "[16.1800, 74.0800] Epoch 19/5, Loss: 5.8788\n",
      "[16.1800, 74.0800] Epoch 20/5, Loss: 5.6580\n",
      "📍 Station (16.1800, 74.0800)\n",
      "  Accuracy : 0.8786\n",
      "  Precision: 0.8109\n",
      "  Recall   : 0.7621\n",
      "  F1-score : 0.7827\n",
      "    Class 0: Precision=0.9076, Recall=0.9474, F1-score=0.9270\n",
      "    Class 1: Precision=0.7143, Recall=0.5769, F1-score=0.6383\n",
      "[19.1500, 75.4500] Epoch 1/5, Loss: 6.1204\n",
      "[19.1500, 75.4500] Epoch 2/5, Loss: 5.9298\n",
      "[19.1500, 75.4500] Epoch 3/5, Loss: 5.8371\n",
      "[19.1500, 75.4500] Epoch 4/5, Loss: 5.8164\n",
      "[19.1500, 75.4500] Epoch 5/5, Loss: 5.6575\n",
      "[19.1500, 75.4500] Epoch 6/5, Loss: 5.6164\n",
      "[19.1500, 75.4500] Epoch 7/5, Loss: 5.4011\n",
      "[19.1500, 75.4500] Epoch 8/5, Loss: 5.5897\n",
      "[19.1500, 75.4500] Epoch 9/5, Loss: 5.2448\n",
      "[19.1500, 75.4500] Epoch 10/5, Loss: 4.9308\n",
      "[19.1500, 75.4500] Epoch 11/5, Loss: 4.9183\n",
      "[19.1500, 75.4500] Epoch 12/5, Loss: 4.8019\n",
      "[19.1500, 75.4500] Epoch 13/5, Loss: 4.6593\n",
      "[19.1500, 75.4500] Epoch 14/5, Loss: 4.6124\n",
      "[19.1500, 75.4500] Epoch 15/5, Loss: 4.3883\n",
      "[19.1500, 75.4500] Epoch 16/5, Loss: 4.3194\n",
      "[19.1500, 75.4500] Epoch 17/5, Loss: 4.1273\n",
      "[19.1500, 75.4500] Epoch 18/5, Loss: 4.1634\n"
     ]
    },
    {
     "name": "stderr",
     "output_type": "stream",
     "text": [
      "Stations:  26%|██▌       | 56/217 [01:06<03:18,  1.23s/it]"
     ]
    },
    {
     "name": "stdout",
     "output_type": "stream",
     "text": [
      "[19.1500, 75.4500] Epoch 19/5, Loss: 3.7762\n",
      "[19.1500, 75.4500] Epoch 20/5, Loss: 3.6718\n",
      "📍 Station (19.1500, 75.4500)\n",
      "  Accuracy : 0.8857\n",
      "  Precision: 0.4559\n",
      "  Recall   : 0.4844\n",
      "  F1-score : 0.4697\n",
      "    Class 0: Precision=0.9118, Recall=0.9687, F1-score=0.9394\n",
      "    Class 1: Precision=0.0000, Recall=0.0000, F1-score=0.0000\n",
      "[19.3100, 75.5900] Epoch 1/5, Loss: 12.8536\n",
      "[19.3100, 75.5900] Epoch 2/5, Loss: 12.1074\n",
      "[19.3100, 75.5900] Epoch 3/5, Loss: 11.7687\n",
      "[19.3100, 75.5900] Epoch 4/5, Loss: 10.7446\n",
      "[19.3100, 75.5900] Epoch 5/5, Loss: 10.5667\n",
      "[19.3100, 75.5900] Epoch 6/5, Loss: 10.1664\n",
      "[19.3100, 75.5900] Epoch 7/5, Loss: 10.0589\n",
      "[19.3100, 75.5900] Epoch 8/5, Loss: 9.6324\n",
      "[19.3100, 75.5900] Epoch 9/5, Loss: 9.1224\n",
      "[19.3100, 75.5900] Epoch 10/5, Loss: 9.1074\n",
      "[19.3100, 75.5900] Epoch 11/5, Loss: 8.0812\n",
      "[19.3100, 75.5900] Epoch 12/5, Loss: 8.2197\n",
      "[19.3100, 75.5900] Epoch 13/5, Loss: 7.4693\n",
      "[19.3100, 75.5900] Epoch 14/5, Loss: 7.0971\n",
      "[19.3100, 75.5900] Epoch 15/5, Loss: 6.7005\n",
      "[19.3100, 75.5900] Epoch 16/5, Loss: 6.0776\n",
      "[19.3100, 75.5900] Epoch 17/5, Loss: 6.1791\n",
      "[19.3100, 75.5900] Epoch 18/5, Loss: 5.3385\n",
      "[19.3100, 75.5900] Epoch 19/5, Loss: 5.0731\n"
     ]
    },
    {
     "name": "stderr",
     "output_type": "stream",
     "text": [
      "Stations:  26%|██▋       | 57/217 [01:07<03:28,  1.30s/it]"
     ]
    },
    {
     "name": "stdout",
     "output_type": "stream",
     "text": [
      "[19.3100, 75.5900] Epoch 20/5, Loss: 4.6036\n",
      "📍 Station (19.3100, 75.5900)\n",
      "  Accuracy : 0.8723\n",
      "  Precision: 0.5478\n",
      "  Recall   : 0.5799\n",
      "  F1-score : 0.5563\n",
      "    Class 0: Precision=0.9528, Recall=0.9098, F1-score=0.9308\n",
      "    Class 1: Precision=0.1429, Recall=0.2500, F1-score=0.1818\n",
      "[17.2800, 73.1200] Epoch 1/5, Loss: 12.5191\n",
      "[17.2800, 73.1200] Epoch 2/5, Loss: 11.7461\n",
      "[17.2800, 73.1200] Epoch 3/5, Loss: 11.2500\n",
      "[17.2800, 73.1200] Epoch 4/5, Loss: 10.9010\n",
      "[17.2800, 73.1200] Epoch 5/5, Loss: 10.5434\n",
      "[17.2800, 73.1200] Epoch 6/5, Loss: 10.1074\n",
      "[17.2800, 73.1200] Epoch 7/5, Loss: 9.8600\n",
      "[17.2800, 73.1200] Epoch 8/5, Loss: 9.3840\n",
      "[17.2800, 73.1200] Epoch 9/5, Loss: 9.2845\n",
      "[17.2800, 73.1200] Epoch 10/5, Loss: 8.8538\n",
      "[17.2800, 73.1200] Epoch 11/5, Loss: 8.7322\n",
      "[17.2800, 73.1200] Epoch 12/5, Loss: 8.2596\n",
      "[17.2800, 73.1200] Epoch 13/5, Loss: 8.2011\n",
      "[17.2800, 73.1200] Epoch 14/5, Loss: 7.8391\n",
      "[17.2800, 73.1200] Epoch 15/5, Loss: 7.5672\n",
      "[17.2800, 73.1200] Epoch 16/5, Loss: 7.4342\n",
      "[17.2800, 73.1200] Epoch 17/5, Loss: 7.2764\n"
     ]
    },
    {
     "name": "stderr",
     "output_type": "stream",
     "text": [
      "Stations:  27%|██▋       | 58/217 [01:09<03:33,  1.35s/it]"
     ]
    },
    {
     "name": "stdout",
     "output_type": "stream",
     "text": [
      "[17.2800, 73.1200] Epoch 18/5, Loss: 7.1131\n",
      "[17.2800, 73.1200] Epoch 19/5, Loss: 6.7168\n",
      "[17.2800, 73.1200] Epoch 20/5, Loss: 6.4175\n",
      "📍 Station (17.2800, 73.1200)\n",
      "  Accuracy : 0.7194\n",
      "  Precision: 0.7000\n",
      "  Recall   : 0.7276\n",
      "  F1-score : 0.7016\n",
      "    Class 0: Precision=0.8590, Recall=0.7053, F1-score=0.7746\n",
      "    Class 1: Precision=0.5410, Recall=0.7500, F1-score=0.6286\n",
      "[17.4900, 73.0600] Epoch 1/5, Loss: 12.4926\n",
      "[17.4900, 73.0600] Epoch 2/5, Loss: 12.0686\n",
      "[17.4900, 73.0600] Epoch 3/5, Loss: 11.5943\n",
      "[17.4900, 73.0600] Epoch 4/5, Loss: 11.2548\n",
      "[17.4900, 73.0600] Epoch 5/5, Loss: 10.8866\n",
      "[17.4900, 73.0600] Epoch 6/5, Loss: 10.8571\n",
      "[17.4900, 73.0600] Epoch 7/5, Loss: 10.3691\n",
      "[17.4900, 73.0600] Epoch 8/5, Loss: 10.1942\n",
      "[17.4900, 73.0600] Epoch 9/5, Loss: 9.8414\n",
      "[17.4900, 73.0600] Epoch 10/5, Loss: 9.7402\n",
      "[17.4900, 73.0600] Epoch 11/5, Loss: 9.4188\n",
      "[17.4900, 73.0600] Epoch 12/5, Loss: 9.3661\n",
      "[17.4900, 73.0600] Epoch 13/5, Loss: 9.1134\n",
      "[17.4900, 73.0600] Epoch 14/5, Loss: 8.8469\n",
      "[17.4900, 73.0600] Epoch 15/5, Loss: 8.7198\n",
      "[17.4900, 73.0600] Epoch 16/5, Loss: 8.5539\n",
      "[17.4900, 73.0600] Epoch 17/5, Loss: 8.3825\n",
      "[17.4900, 73.0600] Epoch 18/5, Loss: 8.3591\n",
      "[17.4900, 73.0600] Epoch 19/5, Loss: 8.0074\n"
     ]
    },
    {
     "name": "stderr",
     "output_type": "stream",
     "text": [
      "Stations:  27%|██▋       | 59/217 [01:10<03:31,  1.34s/it]"
     ]
    },
    {
     "name": "stdout",
     "output_type": "stream",
     "text": [
      "[17.4900, 73.0600] Epoch 20/5, Loss: 7.7228\n",
      "📍 Station (17.4900, 73.0600)\n",
      "  Accuracy : 0.6259\n",
      "  Precision: 0.6589\n",
      "  Recall   : 0.6931\n",
      "  F1-score : 0.6172\n",
      "    Class 0: Precision=0.9000, Recall=0.5400, F1-score=0.6750\n",
      "    Class 1: Precision=0.4177, Recall=0.8462, F1-score=0.5593\n",
      "[16.4500, 74.2500] Epoch 1/5, Loss: 11.6976\n",
      "[16.4500, 74.2500] Epoch 2/5, Loss: 11.3743\n",
      "[16.4500, 74.2500] Epoch 3/5, Loss: 11.0470\n",
      "[16.4500, 74.2500] Epoch 4/5, Loss: 10.7006\n",
      "[16.4500, 74.2500] Epoch 5/5, Loss: 10.2344\n",
      "[16.4500, 74.2500] Epoch 6/5, Loss: 10.0486\n",
      "[16.4500, 74.2500] Epoch 7/5, Loss: 9.7094\n",
      "[16.4500, 74.2500] Epoch 8/5, Loss: 9.6918\n",
      "[16.4500, 74.2500] Epoch 9/5, Loss: 9.4260\n",
      "[16.4500, 74.2500] Epoch 10/5, Loss: 8.9975\n",
      "[16.4500, 74.2500] Epoch 11/5, Loss: 8.9519\n",
      "[16.4500, 74.2500] Epoch 12/5, Loss: 8.5827\n",
      "[16.4500, 74.2500] Epoch 13/5, Loss: 8.1302\n",
      "[16.4500, 74.2500] Epoch 14/5, Loss: 8.0351\n",
      "[16.4500, 74.2500] Epoch 15/5, Loss: 8.0322\n",
      "[16.4500, 74.2500] Epoch 16/5, Loss: 7.6847\n",
      "[16.4500, 74.2500] Epoch 17/5, Loss: 7.6710\n",
      "[16.4500, 74.2500] Epoch 18/5, Loss: 7.3318\n"
     ]
    },
    {
     "name": "stderr",
     "output_type": "stream",
     "text": [
      "Stations:  28%|██▊       | 60/217 [01:11<03:22,  1.29s/it]"
     ]
    },
    {
     "name": "stdout",
     "output_type": "stream",
     "text": [
      "[16.4500, 74.2500] Epoch 19/5, Loss: 7.1876\n",
      "[16.4500, 74.2500] Epoch 20/5, Loss: 6.6464\n",
      "📍 Station (16.4500, 74.2500)\n",
      "  Accuracy : 0.8692\n",
      "  Precision: 0.6652\n",
      "  Recall   : 0.6755\n",
      "  F1-score : 0.6701\n",
      "    Class 0: Precision=0.9304, Recall=0.9224, F1-score=0.9264\n",
      "    Class 1: Precision=0.4000, Recall=0.4286, F1-score=0.4138\n",
      "[19.4300, 77.0900] Epoch 1/5, Loss: 12.2237\n",
      "[19.4300, 77.0900] Epoch 2/5, Loss: 11.7791\n",
      "[19.4300, 77.0900] Epoch 3/5, Loss: 11.7971\n",
      "[19.4300, 77.0900] Epoch 4/5, Loss: 11.2318\n",
      "[19.4300, 77.0900] Epoch 5/5, Loss: 10.6488\n",
      "[19.4300, 77.0900] Epoch 6/5, Loss: 10.5629\n",
      "[19.4300, 77.0900] Epoch 7/5, Loss: 9.7980\n",
      "[19.4300, 77.0900] Epoch 8/5, Loss: 9.9261\n",
      "[19.4300, 77.0900] Epoch 9/5, Loss: 9.2714\n",
      "[19.4300, 77.0900] Epoch 10/5, Loss: 8.6302\n",
      "[19.4300, 77.0900] Epoch 11/5, Loss: 8.6310\n",
      "[19.4300, 77.0900] Epoch 12/5, Loss: 8.3509\n",
      "[19.4300, 77.0900] Epoch 13/5, Loss: 7.8908\n",
      "[19.4300, 77.0900] Epoch 14/5, Loss: 7.8013\n",
      "[19.4300, 77.0900] Epoch 15/5, Loss: 6.9180\n",
      "[19.4300, 77.0900] Epoch 16/5, Loss: 6.7554\n",
      "[19.4300, 77.0900] Epoch 17/5, Loss: 6.3874\n"
     ]
    },
    {
     "name": "stderr",
     "output_type": "stream",
     "text": [
      "Stations:  28%|██▊       | 61/217 [01:12<03:20,  1.28s/it]"
     ]
    },
    {
     "name": "stdout",
     "output_type": "stream",
     "text": [
      "[19.4300, 77.0900] Epoch 18/5, Loss: 6.0609\n",
      "[19.4300, 77.0900] Epoch 19/5, Loss: 5.6188\n",
      "[19.4300, 77.0900] Epoch 20/5, Loss: 5.4503\n",
      "📍 Station (19.4300, 77.0900)\n",
      "  Accuracy : 0.9149\n",
      "  Precision: 0.5385\n",
      "  Recall   : 0.5922\n",
      "  F1-score : 0.5490\n",
      "    Class 0: Precision=0.9771, Recall=0.9343, F1-score=0.9552\n",
      "    Class 1: Precision=0.1000, Recall=0.2500, F1-score=0.1429\n",
      "[19.4300, 73.3500] Epoch 1/5, Loss: 12.5951\n",
      "[19.4300, 73.3500] Epoch 2/5, Loss: 12.0187\n",
      "[19.4300, 73.3500] Epoch 3/5, Loss: 11.5537\n",
      "[19.4300, 73.3500] Epoch 4/5, Loss: 11.3169\n",
      "[19.4300, 73.3500] Epoch 5/5, Loss: 11.1122\n",
      "[19.4300, 73.3500] Epoch 6/5, Loss: 10.8924\n",
      "[19.4300, 73.3500] Epoch 7/5, Loss: 10.4413\n",
      "[19.4300, 73.3500] Epoch 8/5, Loss: 10.4707\n",
      "[19.4300, 73.3500] Epoch 9/5, Loss: 10.3328\n",
      "[19.4300, 73.3500] Epoch 10/5, Loss: 10.0663\n",
      "[19.4300, 73.3500] Epoch 11/5, Loss: 9.8147\n",
      "[19.4300, 73.3500] Epoch 12/5, Loss: 9.6857\n",
      "[19.4300, 73.3500] Epoch 13/5, Loss: 9.3836\n",
      "[19.4300, 73.3500] Epoch 14/5, Loss: 9.2127\n",
      "[19.4300, 73.3500] Epoch 15/5, Loss: 9.1435\n",
      "[19.4300, 73.3500] Epoch 16/5, Loss: 8.7809\n",
      "[19.4300, 73.3500] Epoch 17/5, Loss: 8.5873\n"
     ]
    },
    {
     "name": "stderr",
     "output_type": "stream",
     "text": [
      "Stations:  29%|██▊       | 62/217 [01:14<03:15,  1.26s/it]"
     ]
    },
    {
     "name": "stdout",
     "output_type": "stream",
     "text": [
      "[19.4300, 73.3500] Epoch 18/5, Loss: 8.3970\n",
      "[19.4300, 73.3500] Epoch 19/5, Loss: 8.2893\n",
      "[19.4300, 73.3500] Epoch 20/5, Loss: 7.8944\n",
      "📍 Station (19.4300, 73.3500)\n",
      "  Accuracy : 0.7410\n",
      "  Precision: 0.7561\n",
      "  Recall   : 0.7572\n",
      "  F1-score : 0.7410\n",
      "    Class 0: Precision=0.8667, Recall=0.6500, F1-score=0.7429\n",
      "    Class 1: Precision=0.6456, Recall=0.8644, F1-score=0.7391\n",
      "[18.0700, 75.0200] Epoch 1/5, Loss: 12.1942\n",
      "[18.0700, 75.0200] Epoch 2/5, Loss: 11.8161\n",
      "[18.0700, 75.0200] Epoch 3/5, Loss: 11.4187\n",
      "[18.0700, 75.0200] Epoch 4/5, Loss: 10.6237\n",
      "[18.0700, 75.0200] Epoch 5/5, Loss: 10.2184\n",
      "[18.0700, 75.0200] Epoch 6/5, Loss: 10.0104\n",
      "[18.0700, 75.0200] Epoch 7/5, Loss: 9.9416\n",
      "[18.0700, 75.0200] Epoch 8/5, Loss: 9.6535\n",
      "[18.0700, 75.0200] Epoch 9/5, Loss: 9.4478\n",
      "[18.0700, 75.0200] Epoch 10/5, Loss: 8.7519\n",
      "[18.0700, 75.0200] Epoch 11/5, Loss: 8.2567\n",
      "[18.0700, 75.0200] Epoch 12/5, Loss: 7.7389\n",
      "[18.0700, 75.0200] Epoch 13/5, Loss: 7.6653\n",
      "[18.0700, 75.0200] Epoch 14/5, Loss: 6.8574\n",
      "[18.0700, 75.0200] Epoch 15/5, Loss: 6.8106\n",
      "[18.0700, 75.0200] Epoch 16/5, Loss: 6.1891\n"
     ]
    },
    {
     "name": "stderr",
     "output_type": "stream",
     "text": [
      "Stations:  29%|██▉       | 63/217 [01:15<03:12,  1.25s/it]"
     ]
    },
    {
     "name": "stdout",
     "output_type": "stream",
     "text": [
      "[18.0700, 75.0200] Epoch 17/5, Loss: 6.1272\n",
      "[18.0700, 75.0200] Epoch 18/5, Loss: 5.4122\n",
      "[18.0700, 75.0200] Epoch 19/5, Loss: 4.8779\n",
      "[18.0700, 75.0200] Epoch 20/5, Loss: 4.6830\n",
      "📍 Station (18.0700, 75.0200)\n",
      "  Accuracy : 0.9291\n",
      "  Precision: 0.4645\n",
      "  Recall   : 0.5000\n",
      "  F1-score : 0.4816\n",
      "    Class 0: Precision=0.9291, Recall=1.0000, F1-score=0.9632\n",
      "    Class 1: Precision=0.0000, Recall=0.0000, F1-score=0.0000\n",
      "[20.1200, 76.0100] Epoch 1/5, Loss: 12.5820\n",
      "[20.1200, 76.0100] Epoch 2/5, Loss: 12.0575\n",
      "[20.1200, 76.0100] Epoch 3/5, Loss: 11.4640\n",
      "[20.1200, 76.0100] Epoch 4/5, Loss: 10.9230\n",
      "[20.1200, 76.0100] Epoch 5/5, Loss: 10.8582\n",
      "[20.1200, 76.0100] Epoch 6/5, Loss: 10.3127\n",
      "[20.1200, 76.0100] Epoch 7/5, Loss: 9.8716\n",
      "[20.1200, 76.0100] Epoch 8/5, Loss: 9.5701\n",
      "[20.1200, 76.0100] Epoch 9/5, Loss: 9.1209\n",
      "[20.1200, 76.0100] Epoch 10/5, Loss: 8.9703\n",
      "[20.1200, 76.0100] Epoch 11/5, Loss: 8.4475\n",
      "[20.1200, 76.0100] Epoch 12/5, Loss: 7.9894\n",
      "[20.1200, 76.0100] Epoch 13/5, Loss: 7.7092\n",
      "[20.1200, 76.0100] Epoch 14/5, Loss: 7.4457\n",
      "[20.1200, 76.0100] Epoch 15/5, Loss: 6.9472\n",
      "[20.1200, 76.0100] Epoch 16/5, Loss: 6.7808\n"
     ]
    },
    {
     "name": "stderr",
     "output_type": "stream",
     "text": [
      "Stations:  29%|██▉       | 64/217 [01:16<03:09,  1.24s/it]"
     ]
    },
    {
     "name": "stdout",
     "output_type": "stream",
     "text": [
      "[20.1200, 76.0100] Epoch 17/5, Loss: 6.2602\n",
      "[20.1200, 76.0100] Epoch 18/5, Loss: 6.1602\n",
      "[20.1200, 76.0100] Epoch 19/5, Loss: 5.7080\n",
      "[20.1200, 76.0100] Epoch 20/5, Loss: 5.2491\n",
      "📍 Station (20.1200, 76.0100)\n",
      "  Accuracy : 0.7447\n",
      "  Precision: 0.5657\n",
      "  Recall   : 0.6520\n",
      "  F1-score : 0.5624\n",
      "    Class 0: Precision=0.9423, Recall=0.7656, F1-score=0.8448\n",
      "    Class 1: Precision=0.1892, Recall=0.5385, F1-score=0.2800\n",
      "[21.0300, 75.3400] Epoch 1/5, Loss: 12.8402\n",
      "[21.0300, 75.3400] Epoch 2/5, Loss: 12.1819\n",
      "[21.0300, 75.3400] Epoch 3/5, Loss: 11.9232\n",
      "[21.0300, 75.3400] Epoch 4/5, Loss: 11.6041\n",
      "[21.0300, 75.3400] Epoch 5/5, Loss: 10.9433\n",
      "[21.0300, 75.3400] Epoch 6/5, Loss: 10.8008\n",
      "[21.0300, 75.3400] Epoch 7/5, Loss: 10.4951\n",
      "[21.0300, 75.3400] Epoch 8/5, Loss: 10.3391\n",
      "[21.0300, 75.3400] Epoch 9/5, Loss: 9.7726\n",
      "[21.0300, 75.3400] Epoch 10/5, Loss: 9.5135\n",
      "[21.0300, 75.3400] Epoch 11/5, Loss: 9.0007\n",
      "[21.0300, 75.3400] Epoch 12/5, Loss: 8.6349\n",
      "[21.0300, 75.3400] Epoch 13/5, Loss: 8.5945\n",
      "[21.0300, 75.3400] Epoch 14/5, Loss: 7.8673\n",
      "[21.0300, 75.3400] Epoch 15/5, Loss: 7.5614\n",
      "[21.0300, 75.3400] Epoch 16/5, Loss: 7.3284\n",
      "[21.0300, 75.3400] Epoch 17/5, Loss: 7.3477\n",
      "[21.0300, 75.3400] Epoch 18/5, Loss: 6.6918\n",
      "[21.0300, 75.3400] Epoch 19/5, Loss: 6.2231\n"
     ]
    },
    {
     "name": "stderr",
     "output_type": "stream",
     "text": [
      "Stations:  30%|██▉       | 65/217 [01:17<03:07,  1.24s/it]"
     ]
    },
    {
     "name": "stdout",
     "output_type": "stream",
     "text": [
      "[21.0300, 75.3400] Epoch 20/5, Loss: 6.1385\n",
      "📍 Station (21.0300, 75.3400)\n",
      "  Accuracy : 0.8214\n",
      "  Precision: 0.5948\n",
      "  Recall   : 0.6599\n",
      "  F1-score : 0.6107\n",
      "    Class 0: Precision=0.9397, Recall=0.8583, F1-score=0.8971\n",
      "    Class 1: Precision=0.2500, Recall=0.4615, F1-score=0.3243\n",
      "[18.3700, 77.1000] Epoch 1/5, Loss: 12.4574\n",
      "[18.3700, 77.1000] Epoch 2/5, Loss: 12.1138\n",
      "[18.3700, 77.1000] Epoch 3/5, Loss: 11.6026\n",
      "[18.3700, 77.1000] Epoch 4/5, Loss: 11.4130\n",
      "[18.3700, 77.1000] Epoch 5/5, Loss: 10.9135\n",
      "[18.3700, 77.1000] Epoch 6/5, Loss: 10.5484\n",
      "[18.3700, 77.1000] Epoch 7/5, Loss: 10.1814\n",
      "[18.3700, 77.1000] Epoch 8/5, Loss: 9.9526\n",
      "[18.3700, 77.1000] Epoch 9/5, Loss: 9.8405\n",
      "[18.3700, 77.1000] Epoch 10/5, Loss: 9.5043\n",
      "[18.3700, 77.1000] Epoch 11/5, Loss: 9.2903\n",
      "[18.3700, 77.1000] Epoch 12/5, Loss: 8.7762\n",
      "[18.3700, 77.1000] Epoch 13/5, Loss: 8.4028\n",
      "[18.3700, 77.1000] Epoch 14/5, Loss: 8.3134\n",
      "[18.3700, 77.1000] Epoch 15/5, Loss: 7.8237\n",
      "[18.3700, 77.1000] Epoch 16/5, Loss: 7.5607\n",
      "[18.3700, 77.1000] Epoch 17/5, Loss: 6.8947\n"
     ]
    },
    {
     "name": "stderr",
     "output_type": "stream",
     "text": [
      "Stations:  30%|███       | 66/217 [01:20<03:48,  1.52s/it]"
     ]
    },
    {
     "name": "stdout",
     "output_type": "stream",
     "text": [
      "[18.3700, 77.1000] Epoch 18/5, Loss: 6.6176\n",
      "[18.3700, 77.1000] Epoch 19/5, Loss: 6.1584\n",
      "[18.3700, 77.1000] Epoch 20/5, Loss: 6.0684\n",
      "📍 Station (18.3700, 77.1000)\n",
      "  Accuracy : 0.8857\n",
      "  Precision: 0.7077\n",
      "  Recall   : 0.6361\n",
      "  F1-score : 0.6608\n",
      "    Class 0: Precision=0.9154, Recall=0.9597, F1-score=0.9370\n",
      "    Class 1: Precision=0.5000, Recall=0.3125, F1-score=0.3846\n",
      "[19.5000, 75.5300] Epoch 1/5, Loss: 9.1949\n",
      "[19.5000, 75.5300] Epoch 2/5, Loss: 8.5778\n",
      "[19.5000, 75.5300] Epoch 3/5, Loss: 8.3926\n",
      "[19.5000, 75.5300] Epoch 4/5, Loss: 7.7747\n",
      "[19.5000, 75.5300] Epoch 5/5, Loss: 7.7319\n",
      "[19.5000, 75.5300] Epoch 6/5, Loss: 7.3239\n",
      "[19.5000, 75.5300] Epoch 7/5, Loss: 7.0248\n",
      "[19.5000, 75.5300] Epoch 8/5, Loss: 6.5702\n",
      "[19.5000, 75.5300] Epoch 9/5, Loss: 6.2976\n",
      "[19.5000, 75.5300] Epoch 10/5, Loss: 6.0274\n",
      "[19.5000, 75.5300] Epoch 11/5, Loss: 5.6398\n",
      "[19.5000, 75.5300] Epoch 12/5, Loss: 5.5670\n",
      "[19.5000, 75.5300] Epoch 13/5, Loss: 4.8675\n",
      "[19.5000, 75.5300] Epoch 14/5, Loss: 4.6073\n",
      "[19.5000, 75.5300] Epoch 15/5, Loss: 4.1071\n",
      "[19.5000, 75.5300] Epoch 16/5, Loss: 3.9072\n"
     ]
    },
    {
     "name": "stderr",
     "output_type": "stream",
     "text": [
      "Stations:  31%|███       | 67/217 [01:21<03:28,  1.39s/it]"
     ]
    },
    {
     "name": "stdout",
     "output_type": "stream",
     "text": [
      "[19.5000, 75.5300] Epoch 17/5, Loss: 3.7048\n",
      "[19.5000, 75.5300] Epoch 18/5, Loss: 3.1471\n",
      "[19.5000, 75.5300] Epoch 19/5, Loss: 2.9380\n",
      "[19.5000, 75.5300] Epoch 20/5, Loss: 2.4990\n",
      "📍 Station (19.5000, 75.5300)\n",
      "  Accuracy : 0.9510\n",
      "  Precision: 0.4899\n",
      "  Recall   : 0.4850\n",
      "  F1-score : 0.4874\n",
      "    Class 0: Precision=0.9798, Recall=0.9700, F1-score=0.9749\n",
      "    Class 1: Precision=0.0000, Recall=0.0000, F1-score=0.0000\n",
      "[18.4400, 75.1900] Epoch 1/5, Loss: 12.6325\n",
      "[18.4400, 75.1900] Epoch 2/5, Loss: 11.6139\n",
      "[18.4400, 75.1900] Epoch 3/5, Loss: 11.0840\n",
      "[18.4400, 75.1900] Epoch 4/5, Loss: 10.7191\n",
      "[18.4400, 75.1900] Epoch 5/5, Loss: 10.5701\n",
      "[18.4400, 75.1900] Epoch 6/5, Loss: 10.1139\n",
      "[18.4400, 75.1900] Epoch 7/5, Loss: 9.6018\n",
      "[18.4400, 75.1900] Epoch 8/5, Loss: 8.9188\n",
      "[18.4400, 75.1900] Epoch 9/5, Loss: 9.0390\n",
      "[18.4400, 75.1900] Epoch 10/5, Loss: 8.8983\n",
      "[18.4400, 75.1900] Epoch 11/5, Loss: 8.6319\n",
      "[18.4400, 75.1900] Epoch 12/5, Loss: 8.0543\n",
      "[18.4400, 75.1900] Epoch 13/5, Loss: 7.8701\n",
      "[18.4400, 75.1900] Epoch 14/5, Loss: 7.2881\n",
      "[18.4400, 75.1900] Epoch 15/5, Loss: 7.0578\n",
      "[18.4400, 75.1900] Epoch 16/5, Loss: 6.6588\n",
      "[18.4400, 75.1900] Epoch 17/5, Loss: 6.8364\n",
      "[18.4400, 75.1900] Epoch 18/5, Loss: 6.3946\n"
     ]
    },
    {
     "name": "stderr",
     "output_type": "stream",
     "text": [
      "Stations:  31%|███▏      | 68/217 [01:22<03:30,  1.41s/it]"
     ]
    },
    {
     "name": "stdout",
     "output_type": "stream",
     "text": [
      "[18.4400, 75.1900] Epoch 19/5, Loss: 5.9783\n",
      "[18.4400, 75.1900] Epoch 20/5, Loss: 5.4796\n",
      "📍 Station (18.4400, 75.1900)\n",
      "  Accuracy : 0.8786\n",
      "  Precision: 0.4393\n",
      "  Recall   : 0.5000\n",
      "  F1-score : 0.4677\n",
      "    Class 0: Precision=0.8786, Recall=1.0000, F1-score=0.9354\n",
      "    Class 1: Precision=0.0000, Recall=0.0000, F1-score=0.0000\n",
      "[20.4900, 75.4700] Epoch 1/5, Loss: 12.4301\n",
      "[20.4900, 75.4700] Epoch 2/5, Loss: 11.7686\n",
      "[20.4900, 75.4700] Epoch 3/5, Loss: 11.4247\n",
      "[20.4900, 75.4700] Epoch 4/5, Loss: 10.9001\n",
      "[20.4900, 75.4700] Epoch 5/5, Loss: 10.6905\n",
      "[20.4900, 75.4700] Epoch 6/5, Loss: 10.4433\n",
      "[20.4900, 75.4700] Epoch 7/5, Loss: 9.9868\n",
      "[20.4900, 75.4700] Epoch 8/5, Loss: 9.7275\n",
      "[20.4900, 75.4700] Epoch 9/5, Loss: 9.4202\n",
      "[20.4900, 75.4700] Epoch 10/5, Loss: 9.0006\n",
      "[20.4900, 75.4700] Epoch 11/5, Loss: 8.6119\n",
      "[20.4900, 75.4700] Epoch 12/5, Loss: 8.4887\n",
      "[20.4900, 75.4700] Epoch 13/5, Loss: 8.1090\n",
      "[20.4900, 75.4700] Epoch 14/5, Loss: 7.7014\n",
      "[20.4900, 75.4700] Epoch 15/5, Loss: 7.2883\n",
      "[20.4900, 75.4700] Epoch 16/5, Loss: 7.1432\n",
      "[20.4900, 75.4700] Epoch 17/5, Loss: 6.7826\n",
      "[20.4900, 75.4700] Epoch 18/5, Loss: 6.5668\n",
      "[20.4900, 75.4700] Epoch 19/5, Loss: 5.8042\n"
     ]
    },
    {
     "name": "stderr",
     "output_type": "stream",
     "text": [
      "Stations:  32%|███▏      | 69/217 [01:23<03:29,  1.41s/it]"
     ]
    },
    {
     "name": "stdout",
     "output_type": "stream",
     "text": [
      "[20.4900, 75.4700] Epoch 20/5, Loss: 5.6405\n",
      "📍 Station (20.4900, 75.4700)\n",
      "  Accuracy : 0.8714\n",
      "  Precision: 0.6227\n",
      "  Recall   : 0.6808\n",
      "  F1-score : 0.6429\n",
      "    Class 0: Precision=0.9512, Recall=0.9070, F1-score=0.9286\n",
      "    Class 1: Precision=0.2941, Recall=0.4545, F1-score=0.3571\n",
      "[17.0300, 75.1300] Epoch 1/5, Loss: 11.6612\n",
      "[17.0300, 75.1300] Epoch 2/5, Loss: 11.2555\n",
      "[17.0300, 75.1300] Epoch 3/5, Loss: 11.1672\n",
      "[17.0300, 75.1300] Epoch 4/5, Loss: 10.7177\n",
      "[17.0300, 75.1300] Epoch 5/5, Loss: 9.9605\n",
      "[17.0300, 75.1300] Epoch 6/5, Loss: 9.7308\n",
      "[17.0300, 75.1300] Epoch 7/5, Loss: 10.2772\n",
      "[17.0300, 75.1300] Epoch 8/5, Loss: 9.4580\n",
      "[17.0300, 75.1300] Epoch 9/5, Loss: 9.2307\n",
      "[17.0300, 75.1300] Epoch 10/5, Loss: 9.0739\n",
      "[17.0300, 75.1300] Epoch 11/5, Loss: 9.4819\n",
      "[17.0300, 75.1300] Epoch 12/5, Loss: 8.4606\n",
      "[17.0300, 75.1300] Epoch 13/5, Loss: 8.0018\n",
      "[17.0300, 75.1300] Epoch 14/5, Loss: 7.9955\n",
      "[17.0300, 75.1300] Epoch 15/5, Loss: 7.4015\n",
      "[17.0300, 75.1300] Epoch 16/5, Loss: 7.3724\n",
      "[17.0300, 75.1300] Epoch 17/5, Loss: 7.5274\n",
      "[17.0300, 75.1300] Epoch 18/5, Loss: 7.2951\n",
      "[17.0300, 75.1300] Epoch 19/5, Loss: 7.1374\n"
     ]
    },
    {
     "name": "stderr",
     "output_type": "stream",
     "text": [
      "Stations:  32%|███▏      | 70/217 [01:25<03:29,  1.43s/it]"
     ]
    },
    {
     "name": "stdout",
     "output_type": "stream",
     "text": [
      "[17.0300, 75.1300] Epoch 20/5, Loss: 6.7028\n",
      "📍 Station (17.0300, 75.1300)\n",
      "  Accuracy : 0.9407\n",
      "  Precision: 0.4704\n",
      "  Recall   : 0.5000\n",
      "  F1-score : 0.4847\n",
      "    Class 0: Precision=0.9407, Recall=1.0000, F1-score=0.9695\n",
      "    Class 1: Precision=0.0000, Recall=0.0000, F1-score=0.0000\n",
      "[19.5500, 73.1400] Epoch 1/5, Loss: 11.8824\n",
      "[19.5500, 73.1400] Epoch 2/5, Loss: 11.5783\n",
      "[19.5500, 73.1400] Epoch 3/5, Loss: 10.9616\n",
      "[19.5500, 73.1400] Epoch 4/5, Loss: 10.6963\n",
      "[19.5500, 73.1400] Epoch 5/5, Loss: 10.4401\n",
      "[19.5500, 73.1400] Epoch 6/5, Loss: 10.1071\n",
      "[19.5500, 73.1400] Epoch 7/5, Loss: 9.8527\n",
      "[19.5500, 73.1400] Epoch 8/5, Loss: 9.6116\n",
      "[19.5500, 73.1400] Epoch 9/5, Loss: 9.5847\n",
      "[19.5500, 73.1400] Epoch 10/5, Loss: 9.4686\n",
      "[19.5500, 73.1400] Epoch 11/5, Loss: 9.0939\n",
      "[19.5500, 73.1400] Epoch 12/5, Loss: 8.9342\n",
      "[19.5500, 73.1400] Epoch 13/5, Loss: 8.6570\n",
      "[19.5500, 73.1400] Epoch 14/5, Loss: 8.3850\n",
      "[19.5500, 73.1400] Epoch 15/5, Loss: 8.1528\n",
      "[19.5500, 73.1400] Epoch 16/5, Loss: 8.0523\n",
      "[19.5500, 73.1400] Epoch 17/5, Loss: 7.8246\n"
     ]
    },
    {
     "name": "stderr",
     "output_type": "stream",
     "text": [
      "Stations:  33%|███▎      | 71/217 [01:26<03:28,  1.43s/it]"
     ]
    },
    {
     "name": "stdout",
     "output_type": "stream",
     "text": [
      "[19.5500, 73.1400] Epoch 18/5, Loss: 7.5911\n",
      "[19.5500, 73.1400] Epoch 19/5, Loss: 7.5046\n",
      "[19.5500, 73.1400] Epoch 20/5, Loss: 7.0336\n",
      "📍 Station (19.5500, 73.1400)\n",
      "  Accuracy : 0.7101\n",
      "  Precision: 0.7101\n",
      "  Recall   : 0.7391\n",
      "  F1-score : 0.7011\n",
      "    Class 0: Precision=0.8841, Recall=0.6559, F1-score=0.7531\n",
      "    Class 1: Precision=0.5362, Recall=0.8222, F1-score=0.6491\n",
      "[18.1200, 75.1200] Epoch 1/5, Loss: 11.1569\n",
      "[18.1200, 75.1200] Epoch 2/5, Loss: 10.5147\n",
      "[18.1200, 75.1200] Epoch 3/5, Loss: 10.4630\n",
      "[18.1200, 75.1200] Epoch 4/5, Loss: 9.7010\n",
      "[18.1200, 75.1200] Epoch 5/5, Loss: 9.7403\n",
      "[18.1200, 75.1200] Epoch 6/5, Loss: 9.1610\n",
      "[18.1200, 75.1200] Epoch 7/5, Loss: 9.3823\n",
      "[18.1200, 75.1200] Epoch 8/5, Loss: 8.7999\n",
      "[18.1200, 75.1200] Epoch 9/5, Loss: 8.5589\n",
      "[18.1200, 75.1200] Epoch 10/5, Loss: 8.6738\n",
      "[18.1200, 75.1200] Epoch 11/5, Loss: 7.8853\n",
      "[18.1200, 75.1200] Epoch 12/5, Loss: 8.0989\n",
      "[18.1200, 75.1200] Epoch 13/5, Loss: 7.6425\n",
      "[18.1200, 75.1200] Epoch 14/5, Loss: 6.9576\n",
      "[18.1200, 75.1200] Epoch 15/5, Loss: 6.8307\n",
      "[18.1200, 75.1200] Epoch 16/5, Loss: 6.7045\n",
      "[18.1200, 75.1200] Epoch 17/5, Loss: 6.5097\n",
      "[18.1200, 75.1200] Epoch 18/5, Loss: 5.9950\n",
      "[18.1200, 75.1200] Epoch 19/5, Loss: 5.9086\n"
     ]
    },
    {
     "name": "stderr",
     "output_type": "stream",
     "text": [
      "Stations:  33%|███▎      | 72/217 [01:28<03:20,  1.38s/it]"
     ]
    },
    {
     "name": "stdout",
     "output_type": "stream",
     "text": [
      "[18.1200, 75.1200] Epoch 20/5, Loss: 5.7315\n",
      "📍 Station (18.1200, 75.1200)\n",
      "  Accuracy : 0.9426\n",
      "  Precision: 0.4713\n",
      "  Recall   : 0.5000\n",
      "  F1-score : 0.4852\n",
      "    Class 0: Precision=0.9426, Recall=1.0000, F1-score=0.9705\n",
      "    Class 1: Precision=0.0000, Recall=0.0000, F1-score=0.0000\n",
      "[19.3700, 76.4200] Epoch 1/5, Loss: 12.8729\n",
      "[19.3700, 76.4200] Epoch 2/5, Loss: 12.0014\n",
      "[19.3700, 76.4200] Epoch 3/5, Loss: 11.6843\n",
      "[19.3700, 76.4200] Epoch 4/5, Loss: 11.3608\n",
      "[19.3700, 76.4200] Epoch 5/5, Loss: 10.9519\n",
      "[19.3700, 76.4200] Epoch 6/5, Loss: 10.6513\n",
      "[19.3700, 76.4200] Epoch 7/5, Loss: 10.0595\n",
      "[19.3700, 76.4200] Epoch 8/5, Loss: 9.9594\n",
      "[19.3700, 76.4200] Epoch 9/5, Loss: 9.8361\n",
      "[19.3700, 76.4200] Epoch 10/5, Loss: 9.4824\n",
      "[19.3700, 76.4200] Epoch 11/5, Loss: 9.6281\n",
      "[19.3700, 76.4200] Epoch 12/5, Loss: 9.1178\n",
      "[19.3700, 76.4200] Epoch 13/5, Loss: 8.9382\n",
      "[19.3700, 76.4200] Epoch 14/5, Loss: 8.1095\n",
      "[19.3700, 76.4200] Epoch 15/5, Loss: 7.5603\n",
      "[19.3700, 76.4200] Epoch 16/5, Loss: 7.7603\n",
      "[19.3700, 76.4200] Epoch 17/5, Loss: 7.3076\n",
      "[19.3700, 76.4200] Epoch 18/5, Loss: 7.5922\n",
      "[19.3700, 76.4200] Epoch 19/5, Loss: 6.9728\n"
     ]
    },
    {
     "name": "stderr",
     "output_type": "stream",
     "text": [
      "Stations:  34%|███▎      | 73/217 [01:30<03:51,  1.60s/it]"
     ]
    },
    {
     "name": "stdout",
     "output_type": "stream",
     "text": [
      "[19.3700, 76.4200] Epoch 20/5, Loss: 6.3707\n",
      "📍 Station (19.3700, 76.4200)\n",
      "  Accuracy : 0.9574\n",
      "  Precision: 0.4821\n",
      "  Recall   : 0.4963\n",
      "  F1-score : 0.4891\n",
      "    Class 0: Precision=0.9643, Recall=0.9926, F1-score=0.9783\n",
      "    Class 1: Precision=0.0000, Recall=0.0000, F1-score=0.0000\n",
      "[19.1300, 73.5300] Epoch 1/5, Loss: 12.2586\n",
      "[19.1300, 73.5300] Epoch 2/5, Loss: 11.4580\n",
      "[19.1300, 73.5300] Epoch 3/5, Loss: 11.6093\n",
      "[19.1300, 73.5300] Epoch 4/5, Loss: 11.1952\n",
      "[19.1300, 73.5300] Epoch 5/5, Loss: 10.8226\n",
      "[19.1300, 73.5300] Epoch 6/5, Loss: 10.5421\n",
      "[19.1300, 73.5300] Epoch 7/5, Loss: 10.5647\n",
      "[19.1300, 73.5300] Epoch 8/5, Loss: 10.5216\n",
      "[19.1300, 73.5300] Epoch 9/5, Loss: 9.9217\n",
      "[19.1300, 73.5300] Epoch 10/5, Loss: 9.6416\n",
      "[19.1300, 73.5300] Epoch 11/5, Loss: 9.8499\n",
      "[19.1300, 73.5300] Epoch 12/5, Loss: 9.7190\n",
      "[19.1300, 73.5300] Epoch 13/5, Loss: 9.7672\n",
      "[19.1300, 73.5300] Epoch 14/5, Loss: 9.3372\n",
      "[19.1300, 73.5300] Epoch 15/5, Loss: 9.4867\n",
      "[19.1300, 73.5300] Epoch 16/5, Loss: 9.2717\n",
      "[19.1300, 73.5300] Epoch 17/5, Loss: 9.3795\n",
      "[19.1300, 73.5300] Epoch 18/5, Loss: 8.7127\n"
     ]
    },
    {
     "name": "stderr",
     "output_type": "stream",
     "text": [
      "Stations:  34%|███▍      | 74/217 [01:32<04:18,  1.81s/it]"
     ]
    },
    {
     "name": "stdout",
     "output_type": "stream",
     "text": [
      "[19.1300, 73.5300] Epoch 19/5, Loss: 8.6561\n",
      "[19.1300, 73.5300] Epoch 20/5, Loss: 8.8853\n",
      "📍 Station (19.1300, 73.5300)\n",
      "  Accuracy : 0.9429\n",
      "  Precision: 0.4714\n",
      "  Recall   : 0.5000\n",
      "  F1-score : 0.4853\n",
      "    Class 0: Precision=0.9429, Recall=1.0000, F1-score=0.9706\n",
      "    Class 1: Precision=0.0000, Recall=0.0000, F1-score=0.0000\n",
      "[16.3500, 74.1900] Epoch 1/5, Loss: 11.5349\n",
      "[16.3500, 74.1900] Epoch 2/5, Loss: 11.2267\n",
      "[16.3500, 74.1900] Epoch 3/5, Loss: 10.8856\n",
      "[16.3500, 74.1900] Epoch 4/5, Loss: 10.5288\n",
      "[16.3500, 74.1900] Epoch 5/5, Loss: 10.1877\n",
      "[16.3500, 74.1900] Epoch 6/5, Loss: 9.8256\n",
      "[16.3500, 74.1900] Epoch 7/5, Loss: 9.5709\n",
      "[16.3500, 74.1900] Epoch 8/5, Loss: 9.1941\n",
      "[16.3500, 74.1900] Epoch 9/5, Loss: 8.9645\n",
      "[16.3500, 74.1900] Epoch 10/5, Loss: 8.6169\n",
      "[16.3500, 74.1900] Epoch 11/5, Loss: 8.4188\n",
      "[16.3500, 74.1900] Epoch 12/5, Loss: 8.2645\n",
      "[16.3500, 74.1900] Epoch 13/5, Loss: 7.9116\n",
      "[16.3500, 74.1900] Epoch 14/5, Loss: 7.6168\n",
      "[16.3500, 74.1900] Epoch 15/5, Loss: 7.5638\n",
      "[16.3500, 74.1900] Epoch 16/5, Loss: 6.9441\n",
      "[16.3500, 74.1900] Epoch 17/5, Loss: 6.6764\n",
      "[16.3500, 74.1900] Epoch 18/5, Loss: 6.5792\n",
      "[16.3500, 74.1900] Epoch 19/5, Loss: 6.0075\n"
     ]
    },
    {
     "name": "stderr",
     "output_type": "stream",
     "text": [
      "Stations:  35%|███▍      | 75/217 [01:34<04:30,  1.91s/it]"
     ]
    },
    {
     "name": "stdout",
     "output_type": "stream",
     "text": [
      "[16.3500, 74.1900] Epoch 20/5, Loss: 5.6947\n",
      "📍 Station (16.3500, 74.1900)\n",
      "  Accuracy : 0.7778\n",
      "  Precision: 0.5833\n",
      "  Recall   : 0.6211\n",
      "  F1-score : 0.5927\n",
      "    Class 0: Precision=0.9074, Recall=0.8305, F1-score=0.8673\n",
      "    Class 1: Precision=0.2593, Recall=0.4118, F1-score=0.3182\n",
      "[18.4200, 76.0300] Epoch 1/5, Loss: 12.3661\n",
      "[18.4200, 76.0300] Epoch 2/5, Loss: 11.5910\n",
      "[18.4200, 76.0300] Epoch 3/5, Loss: 11.5085\n",
      "[18.4200, 76.0300] Epoch 4/5, Loss: 11.0766\n",
      "[18.4200, 76.0300] Epoch 5/5, Loss: 11.0849\n",
      "[18.4200, 76.0300] Epoch 6/5, Loss: 10.7393\n",
      "[18.4200, 76.0300] Epoch 7/5, Loss: 10.7164\n",
      "[18.4200, 76.0300] Epoch 8/5, Loss: 10.3492\n",
      "[18.4200, 76.0300] Epoch 9/5, Loss: 9.6384\n",
      "[18.4200, 76.0300] Epoch 10/5, Loss: 9.5393\n",
      "[18.4200, 76.0300] Epoch 11/5, Loss: 8.9138\n",
      "[18.4200, 76.0300] Epoch 12/5, Loss: 8.8306\n",
      "[18.4200, 76.0300] Epoch 13/5, Loss: 8.6784\n",
      "[18.4200, 76.0300] Epoch 14/5, Loss: 8.2759\n",
      "[18.4200, 76.0300] Epoch 15/5, Loss: 7.9971\n",
      "[18.4200, 76.0300] Epoch 16/5, Loss: 7.5982\n",
      "[18.4200, 76.0300] Epoch 17/5, Loss: 7.1106\n",
      "[18.4200, 76.0300] Epoch 18/5, Loss: 6.6396\n",
      "[18.4200, 76.0300] Epoch 19/5, Loss: 6.2338\n"
     ]
    },
    {
     "name": "stderr",
     "output_type": "stream",
     "text": [
      "Stations:  35%|███▌      | 76/217 [01:36<04:44,  2.02s/it]"
     ]
    },
    {
     "name": "stdout",
     "output_type": "stream",
     "text": [
      "[18.4200, 76.0300] Epoch 20/5, Loss: 5.9607\n",
      "📍 Station (18.4200, 76.0300)\n",
      "  Accuracy : 0.8321\n",
      "  Precision: 0.5272\n",
      "  Recall   : 0.5591\n",
      "  F1-score : 0.5275\n",
      "    Class 0: Precision=0.9492, Recall=0.8682, F1-score=0.9069\n",
      "    Class 1: Precision=0.1053, Recall=0.2500, F1-score=0.1481\n",
      "[18.3400, 76.0100] Epoch 1/5, Loss: 13.4739\n",
      "[18.3400, 76.0100] Epoch 2/5, Loss: 12.5579\n",
      "[18.3400, 76.0100] Epoch 3/5, Loss: 12.1343\n",
      "[18.3400, 76.0100] Epoch 4/5, Loss: 12.2680\n",
      "[18.3400, 76.0100] Epoch 5/5, Loss: 11.6440\n",
      "[18.3400, 76.0100] Epoch 6/5, Loss: 11.5035\n",
      "[18.3400, 76.0100] Epoch 7/5, Loss: 11.0728\n",
      "[18.3400, 76.0100] Epoch 8/5, Loss: 10.7576\n",
      "[18.3400, 76.0100] Epoch 9/5, Loss: 10.7376\n",
      "[18.3400, 76.0100] Epoch 10/5, Loss: 10.1358\n",
      "[18.3400, 76.0100] Epoch 11/5, Loss: 9.8467\n",
      "[18.3400, 76.0100] Epoch 12/5, Loss: 9.7568\n",
      "[18.3400, 76.0100] Epoch 13/5, Loss: 9.6684\n",
      "[18.3400, 76.0100] Epoch 14/5, Loss: 9.1402\n",
      "[18.3400, 76.0100] Epoch 15/5, Loss: 8.8981\n",
      "[18.3400, 76.0100] Epoch 16/5, Loss: 8.4979\n",
      "[18.3400, 76.0100] Epoch 17/5, Loss: 8.1560\n"
     ]
    },
    {
     "name": "stderr",
     "output_type": "stream",
     "text": [
      "Stations:  35%|███▌      | 77/217 [01:38<04:27,  1.91s/it]"
     ]
    },
    {
     "name": "stdout",
     "output_type": "stream",
     "text": [
      "[18.3400, 76.0100] Epoch 18/5, Loss: 7.7116\n",
      "[18.3400, 76.0100] Epoch 19/5, Loss: 7.5490\n",
      "[18.3400, 76.0100] Epoch 20/5, Loss: 6.9682\n",
      "📍 Station (18.3400, 76.0100)\n",
      "  Accuracy : 0.9714\n",
      "  Precision: 0.4857\n",
      "  Recall   : 0.5000\n",
      "  F1-score : 0.4928\n",
      "    Class 0: Precision=0.9714, Recall=1.0000, F1-score=0.9855\n",
      "    Class 1: Precision=0.0000, Recall=0.0000, F1-score=0.0000\n",
      "[20.3000, 74.0200] Epoch 1/5, Loss: 12.3512\n",
      "[20.3000, 74.0200] Epoch 2/5, Loss: 11.4233\n",
      "[20.3000, 74.0200] Epoch 3/5, Loss: 11.0069\n",
      "[20.3000, 74.0200] Epoch 4/5, Loss: 10.8902\n",
      "[20.3000, 74.0200] Epoch 5/5, Loss: 10.4773\n",
      "[20.3000, 74.0200] Epoch 6/5, Loss: 10.0682\n",
      "[20.3000, 74.0200] Epoch 7/5, Loss: 10.2169\n",
      "[20.3000, 74.0200] Epoch 8/5, Loss: 9.7566\n",
      "[20.3000, 74.0200] Epoch 9/5, Loss: 9.0444\n",
      "[20.3000, 74.0200] Epoch 10/5, Loss: 8.9415\n",
      "[20.3000, 74.0200] Epoch 11/5, Loss: 8.7609\n",
      "[20.3000, 74.0200] Epoch 12/5, Loss: 8.6500\n",
      "[20.3000, 74.0200] Epoch 13/5, Loss: 8.6159\n",
      "[20.3000, 74.0200] Epoch 14/5, Loss: 7.9630\n",
      "[20.3000, 74.0200] Epoch 15/5, Loss: 7.4573\n",
      "[20.3000, 74.0200] Epoch 16/5, Loss: 7.6618\n",
      "[20.3000, 74.0200] Epoch 17/5, Loss: 7.0282\n"
     ]
    },
    {
     "name": "stderr",
     "output_type": "stream",
     "text": [
      "Stations:  36%|███▌      | 78/217 [01:40<04:09,  1.79s/it]"
     ]
    },
    {
     "name": "stdout",
     "output_type": "stream",
     "text": [
      "[20.3000, 74.0200] Epoch 18/5, Loss: 6.8752\n",
      "[20.3000, 74.0200] Epoch 19/5, Loss: 6.2498\n",
      "[20.3000, 74.0200] Epoch 20/5, Loss: 6.3345\n",
      "📍 Station (20.3000, 74.0200)\n",
      "  Accuracy : 0.9286\n",
      "  Precision: 0.6443\n",
      "  Recall   : 0.6098\n",
      "  F1-score : 0.6241\n",
      "    Class 0: Precision=0.9552, Recall=0.9697, F1-score=0.9624\n",
      "    Class 1: Precision=0.3333, Recall=0.2500, F1-score=0.2857\n",
      "[19.1500, 73.0700] Epoch 1/5, Loss: 12.9237\n",
      "[19.1500, 73.0700] Epoch 2/5, Loss: 12.2677\n",
      "[19.1500, 73.0700] Epoch 3/5, Loss: 11.9127\n",
      "[19.1500, 73.0700] Epoch 4/5, Loss: 11.4028\n",
      "[19.1500, 73.0700] Epoch 5/5, Loss: 11.0525\n",
      "[19.1500, 73.0700] Epoch 6/5, Loss: 10.6416\n",
      "[19.1500, 73.0700] Epoch 7/5, Loss: 10.3048\n",
      "[19.1500, 73.0700] Epoch 8/5, Loss: 10.0837\n",
      "[19.1500, 73.0700] Epoch 9/5, Loss: 9.7594\n",
      "[19.1500, 73.0700] Epoch 10/5, Loss: 9.6326\n",
      "[19.1500, 73.0700] Epoch 11/5, Loss: 9.4249\n",
      "[19.1500, 73.0700] Epoch 12/5, Loss: 9.1551\n",
      "[19.1500, 73.0700] Epoch 13/5, Loss: 9.0208\n",
      "[19.1500, 73.0700] Epoch 14/5, Loss: 8.6114\n",
      "[19.1500, 73.0700] Epoch 15/5, Loss: 8.6969\n",
      "[19.1500, 73.0700] Epoch 16/5, Loss: 8.2773\n",
      "[19.1500, 73.0700] Epoch 17/5, Loss: 8.2568\n",
      "[19.1500, 73.0700] Epoch 18/5, Loss: 8.1527\n"
     ]
    },
    {
     "name": "stderr",
     "output_type": "stream",
     "text": [
      "Stations:  36%|███▋      | 79/217 [01:41<03:52,  1.68s/it]"
     ]
    },
    {
     "name": "stdout",
     "output_type": "stream",
     "text": [
      "[19.1500, 73.0700] Epoch 19/5, Loss: 7.8405\n",
      "[19.1500, 73.0700] Epoch 20/5, Loss: 7.6398\n",
      "📍 Station (19.1500, 73.0700)\n",
      "  Accuracy : 0.7214\n",
      "  Precision: 0.7015\n",
      "  Recall   : 0.7667\n",
      "  F1-score : 0.6953\n",
      "    Class 0: Precision=0.9342, Recall=0.6762, F1-score=0.7845\n",
      "    Class 1: Precision=0.4687, Recall=0.8571, F1-score=0.6061\n",
      "[18.5000, 77.1000] Epoch 1/5, Loss: 12.4352\n",
      "[18.5000, 77.1000] Epoch 2/5, Loss: 12.1501\n",
      "[18.5000, 77.1000] Epoch 3/5, Loss: 11.3438\n",
      "[18.5000, 77.1000] Epoch 4/5, Loss: 11.2711\n",
      "[18.5000, 77.1000] Epoch 5/5, Loss: 10.9927\n",
      "[18.5000, 77.1000] Epoch 6/5, Loss: 10.4361\n",
      "[18.5000, 77.1000] Epoch 7/5, Loss: 9.7965\n",
      "[18.5000, 77.1000] Epoch 8/5, Loss: 9.6736\n",
      "[18.5000, 77.1000] Epoch 9/5, Loss: 9.1856\n",
      "[18.5000, 77.1000] Epoch 10/5, Loss: 8.7890\n",
      "[18.5000, 77.1000] Epoch 11/5, Loss: 8.3887\n",
      "[18.5000, 77.1000] Epoch 12/5, Loss: 8.3168\n",
      "[18.5000, 77.1000] Epoch 13/5, Loss: 7.7582\n",
      "[18.5000, 77.1000] Epoch 14/5, Loss: 7.4839\n",
      "[18.5000, 77.1000] Epoch 15/5, Loss: 7.3119\n",
      "[18.5000, 77.1000] Epoch 16/5, Loss: 6.8610\n",
      "[18.5000, 77.1000] Epoch 17/5, Loss: 6.6567\n",
      "[18.5000, 77.1000] Epoch 18/5, Loss: 6.4605\n",
      "[18.5000, 77.1000] Epoch 19/5, Loss: 6.0782\n"
     ]
    },
    {
     "name": "stderr",
     "output_type": "stream",
     "text": [
      "Stations:  37%|███▋      | 80/217 [01:43<04:10,  1.83s/it]"
     ]
    },
    {
     "name": "stdout",
     "output_type": "stream",
     "text": [
      "[18.5000, 77.1000] Epoch 20/5, Loss: 6.1334\n",
      "📍 Station (18.5000, 77.1000)\n",
      "  Accuracy : 0.7857\n",
      "  Precision: 0.5418\n",
      "  Recall   : 0.5807\n",
      "  F1-score : 0.5433\n",
      "    Class 0: Precision=0.9298, Recall=0.8281, F1-score=0.8760\n",
      "    Class 1: Precision=0.1538, Recall=0.3333, F1-score=0.2105\n",
      "[16.1600, 73.4200] Epoch 1/5, Loss: 12.1745\n",
      "[16.1600, 73.4200] Epoch 2/5, Loss: 11.5848\n",
      "[16.1600, 73.4200] Epoch 3/5, Loss: 11.0471\n",
      "[16.1600, 73.4200] Epoch 4/5, Loss: 10.8226\n",
      "[16.1600, 73.4200] Epoch 5/5, Loss: 10.4607\n",
      "[16.1600, 73.4200] Epoch 6/5, Loss: 10.0796\n",
      "[16.1600, 73.4200] Epoch 7/5, Loss: 9.9512\n",
      "[16.1600, 73.4200] Epoch 8/5, Loss: 9.7630\n",
      "[16.1600, 73.4200] Epoch 9/5, Loss: 9.2936\n",
      "[16.1600, 73.4200] Epoch 10/5, Loss: 9.2362\n",
      "[16.1600, 73.4200] Epoch 11/5, Loss: 9.0277\n",
      "[16.1600, 73.4200] Epoch 12/5, Loss: 8.7367\n",
      "[16.1600, 73.4200] Epoch 13/5, Loss: 8.6564\n",
      "[16.1600, 73.4200] Epoch 14/5, Loss: 8.2906\n",
      "[16.1600, 73.4200] Epoch 15/5, Loss: 8.2177\n",
      "[16.1600, 73.4200] Epoch 16/5, Loss: 8.1804\n"
     ]
    },
    {
     "name": "stderr",
     "output_type": "stream",
     "text": [
      "Stations:  37%|███▋      | 81/217 [01:45<04:20,  1.92s/it]"
     ]
    },
    {
     "name": "stdout",
     "output_type": "stream",
     "text": [
      "[16.1600, 73.4200] Epoch 17/5, Loss: 7.8330\n",
      "[16.1600, 73.4200] Epoch 18/5, Loss: 7.6495\n",
      "[16.1600, 73.4200] Epoch 19/5, Loss: 7.4753\n",
      "[16.1600, 73.4200] Epoch 20/5, Loss: 7.3673\n",
      "📍 Station (16.1600, 73.4200)\n",
      "  Accuracy : 0.7857\n",
      "  Precision: 0.7880\n",
      "  Recall   : 0.7937\n",
      "  F1-score : 0.7850\n",
      "    Class 0: Precision=0.8676, Recall=0.7375, F1-score=0.7973\n",
      "    Class 1: Precision=0.7083, Recall=0.8500, F1-score=0.7727\n",
      "[20.1600, 75.0900] Epoch 1/5, Loss: 12.9142\n",
      "[20.1600, 75.0900] Epoch 2/5, Loss: 12.4013\n",
      "[20.1600, 75.0900] Epoch 3/5, Loss: 11.7836\n",
      "[20.1600, 75.0900] Epoch 4/5, Loss: 11.4444\n",
      "[20.1600, 75.0900] Epoch 5/5, Loss: 10.9472\n",
      "[20.1600, 75.0900] Epoch 6/5, Loss: 10.7322\n",
      "[20.1600, 75.0900] Epoch 7/5, Loss: 10.3540\n",
      "[20.1600, 75.0900] Epoch 8/5, Loss: 9.9414\n",
      "[20.1600, 75.0900] Epoch 9/5, Loss: 9.8147\n",
      "[20.1600, 75.0900] Epoch 10/5, Loss: 9.4370\n",
      "[20.1600, 75.0900] Epoch 11/5, Loss: 8.9703\n",
      "[20.1600, 75.0900] Epoch 12/5, Loss: 8.9842\n",
      "[20.1600, 75.0900] Epoch 13/5, Loss: 8.6283\n",
      "[20.1600, 75.0900] Epoch 14/5, Loss: 8.3167\n",
      "[20.1600, 75.0900] Epoch 15/5, Loss: 8.1052\n",
      "[20.1600, 75.0900] Epoch 16/5, Loss: 7.6259\n",
      "[20.1600, 75.0900] Epoch 17/5, Loss: 7.1595\n",
      "[20.1600, 75.0900] Epoch 18/5, Loss: 7.1830\n"
     ]
    },
    {
     "name": "stderr",
     "output_type": "stream",
     "text": [
      "Stations:  38%|███▊      | 82/217 [01:47<04:04,  1.81s/it]"
     ]
    },
    {
     "name": "stdout",
     "output_type": "stream",
     "text": [
      "[20.1600, 75.0900] Epoch 19/5, Loss: 6.6440\n",
      "[20.1600, 75.0900] Epoch 20/5, Loss: 6.1266\n",
      "📍 Station (20.1600, 75.0900)\n",
      "  Accuracy : 0.8929\n",
      "  Precision: 0.5913\n",
      "  Recall   : 0.6729\n",
      "  F1-score : 0.6139\n",
      "    Class 0: Precision=0.9683, Recall=0.9173, F1-score=0.9421\n",
      "    Class 1: Precision=0.2143, Recall=0.4286, F1-score=0.2857\n",
      "[17.1700, 74.1100] Epoch 1/5, Loss: 12.9856\n",
      "[17.1700, 74.1100] Epoch 2/5, Loss: 12.0228\n",
      "[17.1700, 74.1100] Epoch 3/5, Loss: 11.3989\n",
      "[17.1700, 74.1100] Epoch 4/5, Loss: 10.9003\n",
      "[17.1700, 74.1100] Epoch 5/5, Loss: 10.4866\n",
      "[17.1700, 74.1100] Epoch 6/5, Loss: 9.8731\n",
      "[17.1700, 74.1100] Epoch 7/5, Loss: 9.1544\n",
      "[17.1700, 74.1100] Epoch 8/5, Loss: 9.1104\n",
      "[17.1700, 74.1100] Epoch 9/5, Loss: 9.3383\n",
      "[17.1700, 74.1100] Epoch 10/5, Loss: 8.4384\n",
      "[17.1700, 74.1100] Epoch 11/5, Loss: 8.0249\n",
      "[17.1700, 74.1100] Epoch 12/5, Loss: 7.7757\n",
      "[17.1700, 74.1100] Epoch 13/5, Loss: 7.3738\n",
      "[17.1700, 74.1100] Epoch 14/5, Loss: 7.0690\n",
      "[17.1700, 74.1100] Epoch 15/5, Loss: 6.6254\n",
      "[17.1700, 74.1100] Epoch 16/5, Loss: 6.5141\n",
      "[17.1700, 74.1100] Epoch 17/5, Loss: 6.2540\n",
      "[17.1700, 74.1100] Epoch 18/5, Loss: 6.0428\n"
     ]
    },
    {
     "name": "stderr",
     "output_type": "stream",
     "text": [
      "Stations:  38%|███▊      | 83/217 [01:49<03:59,  1.79s/it]"
     ]
    },
    {
     "name": "stdout",
     "output_type": "stream",
     "text": [
      "[17.1700, 74.1100] Epoch 19/5, Loss: 5.7414\n",
      "[17.1700, 74.1100] Epoch 20/5, Loss: 5.3547\n",
      "📍 Station (17.1700, 74.1100)\n",
      "  Accuracy : 0.8857\n",
      "  Precision: 0.6285\n",
      "  Recall   : 0.5918\n",
      "  F1-score : 0.6054\n",
      "    Class 0: Precision=0.9237, Recall=0.9528, F1-score=0.9380\n",
      "    Class 1: Precision=0.3333, Recall=0.2308, F1-score=0.2727\n",
      "[18.3300, 75.0000] Epoch 1/5, Loss: 13.3590\n",
      "[18.3300, 75.0000] Epoch 2/5, Loss: 12.6653\n",
      "[18.3300, 75.0000] Epoch 3/5, Loss: 11.6456\n",
      "[18.3300, 75.0000] Epoch 4/5, Loss: 10.9559\n",
      "[18.3300, 75.0000] Epoch 5/5, Loss: 10.7143\n",
      "[18.3300, 75.0000] Epoch 6/5, Loss: 10.3510\n",
      "[18.3300, 75.0000] Epoch 7/5, Loss: 9.8468\n",
      "[18.3300, 75.0000] Epoch 8/5, Loss: 9.3690\n",
      "[18.3300, 75.0000] Epoch 9/5, Loss: 9.0713\n",
      "[18.3300, 75.0000] Epoch 10/5, Loss: 9.1369\n",
      "[18.3300, 75.0000] Epoch 11/5, Loss: 8.3563\n",
      "[18.3300, 75.0000] Epoch 12/5, Loss: 8.4355\n",
      "[18.3300, 75.0000] Epoch 13/5, Loss: 7.7155\n",
      "[18.3300, 75.0000] Epoch 14/5, Loss: 7.5621\n",
      "[18.3300, 75.0000] Epoch 15/5, Loss: 7.4267\n",
      "[18.3300, 75.0000] Epoch 16/5, Loss: 6.8533\n",
      "[18.3300, 75.0000] Epoch 17/5, Loss: 6.8172\n",
      "[18.3300, 75.0000] Epoch 18/5, Loss: 6.4558\n",
      "[18.3300, 75.0000] Epoch 19/5, Loss: 6.5349\n"
     ]
    },
    {
     "name": "stderr",
     "output_type": "stream",
     "text": [
      "Stations:  39%|███▊      | 84/217 [01:50<03:48,  1.72s/it]"
     ]
    },
    {
     "name": "stdout",
     "output_type": "stream",
     "text": [
      "[18.3300, 75.0000] Epoch 20/5, Loss: 6.0081\n",
      "📍 Station (18.3300, 75.0000)\n",
      "  Accuracy : 0.9214\n",
      "  Precision: 0.6338\n",
      "  Recall   : 0.5423\n",
      "  F1-score : 0.5563\n",
      "    Class 0: Precision=0.9343, Recall=0.9846, F1-score=0.9588\n",
      "    Class 1: Precision=0.3333, Recall=0.1000, F1-score=0.1538\n",
      "[18.5500, 73.2000] Epoch 1/5, Loss: 12.4477\n",
      "[18.5500, 73.2000] Epoch 2/5, Loss: 12.1262\n",
      "[18.5500, 73.2000] Epoch 3/5, Loss: 11.7779\n",
      "[18.5500, 73.2000] Epoch 4/5, Loss: 11.5026\n",
      "[18.5500, 73.2000] Epoch 5/5, Loss: 11.2526\n",
      "[18.5500, 73.2000] Epoch 6/5, Loss: 10.9124\n",
      "[18.5500, 73.2000] Epoch 7/5, Loss: 10.5745\n",
      "[18.5500, 73.2000] Epoch 8/5, Loss: 10.3298\n",
      "[18.5500, 73.2000] Epoch 9/5, Loss: 10.0273\n",
      "[18.5500, 73.2000] Epoch 10/5, Loss: 9.8650\n",
      "[18.5500, 73.2000] Epoch 11/5, Loss: 9.5761\n",
      "[18.5500, 73.2000] Epoch 12/5, Loss: 9.5612\n",
      "[18.5500, 73.2000] Epoch 13/5, Loss: 9.3803\n",
      "[18.5500, 73.2000] Epoch 14/5, Loss: 9.2164\n",
      "[18.5500, 73.2000] Epoch 15/5, Loss: 8.9630\n",
      "[18.5500, 73.2000] Epoch 16/5, Loss: 8.7298\n",
      "[18.5500, 73.2000] Epoch 17/5, Loss: 8.5495\n"
     ]
    },
    {
     "name": "stderr",
     "output_type": "stream",
     "text": [
      "Stations:  39%|███▉      | 85/217 [01:52<03:42,  1.68s/it]"
     ]
    },
    {
     "name": "stdout",
     "output_type": "stream",
     "text": [
      "[18.5500, 73.2000] Epoch 18/5, Loss: 8.3190\n",
      "[18.5500, 73.2000] Epoch 19/5, Loss: 8.1694\n",
      "[18.5500, 73.2000] Epoch 20/5, Loss: 7.8126\n",
      "📍 Station (18.5500, 73.2000)\n",
      "  Accuracy : 0.6879\n",
      "  Precision: 0.7024\n",
      "  Recall   : 0.7173\n",
      "  F1-score : 0.6853\n",
      "    Class 0: Precision=0.8594, Recall=0.6111, F1-score=0.7143\n",
      "    Class 1: Precision=0.5455, Recall=0.8235, F1-score=0.6562\n",
      "[18.2400, 75.1200] Epoch 1/5, Loss: 8.2310\n",
      "[18.2400, 75.1200] Epoch 2/5, Loss: 7.9209\n",
      "[18.2400, 75.1200] Epoch 3/5, Loss: 7.4781\n",
      "[18.2400, 75.1200] Epoch 4/5, Loss: 7.5959\n",
      "[18.2400, 75.1200] Epoch 5/5, Loss: 7.1381\n",
      "[18.2400, 75.1200] Epoch 6/5, Loss: 6.8104\n",
      "[18.2400, 75.1200] Epoch 7/5, Loss: 6.3885\n",
      "[18.2400, 75.1200] Epoch 8/5, Loss: 6.6097\n",
      "[18.2400, 75.1200] Epoch 9/5, Loss: 6.3538\n",
      "[18.2400, 75.1200] Epoch 10/5, Loss: 6.2665\n",
      "[18.2400, 75.1200] Epoch 11/5, Loss: 6.0626\n",
      "[18.2400, 75.1200] Epoch 12/5, Loss: 5.5340\n",
      "[18.2400, 75.1200] Epoch 13/5, Loss: 5.3299\n",
      "[18.2400, 75.1200] Epoch 14/5, Loss: 5.3948\n",
      "[18.2400, 75.1200] Epoch 15/5, Loss: 4.6576\n",
      "[18.2400, 75.1200] Epoch 16/5, Loss: 4.4434\n"
     ]
    },
    {
     "name": "stderr",
     "output_type": "stream",
     "text": [
      "Stations:  40%|███▉      | 86/217 [01:53<03:16,  1.50s/it]"
     ]
    },
    {
     "name": "stdout",
     "output_type": "stream",
     "text": [
      "[18.2400, 75.1200] Epoch 17/5, Loss: 4.8393\n",
      "[18.2400, 75.1200] Epoch 18/5, Loss: 4.3457\n",
      "[18.2400, 75.1200] Epoch 19/5, Loss: 4.5220\n",
      "[18.2400, 75.1200] Epoch 20/5, Loss: 3.8976\n",
      "📍 Station (18.2400, 75.1200)\n",
      "  Accuracy : 0.9362\n",
      "  Precision: 0.4681\n",
      "  Recall   : 0.5000\n",
      "  F1-score : 0.4835\n",
      "    Class 0: Precision=0.9362, Recall=1.0000, F1-score=0.9670\n",
      "    Class 1: Precision=0.0000, Recall=0.0000, F1-score=0.0000\n",
      "[18.5200, 73.1700] Epoch 1/5, Loss: 12.5968\n",
      "[18.5200, 73.1700] Epoch 2/5, Loss: 11.9037\n",
      "[18.5200, 73.1700] Epoch 3/5, Loss: 11.5250\n",
      "[18.5200, 73.1700] Epoch 4/5, Loss: 11.1228\n",
      "[18.5200, 73.1700] Epoch 5/5, Loss: 10.8684\n",
      "[18.5200, 73.1700] Epoch 6/5, Loss: 10.6167\n",
      "[18.5200, 73.1700] Epoch 7/5, Loss: 10.2852\n",
      "[18.5200, 73.1700] Epoch 8/5, Loss: 10.0950\n",
      "[18.5200, 73.1700] Epoch 9/5, Loss: 9.8057\n",
      "[18.5200, 73.1700] Epoch 10/5, Loss: 9.6353\n",
      "[18.5200, 73.1700] Epoch 11/5, Loss: 9.4692\n",
      "[18.5200, 73.1700] Epoch 12/5, Loss: 9.2538\n",
      "[18.5200, 73.1700] Epoch 13/5, Loss: 9.1791\n",
      "[18.5200, 73.1700] Epoch 14/5, Loss: 8.9576\n",
      "[18.5200, 73.1700] Epoch 15/5, Loss: 8.8946\n",
      "[18.5200, 73.1700] Epoch 16/5, Loss: 8.5030\n",
      "[18.5200, 73.1700] Epoch 17/5, Loss: 8.4509\n",
      "[18.5200, 73.1700] Epoch 18/5, Loss: 8.1554\n",
      "[18.5200, 73.1700] Epoch 19/5, Loss: 7.9712\n"
     ]
    },
    {
     "name": "stderr",
     "output_type": "stream",
     "text": [
      "Stations:  40%|████      | 87/217 [01:55<03:26,  1.59s/it]"
     ]
    },
    {
     "name": "stdout",
     "output_type": "stream",
     "text": [
      "[18.5200, 73.1700] Epoch 20/5, Loss: 7.8525\n",
      "📍 Station (18.5200, 73.1700)\n",
      "  Accuracy : 0.7092\n",
      "  Precision: 0.7032\n",
      "  Recall   : 0.7177\n",
      "  F1-score : 0.7020\n",
      "    Class 0: Precision=0.8243, Recall=0.6854, F1-score=0.7485\n",
      "    Class 1: Precision=0.5821, Recall=0.7500, F1-score=0.6555\n",
      "[18.0300, 74.0200] Epoch 1/5, Loss: 13.3868\n",
      "[18.0300, 74.0200] Epoch 2/5, Loss: 12.2677\n",
      "[18.0300, 74.0200] Epoch 3/5, Loss: 11.9758\n",
      "[18.0300, 74.0200] Epoch 4/5, Loss: 11.1509\n",
      "[18.0300, 74.0200] Epoch 5/5, Loss: 10.5523\n",
      "[18.0300, 74.0200] Epoch 6/5, Loss: 10.6728\n",
      "[18.0300, 74.0200] Epoch 7/5, Loss: 10.0749\n",
      "[18.0300, 74.0200] Epoch 8/5, Loss: 9.4431\n",
      "[18.0300, 74.0200] Epoch 9/5, Loss: 9.8565\n",
      "[18.0300, 74.0200] Epoch 10/5, Loss: 9.1955\n",
      "[18.0300, 74.0200] Epoch 11/5, Loss: 8.1738\n",
      "[18.0300, 74.0200] Epoch 12/5, Loss: 8.2146\n",
      "[18.0300, 74.0200] Epoch 13/5, Loss: 8.2994\n",
      "[18.0300, 74.0200] Epoch 14/5, Loss: 7.2590\n",
      "[18.0300, 74.0200] Epoch 15/5, Loss: 7.5209\n",
      "[18.0300, 74.0200] Epoch 16/5, Loss: 6.6465\n",
      "[18.0300, 74.0200] Epoch 17/5, Loss: 6.7524\n",
      "[18.0300, 74.0200] Epoch 18/5, Loss: 6.3127\n",
      "[18.0300, 74.0200] Epoch 19/5, Loss: 5.7825\n"
     ]
    },
    {
     "name": "stderr",
     "output_type": "stream",
     "text": [
      "Stations:  41%|████      | 88/217 [01:57<04:05,  1.90s/it]"
     ]
    },
    {
     "name": "stdout",
     "output_type": "stream",
     "text": [
      "[18.0300, 74.0200] Epoch 20/5, Loss: 6.0248\n",
      "📍 Station (18.0300, 74.0200)\n",
      "  Accuracy : 0.9429\n",
      "  Precision: 0.4714\n",
      "  Recall   : 0.5000\n",
      "  F1-score : 0.4853\n",
      "    Class 0: Precision=0.9429, Recall=1.0000, F1-score=0.9706\n",
      "    Class 1: Precision=0.0000, Recall=0.0000, F1-score=0.0000\n",
      "[17.3600, 74.2700] Epoch 1/5, Loss: 8.2539\n",
      "[17.3600, 74.2700] Epoch 2/5, Loss: 8.1918\n",
      "[17.3600, 74.2700] Epoch 3/5, Loss: 7.5470\n",
      "[17.3600, 74.2700] Epoch 4/5, Loss: 7.7304\n",
      "[17.3600, 74.2700] Epoch 5/5, Loss: 7.1108\n",
      "[17.3600, 74.2700] Epoch 6/5, Loss: 6.9980\n",
      "[17.3600, 74.2700] Epoch 7/5, Loss: 6.8254\n",
      "[17.3600, 74.2700] Epoch 8/5, Loss: 6.6451\n",
      "[17.3600, 74.2700] Epoch 9/5, Loss: 6.3046\n",
      "[17.3600, 74.2700] Epoch 10/5, Loss: 6.2661\n",
      "[17.3600, 74.2700] Epoch 11/5, Loss: 5.9599\n",
      "[17.3600, 74.2700] Epoch 12/5, Loss: 6.2081\n",
      "[17.3600, 74.2700] Epoch 13/5, Loss: 6.1835\n",
      "[17.3600, 74.2700] Epoch 14/5, Loss: 6.2715\n",
      "[17.3600, 74.2700] Epoch 15/5, Loss: 5.6424\n",
      "[17.3600, 74.2700] Epoch 16/5, Loss: 5.5300\n",
      "[17.3600, 74.2700] Epoch 17/5, Loss: 5.4425\n",
      "[17.3600, 74.2700] Epoch 18/5, Loss: 5.4102\n",
      "[17.3600, 74.2700] Epoch 19/5, Loss: 5.3312\n"
     ]
    },
    {
     "name": "stderr",
     "output_type": "stream",
     "text": [
      "Stations:  41%|████      | 89/217 [01:59<03:53,  1.83s/it]"
     ]
    },
    {
     "name": "stdout",
     "output_type": "stream",
     "text": [
      "[17.3600, 74.2700] Epoch 20/5, Loss: 4.8044\n",
      "📍 Station (17.3600, 74.2700)\n",
      "  Accuracy : 0.9457\n",
      "  Precision: 0.4728\n",
      "  Recall   : 0.5000\n",
      "  F1-score : 0.4860\n",
      "    Class 0: Precision=0.9457, Recall=1.0000, F1-score=0.9721\n",
      "    Class 1: Precision=0.0000, Recall=0.0000, F1-score=0.0000\n",
      "[17.4300, 73.2400] Epoch 1/5, Loss: 11.9788\n",
      "[17.4300, 73.2400] Epoch 2/5, Loss: 11.1161\n",
      "[17.4300, 73.2400] Epoch 3/5, Loss: 10.6263\n",
      "[17.4300, 73.2400] Epoch 4/5, Loss: 10.2511\n",
      "[17.4300, 73.2400] Epoch 5/5, Loss: 9.8199\n",
      "[17.4300, 73.2400] Epoch 6/5, Loss: 9.3657\n",
      "[17.4300, 73.2400] Epoch 7/5, Loss: 9.1544\n",
      "[17.4300, 73.2400] Epoch 8/5, Loss: 8.7959\n",
      "[17.4300, 73.2400] Epoch 9/5, Loss: 8.5732\n",
      "[17.4300, 73.2400] Epoch 10/5, Loss: 8.1994\n",
      "[17.4300, 73.2400] Epoch 11/5, Loss: 7.9764\n",
      "[17.4300, 73.2400] Epoch 12/5, Loss: 7.6525\n",
      "[17.4300, 73.2400] Epoch 13/5, Loss: 7.6542\n",
      "[17.4300, 73.2400] Epoch 14/5, Loss: 7.5153\n",
      "[17.4300, 73.2400] Epoch 15/5, Loss: 7.2138\n",
      "[17.4300, 73.2400] Epoch 16/5, Loss: 7.1762\n",
      "[17.4300, 73.2400] Epoch 17/5, Loss: 6.8825\n",
      "[17.4300, 73.2400] Epoch 18/5, Loss: 6.6776\n",
      "[17.4300, 73.2400] Epoch 19/5, Loss: 6.4560\n"
     ]
    },
    {
     "name": "stderr",
     "output_type": "stream",
     "text": [
      "Stations:  41%|████▏     | 90/217 [02:01<04:04,  1.93s/it]"
     ]
    },
    {
     "name": "stdout",
     "output_type": "stream",
     "text": [
      "[17.4300, 73.2400] Epoch 20/5, Loss: 6.3486\n",
      "📍 Station (17.4300, 73.2400)\n",
      "  Accuracy : 0.7319\n",
      "  Precision: 0.7300\n",
      "  Recall   : 0.7468\n",
      "  F1-score : 0.7267\n",
      "    Class 0: Precision=0.8571, Recall=0.6897, F1-score=0.7643\n",
      "    Class 1: Precision=0.6029, Recall=0.8039, F1-score=0.6891\n",
      "[18.5100, 73.5400] Epoch 1/5, Loss: 13.1451\n",
      "[18.5100, 73.5400] Epoch 2/5, Loss: 12.2865\n",
      "[18.5100, 73.5400] Epoch 3/5, Loss: 11.5978\n",
      "[18.5100, 73.5400] Epoch 4/5, Loss: 10.7945\n",
      "[18.5100, 73.5400] Epoch 5/5, Loss: 10.1287\n",
      "[18.5100, 73.5400] Epoch 6/5, Loss: 9.7924\n",
      "[18.5100, 73.5400] Epoch 7/5, Loss: 9.1438\n",
      "[18.5100, 73.5400] Epoch 8/5, Loss: 8.9612\n",
      "[18.5100, 73.5400] Epoch 9/5, Loss: 8.5092\n",
      "[18.5100, 73.5400] Epoch 10/5, Loss: 8.1256\n",
      "[18.5100, 73.5400] Epoch 11/5, Loss: 7.9831\n",
      "[18.5100, 73.5400] Epoch 12/5, Loss: 7.6625\n",
      "[18.5100, 73.5400] Epoch 13/5, Loss: 7.2756\n",
      "[18.5100, 73.5400] Epoch 14/5, Loss: 6.8063\n",
      "[18.5100, 73.5400] Epoch 15/5, Loss: 6.7618\n",
      "[18.5100, 73.5400] Epoch 16/5, Loss: 6.5682\n",
      "[18.5100, 73.5400] Epoch 17/5, Loss: 6.1588\n",
      "[18.5100, 73.5400] Epoch 18/5, Loss: 5.9176\n",
      "[18.5100, 73.5400] Epoch 19/5, Loss: 5.4728\n"
     ]
    },
    {
     "name": "stderr",
     "output_type": "stream",
     "text": [
      "Stations:  42%|████▏     | 91/217 [02:03<03:43,  1.77s/it]"
     ]
    },
    {
     "name": "stdout",
     "output_type": "stream",
     "text": [
      "[18.5100, 73.5400] Epoch 20/5, Loss: 5.5596\n",
      "📍 Station (18.5100, 73.5400)\n",
      "  Accuracy : 0.9362\n",
      "  Precision: 0.4681\n",
      "  Recall   : 0.5000\n",
      "  F1-score : 0.4835\n",
      "    Class 0: Precision=0.9362, Recall=1.0000, F1-score=0.9670\n",
      "    Class 1: Precision=0.0000, Recall=0.0000, F1-score=0.0000\n",
      "[20.0100, 75.1100] Epoch 1/5, Loss: 12.8017\n",
      "[20.0100, 75.1100] Epoch 2/5, Loss: 11.8507\n",
      "[20.0100, 75.1100] Epoch 3/5, Loss: 11.3804\n",
      "[20.0100, 75.1100] Epoch 4/5, Loss: 11.1032\n",
      "[20.0100, 75.1100] Epoch 5/5, Loss: 11.1336\n",
      "[20.0100, 75.1100] Epoch 6/5, Loss: 10.3971\n",
      "[20.0100, 75.1100] Epoch 7/5, Loss: 10.4913\n",
      "[20.0100, 75.1100] Epoch 8/5, Loss: 9.8895\n",
      "[20.0100, 75.1100] Epoch 9/5, Loss: 9.7467\n",
      "[20.0100, 75.1100] Epoch 10/5, Loss: 9.3788\n",
      "[20.0100, 75.1100] Epoch 11/5, Loss: 9.1137\n",
      "[20.0100, 75.1100] Epoch 12/5, Loss: 8.7915\n",
      "[20.0100, 75.1100] Epoch 13/5, Loss: 8.7697\n",
      "[20.0100, 75.1100] Epoch 14/5, Loss: 8.3666\n",
      "[20.0100, 75.1100] Epoch 15/5, Loss: 8.4644\n",
      "[20.0100, 75.1100] Epoch 16/5, Loss: 7.9574\n",
      "[20.0100, 75.1100] Epoch 17/5, Loss: 7.9738\n"
     ]
    },
    {
     "name": "stderr",
     "output_type": "stream",
     "text": [
      "Stations:  42%|████▏     | 92/217 [02:04<03:27,  1.66s/it]"
     ]
    },
    {
     "name": "stdout",
     "output_type": "stream",
     "text": [
      "[20.0100, 75.1100] Epoch 18/5, Loss: 7.6350\n",
      "[20.0100, 75.1100] Epoch 19/5, Loss: 7.1478\n",
      "[20.0100, 75.1100] Epoch 20/5, Loss: 6.7254\n",
      "📍 Station (20.0100, 75.1100)\n",
      "  Accuracy : 0.9286\n",
      "  Precision: 0.4676\n",
      "  Recall   : 0.4962\n",
      "  F1-score : 0.4815\n",
      "    Class 0: Precision=0.9353, Recall=0.9924, F1-score=0.9630\n",
      "    Class 1: Precision=0.0000, Recall=0.0000, F1-score=0.0000\n",
      "[18.5000, 74.3300] Epoch 1/5, Loss: 1.9515\n",
      "[18.5000, 74.3300] Epoch 2/5, Loss: 1.9140\n",
      "[18.5000, 74.3300] Epoch 3/5, Loss: 2.1001\n",
      "[18.5000, 74.3300] Epoch 4/5, Loss: 2.0578\n",
      "[18.5000, 74.3300] Epoch 5/5, Loss: 1.9089\n",
      "[18.5000, 74.3300] Epoch 6/5, Loss: 1.9508\n",
      "[18.5000, 74.3300] Epoch 7/5, Loss: 1.7812\n",
      "[18.5000, 74.3300] Epoch 8/5, Loss: 1.8602\n",
      "[18.5000, 74.3300] Epoch 9/5, Loss: 1.7450\n",
      "[18.5000, 74.3300] Epoch 10/5, Loss: 1.6032\n",
      "[18.5000, 74.3300] Epoch 11/5, Loss: 1.7830\n",
      "[18.5000, 74.3300] Epoch 12/5, Loss: 1.6417\n",
      "[18.5000, 74.3300] Epoch 13/5, Loss: 1.6688\n",
      "[18.5000, 74.3300] Epoch 14/5, Loss: 1.5410\n",
      "[18.5000, 74.3300] Epoch 15/5, Loss: 1.4715\n",
      "[18.5000, 74.3300] Epoch 16/5, Loss: 1.5173\n",
      "[18.5000, 74.3300] Epoch 17/5, Loss: 1.5821\n",
      "[18.5000, 74.3300] Epoch 18/5, Loss: 1.4846\n",
      "[18.5000, 74.3300] Epoch 19/5, Loss: 1.3957\n"
     ]
    },
    {
     "name": "stderr",
     "output_type": "stream",
     "text": [
      "Stations:  43%|████▎     | 93/217 [02:04<02:34,  1.25s/it]"
     ]
    },
    {
     "name": "stdout",
     "output_type": "stream",
     "text": [
      "[18.5000, 74.3300] Epoch 20/5, Loss: 1.4170\n",
      "📍 Station (18.5000, 74.3300)\n",
      "  Accuracy : 0.6800\n",
      "  Precision: 0.4722\n",
      "  Recall   : 0.3542\n",
      "  F1-score : 0.4048\n",
      "    Class 0: Precision=0.9444, Recall=0.7083, F1-score=0.8095\n",
      "    Class 1: Precision=0.0000, Recall=0.0000, F1-score=0.0000\n",
      "[18.3000, 73.4800] Epoch 1/5, Loss: 2.1734\n",
      "[18.3000, 73.4800] Epoch 2/5, Loss: 2.1311\n",
      "[18.3000, 73.4800] Epoch 3/5, Loss: 2.1619\n",
      "[18.3000, 73.4800] Epoch 4/5, Loss: 2.0815\n",
      "[18.3000, 73.4800] Epoch 5/5, Loss: 2.0032\n",
      "[18.3000, 73.4800] Epoch 6/5, Loss: 2.0161\n",
      "[18.3000, 73.4800] Epoch 7/5, Loss: 2.0257\n",
      "[18.3000, 73.4800] Epoch 8/5, Loss: 1.9696\n",
      "[18.3000, 73.4800] Epoch 9/5, Loss: 1.9830\n",
      "[18.3000, 73.4800] Epoch 10/5, Loss: 1.9240\n",
      "[18.3000, 73.4800] Epoch 11/5, Loss: 1.9382\n",
      "[18.3000, 73.4800] Epoch 12/5, Loss: 1.9087\n",
      "[18.3000, 73.4800] Epoch 13/5, Loss: 1.8778\n",
      "[18.3000, 73.4800] Epoch 14/5, Loss: 1.8733\n"
     ]
    },
    {
     "name": "stderr",
     "output_type": "stream",
     "text": [
      "Stations:  43%|████▎     | 94/217 [02:05<01:57,  1.04it/s]"
     ]
    },
    {
     "name": "stdout",
     "output_type": "stream",
     "text": [
      "[18.3000, 73.4800] Epoch 15/5, Loss: 1.8367\n",
      "[18.3000, 73.4800] Epoch 16/5, Loss: 1.8591\n",
      "[18.3000, 73.4800] Epoch 17/5, Loss: 1.8315\n",
      "[18.3000, 73.4800] Epoch 18/5, Loss: 1.8453\n",
      "[18.3000, 73.4800] Epoch 19/5, Loss: 1.7562\n",
      "[18.3000, 73.4800] Epoch 20/5, Loss: 1.7219\n",
      "📍 Station (18.3000, 73.4800)\n",
      "  Accuracy : 0.8800\n",
      "  Precision: 0.4783\n",
      "  Recall   : 0.4583\n",
      "  F1-score : 0.4681\n",
      "    Class 0: Precision=0.9565, Recall=0.9167, F1-score=0.9362\n",
      "    Class 1: Precision=0.0000, Recall=0.0000, F1-score=0.0000\n",
      "[16.4200, 74.1400] Epoch 1/5, Loss: 11.7404\n",
      "[16.4200, 74.1400] Epoch 2/5, Loss: 11.5085\n",
      "[16.4200, 74.1400] Epoch 3/5, Loss: 10.8504\n",
      "[16.4200, 74.1400] Epoch 4/5, Loss: 10.4244\n",
      "[16.4200, 74.1400] Epoch 5/5, Loss: 10.1389\n",
      "[16.4200, 74.1400] Epoch 6/5, Loss: 9.6279\n",
      "[16.4200, 74.1400] Epoch 7/5, Loss: 9.4638\n",
      "[16.4200, 74.1400] Epoch 8/5, Loss: 9.0561\n",
      "[16.4200, 74.1400] Epoch 9/5, Loss: 8.6423\n",
      "[16.4200, 74.1400] Epoch 10/5, Loss: 8.5496\n",
      "[16.4200, 74.1400] Epoch 11/5, Loss: 8.1918\n",
      "[16.4200, 74.1400] Epoch 12/5, Loss: 7.7407\n",
      "[16.4200, 74.1400] Epoch 13/5, Loss: 7.5640\n",
      "[16.4200, 74.1400] Epoch 14/5, Loss: 7.0116\n",
      "[16.4200, 74.1400] Epoch 15/5, Loss: 6.7422\n",
      "[16.4200, 74.1400] Epoch 16/5, Loss: 6.4505\n",
      "[16.4200, 74.1400] Epoch 17/5, Loss: 6.1374\n",
      "[16.4200, 74.1400] Epoch 18/5, Loss: 6.1238\n",
      "[16.4200, 74.1400] Epoch 19/5, Loss: 5.6663\n"
     ]
    },
    {
     "name": "stderr",
     "output_type": "stream",
     "text": [
      "Stations:  44%|████▍     | 95/217 [02:06<02:20,  1.15s/it]"
     ]
    },
    {
     "name": "stdout",
     "output_type": "stream",
     "text": [
      "[16.4200, 74.1400] Epoch 20/5, Loss: 5.4025\n",
      "📍 Station (16.4200, 74.1400)\n",
      "  Accuracy : 0.8643\n",
      "  Precision: 0.6013\n",
      "  Recall   : 0.6237\n",
      "  F1-score : 0.6106\n",
      "    Class 0: Precision=0.9360, Recall=0.9141, F1-score=0.9249\n",
      "    Class 1: Precision=0.2667, Recall=0.3333, F1-score=0.2963\n",
      "[19.5400, 74.2900] Epoch 1/5, Loss: 12.3902\n",
      "[19.5400, 74.2900] Epoch 2/5, Loss: 11.7071\n",
      "[19.5400, 74.2900] Epoch 3/5, Loss: 10.9642\n",
      "[19.5400, 74.2900] Epoch 4/5, Loss: 10.9804\n",
      "[19.5400, 74.2900] Epoch 5/5, Loss: 10.3445\n",
      "[19.5400, 74.2900] Epoch 6/5, Loss: 10.2496\n",
      "[19.5400, 74.2900] Epoch 7/5, Loss: 10.4735\n",
      "[19.5400, 74.2900] Epoch 8/5, Loss: 10.4512\n",
      "[19.5400, 74.2900] Epoch 9/5, Loss: 9.7262\n",
      "[19.5400, 74.2900] Epoch 10/5, Loss: 9.8275\n",
      "[19.5400, 74.2900] Epoch 11/5, Loss: 9.6402\n",
      "[19.5400, 74.2900] Epoch 12/5, Loss: 9.2195\n",
      "[19.5400, 74.2900] Epoch 13/5, Loss: 9.8747\n",
      "[19.5400, 74.2900] Epoch 14/5, Loss: 9.3074\n",
      "[19.5400, 74.2900] Epoch 15/5, Loss: 9.7347\n",
      "[19.5400, 74.2900] Epoch 16/5, Loss: 9.3440\n",
      "[19.5400, 74.2900] Epoch 17/5, Loss: 9.4181\n"
     ]
    },
    {
     "name": "stderr",
     "output_type": "stream",
     "text": [
      "Stations:  44%|████▍     | 96/217 [02:08<02:32,  1.26s/it]"
     ]
    },
    {
     "name": "stdout",
     "output_type": "stream",
     "text": [
      "[19.5400, 74.2900] Epoch 18/5, Loss: 9.6574\n",
      "[19.5400, 74.2900] Epoch 19/5, Loss: 9.2514\n",
      "[19.5400, 74.2900] Epoch 20/5, Loss: 8.8555\n",
      "📍 Station (19.5400, 74.2900)\n",
      "  Accuracy : 0.9714\n",
      "  Precision: 0.4857\n",
      "  Recall   : 0.5000\n",
      "  F1-score : 0.4928\n",
      "    Class 0: Precision=0.9714, Recall=1.0000, F1-score=0.9855\n",
      "    Class 1: Precision=0.0000, Recall=0.0000, F1-score=0.0000\n",
      "[17.4200, 74.1000] Epoch 1/5, Loss: 4.3400\n",
      "[17.4200, 74.1000] Epoch 2/5, Loss: 4.0955\n",
      "[17.4200, 74.1000] Epoch 3/5, Loss: 3.8468\n",
      "[17.4200, 74.1000] Epoch 4/5, Loss: 3.7718\n",
      "[17.4200, 74.1000] Epoch 5/5, Loss: 3.6581\n",
      "[17.4200, 74.1000] Epoch 6/5, Loss: 3.5780\n",
      "[17.4200, 74.1000] Epoch 7/5, Loss: 3.5189\n",
      "[17.4200, 74.1000] Epoch 8/5, Loss: 3.4715\n",
      "[17.4200, 74.1000] Epoch 9/5, Loss: 3.4512\n",
      "[17.4200, 74.1000] Epoch 10/5, Loss: 3.2127\n",
      "[17.4200, 74.1000] Epoch 11/5, Loss: 3.2575\n",
      "[17.4200, 74.1000] Epoch 12/5, Loss: 3.2257\n",
      "[17.4200, 74.1000] Epoch 13/5, Loss: 3.1815\n",
      "[17.4200, 74.1000] Epoch 14/5, Loss: 3.0236\n",
      "[17.4200, 74.1000] Epoch 15/5, Loss: 3.0036\n",
      "[17.4200, 74.1000] Epoch 16/5, Loss: 2.8393\n",
      "[17.4200, 74.1000] Epoch 17/5, Loss: 2.9270\n",
      "[17.4200, 74.1000] Epoch 18/5, Loss: 2.8160\n",
      "[17.4200, 74.1000] Epoch 19/5, Loss: 2.5675\n"
     ]
    },
    {
     "name": "stderr",
     "output_type": "stream",
     "text": [
      "Stations:  45%|████▍     | 97/217 [02:08<02:04,  1.04s/it]"
     ]
    },
    {
     "name": "stdout",
     "output_type": "stream",
     "text": [
      "[17.4200, 74.1000] Epoch 20/5, Loss: 2.6826\n",
      "📍 Station (17.4200, 74.1000)\n",
      "  Accuracy : 0.7907\n",
      "  Precision: 0.5500\n",
      "  Recall   : 0.8929\n",
      "  F1-score : 0.5309\n",
      "    Class 0: Precision=1.0000, Recall=0.7857, F1-score=0.8800\n",
      "    Class 1: Precision=0.1000, Recall=1.0000, F1-score=0.1818\n",
      "[16.0100, 73.4200] Epoch 1/5, Loss: 13.0232\n",
      "[16.0100, 73.4200] Epoch 2/5, Loss: 12.2395\n",
      "[16.0100, 73.4200] Epoch 3/5, Loss: 11.5762\n",
      "[16.0100, 73.4200] Epoch 4/5, Loss: 11.3537\n",
      "[16.0100, 73.4200] Epoch 5/5, Loss: 10.6968\n",
      "[16.0100, 73.4200] Epoch 6/5, Loss: 10.4398\n",
      "[16.0100, 73.4200] Epoch 7/5, Loss: 9.9824\n",
      "[16.0100, 73.4200] Epoch 8/5, Loss: 9.8480\n",
      "[16.0100, 73.4200] Epoch 9/5, Loss: 9.7234\n",
      "[16.0100, 73.4200] Epoch 10/5, Loss: 9.2499\n",
      "[16.0100, 73.4200] Epoch 11/5, Loss: 9.1052\n",
      "[16.0100, 73.4200] Epoch 12/5, Loss: 9.0900\n",
      "[16.0100, 73.4200] Epoch 13/5, Loss: 8.6039\n",
      "[16.0100, 73.4200] Epoch 14/5, Loss: 8.4359\n",
      "[16.0100, 73.4200] Epoch 15/5, Loss: 8.4515\n",
      "[16.0100, 73.4200] Epoch 16/5, Loss: 8.1274\n",
      "[16.0100, 73.4200] Epoch 17/5, Loss: 7.9715\n"
     ]
    },
    {
     "name": "stderr",
     "output_type": "stream",
     "text": [
      "Stations:  45%|████▌     | 98/217 [02:10<02:22,  1.20s/it]"
     ]
    },
    {
     "name": "stdout",
     "output_type": "stream",
     "text": [
      "[16.0100, 73.4200] Epoch 18/5, Loss: 7.7505\n",
      "[16.0100, 73.4200] Epoch 19/5, Loss: 7.4043\n",
      "[16.0100, 73.4200] Epoch 20/5, Loss: 7.1745\n",
      "📍 Station (16.0100, 73.4200)\n",
      "  Accuracy : 0.7234\n",
      "  Precision: 0.7280\n",
      "  Recall   : 0.7337\n",
      "  F1-score : 0.7225\n",
      "    Class 0: Precision=0.8209, Recall=0.6707, F1-score=0.7383\n",
      "    Class 1: Precision=0.6351, Recall=0.7966, F1-score=0.7068\n",
      "[16.5200, 73.3300] Epoch 1/5, Loss: 12.5276\n",
      "[16.5200, 73.3300] Epoch 2/5, Loss: 11.6983\n",
      "[16.5200, 73.3300] Epoch 3/5, Loss: 11.1184\n",
      "[16.5200, 73.3300] Epoch 4/5, Loss: 10.7348\n",
      "[16.5200, 73.3300] Epoch 5/5, Loss: 10.3683\n",
      "[16.5200, 73.3300] Epoch 6/5, Loss: 9.9750\n",
      "[16.5200, 73.3300] Epoch 7/5, Loss: 9.7804\n",
      "[16.5200, 73.3300] Epoch 8/5, Loss: 9.4629\n",
      "[16.5200, 73.3300] Epoch 9/5, Loss: 9.2342\n",
      "[16.5200, 73.3300] Epoch 10/5, Loss: 9.0447\n",
      "[16.5200, 73.3300] Epoch 11/5, Loss: 8.8879\n",
      "[16.5200, 73.3300] Epoch 12/5, Loss: 8.5972\n",
      "[16.5200, 73.3300] Epoch 13/5, Loss: 8.2139\n",
      "[16.5200, 73.3300] Epoch 14/5, Loss: 8.0698\n",
      "[16.5200, 73.3300] Epoch 15/5, Loss: 7.9260\n",
      "[16.5200, 73.3300] Epoch 16/5, Loss: 7.7230\n",
      "[16.5200, 73.3300] Epoch 17/5, Loss: 7.4847\n"
     ]
    },
    {
     "name": "stderr",
     "output_type": "stream",
     "text": [
      "Stations:  46%|████▌     | 99/217 [02:11<02:35,  1.32s/it]"
     ]
    },
    {
     "name": "stdout",
     "output_type": "stream",
     "text": [
      "[16.5200, 73.3300] Epoch 18/5, Loss: 7.4726\n",
      "[16.5200, 73.3300] Epoch 19/5, Loss: 7.1801\n",
      "[16.5200, 73.3300] Epoch 20/5, Loss: 7.0692\n",
      "📍 Station (16.5200, 73.3300)\n",
      "  Accuracy : 0.6714\n",
      "  Precision: 0.7052\n",
      "  Recall   : 0.6863\n",
      "  F1-score : 0.6671\n",
      "    Class 0: Precision=0.8125, Recall=0.5132, F1-score=0.6290\n",
      "    Class 1: Precision=0.5978, Recall=0.8594, F1-score=0.7051\n",
      "[18.5600, 77.0600] Epoch 1/5, Loss: 12.0690\n",
      "[18.5600, 77.0600] Epoch 2/5, Loss: 11.2917\n",
      "[18.5600, 77.0600] Epoch 3/5, Loss: 11.2159\n",
      "[18.5600, 77.0600] Epoch 4/5, Loss: 10.6549\n",
      "[18.5600, 77.0600] Epoch 5/5, Loss: 10.3041\n",
      "[18.5600, 77.0600] Epoch 6/5, Loss: 10.1298\n",
      "[18.5600, 77.0600] Epoch 7/5, Loss: 9.9826\n",
      "[18.5600, 77.0600] Epoch 8/5, Loss: 9.4598\n",
      "[18.5600, 77.0600] Epoch 9/5, Loss: 9.2882\n",
      "[18.5600, 77.0600] Epoch 10/5, Loss: 8.7915\n",
      "[18.5600, 77.0600] Epoch 11/5, Loss: 8.6437\n",
      "[18.5600, 77.0600] Epoch 12/5, Loss: 8.3958\n",
      "[18.5600, 77.0600] Epoch 13/5, Loss: 8.3792\n",
      "[18.5600, 77.0600] Epoch 14/5, Loss: 7.7829\n",
      "[18.5600, 77.0600] Epoch 15/5, Loss: 7.3613\n",
      "[18.5600, 77.0600] Epoch 16/5, Loss: 7.3829\n",
      "[18.5600, 77.0600] Epoch 17/5, Loss: 6.5232\n",
      "[18.5600, 77.0600] Epoch 18/5, Loss: 6.3768\n"
     ]
    },
    {
     "name": "stderr",
     "output_type": "stream",
     "text": [
      "Stations:  46%|████▌     | 100/217 [02:13<02:41,  1.38s/it]"
     ]
    },
    {
     "name": "stdout",
     "output_type": "stream",
     "text": [
      "[18.5600, 77.0600] Epoch 19/5, Loss: 6.3372\n",
      "[18.5600, 77.0600] Epoch 20/5, Loss: 5.5930\n",
      "📍 Station (18.5600, 77.0600)\n",
      "  Accuracy : 0.8222\n",
      "  Precision: 0.4934\n",
      "  Recall   : 0.4900\n",
      "  F1-score : 0.4893\n",
      "    Class 0: Precision=0.9244, Recall=0.8800, F1-score=0.9016\n",
      "    Class 1: Precision=0.0625, Recall=0.1000, F1-score=0.0769\n",
      "[18.0200, 75.3100] Epoch 1/5, Loss: 11.8136\n",
      "[18.0200, 75.3100] Epoch 2/5, Loss: 11.1383\n",
      "[18.0200, 75.3100] Epoch 3/5, Loss: 10.7033\n",
      "[18.0200, 75.3100] Epoch 4/5, Loss: 10.3137\n",
      "[18.0200, 75.3100] Epoch 5/5, Loss: 9.7533\n",
      "[18.0200, 75.3100] Epoch 6/5, Loss: 9.5165\n",
      "[18.0200, 75.3100] Epoch 7/5, Loss: 9.0409\n",
      "[18.0200, 75.3100] Epoch 8/5, Loss: 8.8227\n",
      "[18.0200, 75.3100] Epoch 9/5, Loss: 8.7815\n",
      "[18.0200, 75.3100] Epoch 10/5, Loss: 8.6610\n",
      "[18.0200, 75.3100] Epoch 11/5, Loss: 8.3848\n",
      "[18.0200, 75.3100] Epoch 12/5, Loss: 8.2821\n",
      "[18.0200, 75.3100] Epoch 13/5, Loss: 7.7507\n",
      "[18.0200, 75.3100] Epoch 14/5, Loss: 7.3367\n",
      "[18.0200, 75.3100] Epoch 15/5, Loss: 7.2648\n",
      "[18.0200, 75.3100] Epoch 16/5, Loss: 7.3261\n",
      "[18.0200, 75.3100] Epoch 17/5, Loss: 6.6612\n",
      "[18.0200, 75.3100] Epoch 18/5, Loss: 6.1636\n",
      "[18.0200, 75.3100] Epoch 19/5, Loss: 5.9278\n"
     ]
    },
    {
     "name": "stderr",
     "output_type": "stream",
     "text": [
      "Stations:  47%|████▋     | 101/217 [02:14<02:40,  1.39s/it]"
     ]
    },
    {
     "name": "stdout",
     "output_type": "stream",
     "text": [
      "[18.0200, 75.3100] Epoch 20/5, Loss: 5.4137\n",
      "📍 Station (18.0200, 75.3100)\n",
      "  Accuracy : 0.9603\n",
      "  Precision: 0.4840\n",
      "  Recall   : 0.4959\n",
      "  F1-score : 0.4899\n",
      "    Class 0: Precision=0.9680, Recall=0.9918, F1-score=0.9798\n",
      "    Class 1: Precision=0.0000, Recall=0.0000, F1-score=0.0000\n",
      "[17.5000, 73.4200] Epoch 1/5, Loss: 12.1438\n",
      "[17.5000, 73.4200] Epoch 2/5, Loss: 11.3851\n",
      "[17.5000, 73.4200] Epoch 3/5, Loss: 10.9229\n",
      "[17.5000, 73.4200] Epoch 4/5, Loss: 10.5283\n",
      "[17.5000, 73.4200] Epoch 5/5, Loss: 10.0342\n",
      "[17.5000, 73.4200] Epoch 6/5, Loss: 9.7688\n",
      "[17.5000, 73.4200] Epoch 7/5, Loss: 9.7775\n",
      "[17.5000, 73.4200] Epoch 8/5, Loss: 9.4175\n",
      "[17.5000, 73.4200] Epoch 9/5, Loss: 9.2004\n",
      "[17.5000, 73.4200] Epoch 10/5, Loss: 9.0010\n",
      "[17.5000, 73.4200] Epoch 11/5, Loss: 8.7088\n",
      "[17.5000, 73.4200] Epoch 12/5, Loss: 8.5913\n",
      "[17.5000, 73.4200] Epoch 13/5, Loss: 8.3618\n",
      "[17.5000, 73.4200] Epoch 14/5, Loss: 8.2419\n",
      "[17.5000, 73.4200] Epoch 15/5, Loss: 7.9059\n",
      "[17.5000, 73.4200] Epoch 16/5, Loss: 7.8721\n",
      "[17.5000, 73.4200] Epoch 17/5, Loss: 7.6884\n"
     ]
    },
    {
     "name": "stderr",
     "output_type": "stream",
     "text": [
      "Stations:  47%|████▋     | 102/217 [02:16<02:44,  1.43s/it]"
     ]
    },
    {
     "name": "stdout",
     "output_type": "stream",
     "text": [
      "[17.5000, 73.4200] Epoch 18/5, Loss: 7.5261\n",
      "[17.5000, 73.4200] Epoch 19/5, Loss: 7.3229\n",
      "[17.5000, 73.4200] Epoch 20/5, Loss: 7.0412\n",
      "📍 Station (17.5000, 73.4200)\n",
      "  Accuracy : 0.7730\n",
      "  Precision: 0.8097\n",
      "  Recall   : 0.7693\n",
      "  F1-score : 0.7644\n",
      "    Class 0: Precision=0.7083, Recall=0.9444, F1-score=0.8095\n",
      "    Class 1: Precision=0.9111, Recall=0.5942, F1-score=0.7193\n",
      "[18.0500, 73.2500] Epoch 1/5, Loss: 12.5797\n",
      "[18.0500, 73.2500] Epoch 2/5, Loss: 11.8774\n",
      "[18.0500, 73.2500] Epoch 3/5, Loss: 11.3404\n",
      "[18.0500, 73.2500] Epoch 4/5, Loss: 11.0664\n",
      "[18.0500, 73.2500] Epoch 5/5, Loss: 10.6630\n",
      "[18.0500, 73.2500] Epoch 6/5, Loss: 10.4003\n",
      "[18.0500, 73.2500] Epoch 7/5, Loss: 10.2266\n",
      "[18.0500, 73.2500] Epoch 8/5, Loss: 9.9139\n",
      "[18.0500, 73.2500] Epoch 9/5, Loss: 9.8294\n",
      "[18.0500, 73.2500] Epoch 10/5, Loss: 9.4964\n",
      "[18.0500, 73.2500] Epoch 11/5, Loss: 9.5633\n",
      "[18.0500, 73.2500] Epoch 12/5, Loss: 9.1580\n",
      "[18.0500, 73.2500] Epoch 13/5, Loss: 9.1190\n",
      "[18.0500, 73.2500] Epoch 14/5, Loss: 8.8916\n",
      "[18.0500, 73.2500] Epoch 15/5, Loss: 8.7324\n",
      "[18.0500, 73.2500] Epoch 16/5, Loss: 8.6193\n",
      "[18.0500, 73.2500] Epoch 17/5, Loss: 8.3377\n",
      "[18.0500, 73.2500] Epoch 18/5, Loss: 8.1052\n"
     ]
    },
    {
     "name": "stderr",
     "output_type": "stream",
     "text": [
      "Stations:  47%|████▋     | 103/217 [02:17<02:48,  1.48s/it]"
     ]
    },
    {
     "name": "stdout",
     "output_type": "stream",
     "text": [
      "[18.0500, 73.2500] Epoch 19/5, Loss: 8.0766\n",
      "[18.0500, 73.2500] Epoch 20/5, Loss: 7.8713\n",
      "📍 Station (18.0500, 73.2500)\n",
      "  Accuracy : 0.7914\n",
      "  Precision: 0.7818\n",
      "  Recall   : 0.7866\n",
      "  F1-score : 0.7838\n",
      "    Class 0: Precision=0.8395, Recall=0.8095, F1-score=0.8242\n",
      "    Class 1: Precision=0.7241, Recall=0.7636, F1-score=0.7434\n",
      "[18.5900, 72.4900] Epoch 1/5, Loss: 6.4083\n",
      "[18.5900, 72.4900] Epoch 2/5, Loss: 6.2134\n",
      "[18.5900, 72.4900] Epoch 3/5, Loss: 6.0044\n",
      "[18.5900, 72.4900] Epoch 4/5, Loss: 5.9297\n",
      "[18.5900, 72.4900] Epoch 5/5, Loss: 5.7407\n",
      "[18.5900, 72.4900] Epoch 6/5, Loss: 5.6024\n",
      "[18.5900, 72.4900] Epoch 7/5, Loss: 5.4624\n",
      "[18.5900, 72.4900] Epoch 8/5, Loss: 5.4441\n",
      "[18.5900, 72.4900] Epoch 9/5, Loss: 5.2942\n",
      "[18.5900, 72.4900] Epoch 10/5, Loss: 5.1305\n",
      "[18.5900, 72.4900] Epoch 11/5, Loss: 5.0416\n",
      "[18.5900, 72.4900] Epoch 12/5, Loss: 5.0073\n",
      "[18.5900, 72.4900] Epoch 13/5, Loss: 4.9376\n",
      "[18.5900, 72.4900] Epoch 14/5, Loss: 4.6056\n",
      "[18.5900, 72.4900] Epoch 15/5, Loss: 4.6414\n",
      "[18.5900, 72.4900] Epoch 16/5, Loss: 4.4283\n",
      "[18.5900, 72.4900] Epoch 17/5, Loss: 4.4935\n",
      "[18.5900, 72.4900] Epoch 18/5, Loss: 4.3124\n",
      "[18.5900, 72.4900] Epoch 19/5, Loss: 4.2108\n"
     ]
    },
    {
     "name": "stderr",
     "output_type": "stream",
     "text": [
      "Stations:  48%|████▊     | 104/217 [02:18<02:23,  1.27s/it]"
     ]
    },
    {
     "name": "stdout",
     "output_type": "stream",
     "text": [
      "[18.5900, 72.4900] Epoch 20/5, Loss: 4.0603\n",
      "📍 Station (18.5900, 72.4900)\n",
      "  Accuracy : 0.8000\n",
      "  Precision: 0.4912\n",
      "  Recall   : 0.4058\n",
      "  F1-score : 0.4444\n",
      "    Class 0: Precision=0.9825, Recall=0.8116, F1-score=0.8889\n",
      "    Class 1: Precision=0.0000, Recall=0.0000, F1-score=0.0000\n",
      "[20.3300, 74.3200] Epoch 1/5, Loss: 11.8842\n",
      "[20.3300, 74.3200] Epoch 2/5, Loss: 11.3729\n",
      "[20.3300, 74.3200] Epoch 3/5, Loss: 11.1944\n",
      "[20.3300, 74.3200] Epoch 4/5, Loss: 10.7575\n",
      "[20.3300, 74.3200] Epoch 5/5, Loss: 10.5108\n",
      "[20.3300, 74.3200] Epoch 6/5, Loss: 9.9941\n",
      "[20.3300, 74.3200] Epoch 7/5, Loss: 9.6921\n",
      "[20.3300, 74.3200] Epoch 8/5, Loss: 9.5476\n",
      "[20.3300, 74.3200] Epoch 9/5, Loss: 9.7200\n",
      "[20.3300, 74.3200] Epoch 10/5, Loss: 9.6385\n",
      "[20.3300, 74.3200] Epoch 11/5, Loss: 9.2453\n",
      "[20.3300, 74.3200] Epoch 12/5, Loss: 8.5929\n",
      "[20.3300, 74.3200] Epoch 13/5, Loss: 8.5242\n",
      "[20.3300, 74.3200] Epoch 14/5, Loss: 8.3290\n",
      "[20.3300, 74.3200] Epoch 15/5, Loss: 8.1171\n",
      "[20.3300, 74.3200] Epoch 16/5, Loss: 8.0269\n",
      "[20.3300, 74.3200] Epoch 17/5, Loss: 7.7565\n"
     ]
    },
    {
     "name": "stderr",
     "output_type": "stream",
     "text": [
      "Stations:  48%|████▊     | 105/217 [02:20<02:29,  1.34s/it]"
     ]
    },
    {
     "name": "stdout",
     "output_type": "stream",
     "text": [
      "[20.3300, 74.3200] Epoch 18/5, Loss: 7.3247\n",
      "[20.3300, 74.3200] Epoch 19/5, Loss: 7.0903\n",
      "[20.3300, 74.3200] Epoch 20/5, Loss: 6.8210\n",
      "📍 Station (20.3300, 74.3200)\n",
      "  Accuracy : 0.9538\n",
      "  Precision: 0.4769\n",
      "  Recall   : 0.5000\n",
      "  F1-score : 0.4882\n",
      "    Class 0: Precision=0.9538, Recall=1.0000, F1-score=0.9764\n",
      "    Class 1: Precision=0.0000, Recall=0.0000, F1-score=0.0000\n",
      "[17.5200, 74.5500] Epoch 1/5, Loss: 9.2686\n",
      "[17.5200, 74.5500] Epoch 2/5, Loss: 8.9262\n",
      "[17.5200, 74.5500] Epoch 3/5, Loss: 8.4336\n",
      "[17.5200, 74.5500] Epoch 4/5, Loss: 8.1951\n",
      "[17.5200, 74.5500] Epoch 5/5, Loss: 8.0520\n",
      "[17.5200, 74.5500] Epoch 6/5, Loss: 7.9704\n",
      "[17.5200, 74.5500] Epoch 7/5, Loss: 7.5572\n",
      "[17.5200, 74.5500] Epoch 8/5, Loss: 7.6915\n",
      "[17.5200, 74.5500] Epoch 9/5, Loss: 7.4190\n",
      "[17.5200, 74.5500] Epoch 10/5, Loss: 7.0988\n",
      "[17.5200, 74.5500] Epoch 11/5, Loss: 6.7423\n",
      "[17.5200, 74.5500] Epoch 12/5, Loss: 6.7825\n",
      "[17.5200, 74.5500] Epoch 13/5, Loss: 6.6719\n",
      "[17.5200, 74.5500] Epoch 14/5, Loss: 6.0665\n",
      "[17.5200, 74.5500] Epoch 15/5, Loss: 6.3058\n",
      "[17.5200, 74.5500] Epoch 16/5, Loss: 5.7984\n"
     ]
    },
    {
     "name": "stderr",
     "output_type": "stream",
     "text": [
      "Stations:  49%|████▉     | 106/217 [02:21<02:21,  1.28s/it]"
     ]
    },
    {
     "name": "stdout",
     "output_type": "stream",
     "text": [
      "[17.5200, 74.5500] Epoch 17/5, Loss: 5.5193\n",
      "[17.5200, 74.5500] Epoch 18/5, Loss: 5.2800\n",
      "[17.5200, 74.5500] Epoch 19/5, Loss: 5.0445\n",
      "[17.5200, 74.5500] Epoch 20/5, Loss: 4.6878\n",
      "📍 Station (17.5200, 74.5500)\n",
      "  Accuracy : 0.9500\n",
      "  Precision: 0.4798\n",
      "  Recall   : 0.4948\n",
      "  F1-score : 0.4872\n",
      "    Class 0: Precision=0.9596, Recall=0.9896, F1-score=0.9744\n",
      "    Class 1: Precision=0.0000, Recall=0.0000, F1-score=0.0000\n",
      "[16.0300, 73.2800] Epoch 1/5, Loss: 12.8157\n",
      "[16.0300, 73.2800] Epoch 2/5, Loss: 12.1503\n",
      "[16.0300, 73.2800] Epoch 3/5, Loss: 11.7356\n",
      "[16.0300, 73.2800] Epoch 4/5, Loss: 11.2837\n",
      "[16.0300, 73.2800] Epoch 5/5, Loss: 11.1439\n",
      "[16.0300, 73.2800] Epoch 6/5, Loss: 10.7536\n",
      "[16.0300, 73.2800] Epoch 7/5, Loss: 10.7005\n",
      "[16.0300, 73.2800] Epoch 8/5, Loss: 10.3489\n",
      "[16.0300, 73.2800] Epoch 9/5, Loss: 10.3438\n",
      "[16.0300, 73.2800] Epoch 10/5, Loss: 10.0743\n",
      "[16.0300, 73.2800] Epoch 11/5, Loss: 9.6725\n",
      "[16.0300, 73.2800] Epoch 12/5, Loss: 9.4273\n",
      "[16.0300, 73.2800] Epoch 13/5, Loss: 9.3822\n",
      "[16.0300, 73.2800] Epoch 14/5, Loss: 9.2857\n",
      "[16.0300, 73.2800] Epoch 15/5, Loss: 9.1551\n",
      "[16.0300, 73.2800] Epoch 16/5, Loss: 8.8310\n",
      "[16.0300, 73.2800] Epoch 17/5, Loss: 8.5939\n",
      "[16.0300, 73.2800] Epoch 18/5, Loss: 8.6197\n",
      "[16.0300, 73.2800] Epoch 19/5, Loss: 8.2561\n"
     ]
    },
    {
     "name": "stderr",
     "output_type": "stream",
     "text": [
      "Stations:  49%|████▉     | 107/217 [02:22<02:24,  1.31s/it]"
     ]
    },
    {
     "name": "stdout",
     "output_type": "stream",
     "text": [
      "[16.0300, 73.2800] Epoch 20/5, Loss: 8.2412\n",
      "📍 Station (16.0300, 73.2800)\n",
      "  Accuracy : 0.7021\n",
      "  Precision: 0.7034\n",
      "  Recall   : 0.7340\n",
      "  F1-score : 0.6925\n",
      "    Class 0: Precision=0.8857, Recall=0.6458, F1-score=0.7470\n",
      "    Class 1: Precision=0.5211, Recall=0.8222, F1-score=0.6379\n",
      "[17.5900, 73.1500] Epoch 1/5, Loss: 12.2007\n",
      "[17.5900, 73.1500] Epoch 2/5, Loss: 11.4660\n",
      "[17.5900, 73.1500] Epoch 3/5, Loss: 11.0858\n",
      "[17.5900, 73.1500] Epoch 4/5, Loss: 10.8769\n",
      "[17.5900, 73.1500] Epoch 5/5, Loss: 10.7102\n",
      "[17.5900, 73.1500] Epoch 6/5, Loss: 10.4444\n",
      "[17.5900, 73.1500] Epoch 7/5, Loss: 10.2538\n",
      "[17.5900, 73.1500] Epoch 8/5, Loss: 9.7816\n",
      "[17.5900, 73.1500] Epoch 9/5, Loss: 9.6668\n",
      "[17.5900, 73.1500] Epoch 10/5, Loss: 9.5595\n",
      "[17.5900, 73.1500] Epoch 11/5, Loss: 9.3996\n",
      "[17.5900, 73.1500] Epoch 12/5, Loss: 9.0082\n",
      "[17.5900, 73.1500] Epoch 13/5, Loss: 8.8026\n",
      "[17.5900, 73.1500] Epoch 14/5, Loss: 8.6750\n",
      "[17.5900, 73.1500] Epoch 15/5, Loss: 8.4658\n",
      "[17.5900, 73.1500] Epoch 16/5, Loss: 8.3040\n",
      "[17.5900, 73.1500] Epoch 17/5, Loss: 8.1874\n"
     ]
    },
    {
     "name": "stderr",
     "output_type": "stream",
     "text": [
      "Stations:  50%|████▉     | 108/217 [02:24<02:28,  1.36s/it]"
     ]
    },
    {
     "name": "stdout",
     "output_type": "stream",
     "text": [
      "[17.5900, 73.1500] Epoch 18/5, Loss: 7.9915\n",
      "[17.5900, 73.1500] Epoch 19/5, Loss: 7.8093\n",
      "[17.5900, 73.1500] Epoch 20/5, Loss: 7.6819\n",
      "📍 Station (17.5900, 73.1500)\n",
      "  Accuracy : 0.7786\n",
      "  Precision: 0.7819\n",
      "  Recall   : 0.7698\n",
      "  F1-score : 0.7724\n",
      "    Class 0: Precision=0.7674, Recall=0.8571, F1-score=0.8098\n",
      "    Class 1: Precision=0.7963, Recall=0.6825, F1-score=0.7350\n",
      "[17.3000, 75.2700] Epoch 1/5, Loss: 12.6778\n",
      "[17.3000, 75.2700] Epoch 2/5, Loss: 11.8438\n",
      "[17.3000, 75.2700] Epoch 3/5, Loss: 11.6066\n",
      "[17.3000, 75.2700] Epoch 4/5, Loss: 10.7241\n",
      "[17.3000, 75.2700] Epoch 5/5, Loss: 10.5316\n",
      "[17.3000, 75.2700] Epoch 6/5, Loss: 10.7385\n",
      "[17.3000, 75.2700] Epoch 7/5, Loss: 10.0255\n",
      "[17.3000, 75.2700] Epoch 8/5, Loss: 10.1081\n",
      "[17.3000, 75.2700] Epoch 9/5, Loss: 10.5102\n",
      "[17.3000, 75.2700] Epoch 10/5, Loss: 10.1141\n",
      "[17.3000, 75.2700] Epoch 11/5, Loss: 10.0124\n",
      "[17.3000, 75.2700] Epoch 12/5, Loss: 10.0452\n",
      "[17.3000, 75.2700] Epoch 13/5, Loss: 9.3752\n",
      "[17.3000, 75.2700] Epoch 14/5, Loss: 9.8283\n",
      "[17.3000, 75.2700] Epoch 15/5, Loss: 9.5103\n",
      "[17.3000, 75.2700] Epoch 16/5, Loss: 8.9056\n",
      "[17.3000, 75.2700] Epoch 17/5, Loss: 8.8212\n",
      "[17.3000, 75.2700] Epoch 18/5, Loss: 8.5920\n",
      "[17.3000, 75.2700] Epoch 19/5, Loss: 8.7150\n"
     ]
    },
    {
     "name": "stderr",
     "output_type": "stream",
     "text": [
      "Stations:  50%|█████     | 109/217 [02:25<02:28,  1.37s/it]"
     ]
    },
    {
     "name": "stdout",
     "output_type": "stream",
     "text": [
      "[17.3000, 75.2700] Epoch 20/5, Loss: 8.4846\n",
      "📍 Station (17.3000, 75.2700)\n",
      "  Accuracy : 0.9710\n",
      "  Precision: 0.4855\n",
      "  Recall   : 0.5000\n",
      "  F1-score : 0.4926\n",
      "    Class 0: Precision=0.9710, Recall=1.0000, F1-score=0.9853\n",
      "    Class 1: Precision=0.0000, Recall=0.0000, F1-score=0.0000\n",
      "[18.1400, 73.1700] Epoch 1/5, Loss: 12.3617\n",
      "[18.1400, 73.1700] Epoch 2/5, Loss: 11.7401\n",
      "[18.1400, 73.1700] Epoch 3/5, Loss: 11.2609\n",
      "[18.1400, 73.1700] Epoch 4/5, Loss: 10.9604\n",
      "[18.1400, 73.1700] Epoch 5/5, Loss: 10.7189\n",
      "[18.1400, 73.1700] Epoch 6/5, Loss: 10.3614\n",
      "[18.1400, 73.1700] Epoch 7/5, Loss: 10.2441\n",
      "[18.1400, 73.1700] Epoch 8/5, Loss: 9.8507\n",
      "[18.1400, 73.1700] Epoch 9/5, Loss: 9.9512\n",
      "[18.1400, 73.1700] Epoch 10/5, Loss: 9.5079\n",
      "[18.1400, 73.1700] Epoch 11/5, Loss: 9.3537\n",
      "[18.1400, 73.1700] Epoch 12/5, Loss: 9.2151\n",
      "[18.1400, 73.1700] Epoch 13/5, Loss: 8.8979\n",
      "[18.1400, 73.1700] Epoch 14/5, Loss: 8.8577\n",
      "[18.1400, 73.1700] Epoch 15/5, Loss: 8.4508\n",
      "[18.1400, 73.1700] Epoch 16/5, Loss: 8.3764\n"
     ]
    },
    {
     "name": "stderr",
     "output_type": "stream",
     "text": [
      "Stations:  51%|█████     | 110/217 [02:26<02:26,  1.37s/it]"
     ]
    },
    {
     "name": "stdout",
     "output_type": "stream",
     "text": [
      "[18.1400, 73.1700] Epoch 17/5, Loss: 7.9608\n",
      "[18.1400, 73.1700] Epoch 18/5, Loss: 7.8917\n",
      "[18.1400, 73.1700] Epoch 19/5, Loss: 7.5387\n",
      "[18.1400, 73.1700] Epoch 20/5, Loss: 7.3992\n",
      "📍 Station (18.1400, 73.1700)\n",
      "  Accuracy : 0.7092\n",
      "  Precision: 0.7101\n",
      "  Recall   : 0.7222\n",
      "  F1-score : 0.7054\n",
      "    Class 0: Precision=0.8286, Recall=0.6667, F1-score=0.7389\n",
      "    Class 1: Precision=0.5915, Recall=0.7778, F1-score=0.6720\n",
      "[19.0900, 76.1300] Epoch 1/5, Loss: 12.0282\n",
      "[19.0900, 76.1300] Epoch 2/5, Loss: 11.7351\n",
      "[19.0900, 76.1300] Epoch 3/5, Loss: 11.1768\n",
      "[19.0900, 76.1300] Epoch 4/5, Loss: 10.6952\n",
      "[19.0900, 76.1300] Epoch 5/5, Loss: 10.2207\n",
      "[19.0900, 76.1300] Epoch 6/5, Loss: 9.9398\n",
      "[19.0900, 76.1300] Epoch 7/5, Loss: 9.2561\n",
      "[19.0900, 76.1300] Epoch 8/5, Loss: 9.4297\n",
      "[19.0900, 76.1300] Epoch 9/5, Loss: 8.8886\n",
      "[19.0900, 76.1300] Epoch 10/5, Loss: 8.2815\n",
      "[19.0900, 76.1300] Epoch 11/5, Loss: 7.8694\n",
      "[19.0900, 76.1300] Epoch 12/5, Loss: 7.2793\n",
      "[19.0900, 76.1300] Epoch 13/5, Loss: 7.1050\n",
      "[19.0900, 76.1300] Epoch 14/5, Loss: 6.7780\n",
      "[19.0900, 76.1300] Epoch 15/5, Loss: 6.4881\n",
      "[19.0900, 76.1300] Epoch 16/5, Loss: 6.0422\n",
      "[19.0900, 76.1300] Epoch 17/5, Loss: 5.8386\n",
      "[19.0900, 76.1300] Epoch 18/5, Loss: 5.6761\n",
      "[19.0900, 76.1300] Epoch 19/5, Loss: 4.8706\n"
     ]
    },
    {
     "name": "stderr",
     "output_type": "stream",
     "text": [
      "Stations:  51%|█████     | 111/217 [02:28<02:24,  1.36s/it]"
     ]
    },
    {
     "name": "stdout",
     "output_type": "stream",
     "text": [
      "[19.0900, 76.1300] Epoch 20/5, Loss: 4.2646\n",
      "📍 Station (19.0900, 76.1300)\n",
      "  Accuracy : 0.8593\n",
      "  Precision: 0.5880\n",
      "  Recall   : 0.6909\n",
      "  F1-score : 0.6091\n",
      "    Class 0: Precision=0.9655, Recall=0.8819, F1-score=0.9218\n",
      "    Class 1: Precision=0.2105, Recall=0.5000, F1-score=0.2963\n",
      "[19.3900, 76.2300] Epoch 1/5, Loss: 12.3914\n",
      "[19.3900, 76.2300] Epoch 2/5, Loss: 11.6089\n",
      "[19.3900, 76.2300] Epoch 3/5, Loss: 11.6183\n",
      "[19.3900, 76.2300] Epoch 4/5, Loss: 11.0951\n",
      "[19.3900, 76.2300] Epoch 5/5, Loss: 10.9044\n",
      "[19.3900, 76.2300] Epoch 6/5, Loss: 10.5946\n",
      "[19.3900, 76.2300] Epoch 7/5, Loss: 10.2822\n",
      "[19.3900, 76.2300] Epoch 8/5, Loss: 9.5975\n",
      "[19.3900, 76.2300] Epoch 9/5, Loss: 9.3067\n",
      "[19.3900, 76.2300] Epoch 10/5, Loss: 9.0650\n",
      "[19.3900, 76.2300] Epoch 11/5, Loss: 8.4996\n",
      "[19.3900, 76.2300] Epoch 12/5, Loss: 8.2634\n",
      "[19.3900, 76.2300] Epoch 13/5, Loss: 8.1487\n",
      "[19.3900, 76.2300] Epoch 14/5, Loss: 7.6473\n",
      "[19.3900, 76.2300] Epoch 15/5, Loss: 7.0138\n",
      "[19.3900, 76.2300] Epoch 16/5, Loss: 6.8865\n",
      "[19.3900, 76.2300] Epoch 17/5, Loss: 6.1912\n"
     ]
    },
    {
     "name": "stderr",
     "output_type": "stream",
     "text": [
      "Stations:  52%|█████▏    | 112/217 [02:29<02:24,  1.37s/it]"
     ]
    },
    {
     "name": "stdout",
     "output_type": "stream",
     "text": [
      "[19.3900, 76.2300] Epoch 18/5, Loss: 5.7751\n",
      "[19.3900, 76.2300] Epoch 19/5, Loss: 5.3256\n",
      "[19.3900, 76.2300] Epoch 20/5, Loss: 4.9412\n",
      "📍 Station (19.3900, 76.2300)\n",
      "  Accuracy : 0.8794\n",
      "  Precision: 0.5249\n",
      "  Recall   : 0.5185\n",
      "  F1-score : 0.5203\n",
      "    Class 0: Precision=0.9248, Recall=0.9462, F1-score=0.9354\n",
      "    Class 1: Precision=0.1250, Recall=0.0909, F1-score=0.1053\n",
      "[18.5900, 73.1700] Epoch 1/5, Loss: 12.7028\n",
      "[18.5900, 73.1700] Epoch 2/5, Loss: 11.8479\n",
      "[18.5900, 73.1700] Epoch 3/5, Loss: 11.4111\n",
      "[18.5900, 73.1700] Epoch 4/5, Loss: 11.1153\n",
      "[18.5900, 73.1700] Epoch 5/5, Loss: 10.9120\n",
      "[18.5900, 73.1700] Epoch 6/5, Loss: 10.6724\n",
      "[18.5900, 73.1700] Epoch 7/5, Loss: 10.3881\n",
      "[18.5900, 73.1700] Epoch 8/5, Loss: 10.2326\n",
      "[18.5900, 73.1700] Epoch 9/5, Loss: 9.9337\n",
      "[18.5900, 73.1700] Epoch 10/5, Loss: 9.6794\n",
      "[18.5900, 73.1700] Epoch 11/5, Loss: 9.5545\n",
      "[18.5900, 73.1700] Epoch 12/5, Loss: 9.4297\n",
      "[18.5900, 73.1700] Epoch 13/5, Loss: 9.1988\n",
      "[18.5900, 73.1700] Epoch 14/5, Loss: 8.8880\n",
      "[18.5900, 73.1700] Epoch 15/5, Loss: 8.8109\n",
      "[18.5900, 73.1700] Epoch 16/5, Loss: 8.5658\n",
      "[18.5900, 73.1700] Epoch 17/5, Loss: 8.5407\n",
      "[18.5900, 73.1700] Epoch 18/5, Loss: 8.3117\n"
     ]
    },
    {
     "name": "stderr",
     "output_type": "stream",
     "text": [
      "Stations:  52%|█████▏    | 113/217 [02:31<02:22,  1.37s/it]"
     ]
    },
    {
     "name": "stdout",
     "output_type": "stream",
     "text": [
      "[18.5900, 73.1700] Epoch 19/5, Loss: 8.2414\n",
      "[18.5900, 73.1700] Epoch 20/5, Loss: 7.9464\n",
      "📍 Station (18.5900, 73.1700)\n",
      "  Accuracy : 0.6929\n",
      "  Precision: 0.7325\n",
      "  Recall   : 0.6898\n",
      "  F1-score : 0.6770\n",
      "    Class 0: Precision=0.8250, Recall=0.4783, F1-score=0.6055\n",
      "    Class 1: Precision=0.6400, Recall=0.9014, F1-score=0.7485\n",
      "[18.0800, 73.0700] Epoch 1/5, Loss: 12.0846\n",
      "[18.0800, 73.0700] Epoch 2/5, Loss: 11.2948\n",
      "[18.0800, 73.0700] Epoch 3/5, Loss: 10.8334\n",
      "[18.0800, 73.0700] Epoch 4/5, Loss: 10.4599\n",
      "[18.0800, 73.0700] Epoch 5/5, Loss: 9.9951\n",
      "[18.0800, 73.0700] Epoch 6/5, Loss: 9.9189\n",
      "[18.0800, 73.0700] Epoch 7/5, Loss: 9.5555\n",
      "[18.0800, 73.0700] Epoch 8/5, Loss: 9.3755\n",
      "[18.0800, 73.0700] Epoch 9/5, Loss: 9.1222\n",
      "[18.0800, 73.0700] Epoch 10/5, Loss: 8.7408\n",
      "[18.0800, 73.0700] Epoch 11/5, Loss: 8.5293\n",
      "[18.0800, 73.0700] Epoch 12/5, Loss: 8.2329\n",
      "[18.0800, 73.0700] Epoch 13/5, Loss: 7.8979\n",
      "[18.0800, 73.0700] Epoch 14/5, Loss: 7.7092\n",
      "[18.0800, 73.0700] Epoch 15/5, Loss: 7.5052\n",
      "[18.0800, 73.0700] Epoch 16/5, Loss: 7.1905\n",
      "[18.0800, 73.0700] Epoch 17/5, Loss: 6.9774\n",
      "[18.0800, 73.0700] Epoch 18/5, Loss: 6.8730\n",
      "[18.0800, 73.0700] Epoch 19/5, Loss: 6.6157\n",
      "[18.0800, 73.0700] Epoch 20/5, Loss: 6.6787\n"
     ]
    },
    {
     "name": "stderr",
     "output_type": "stream",
     "text": [
      "Stations:  53%|█████▎    | 114/217 [02:32<02:21,  1.37s/it]"
     ]
    },
    {
     "name": "stdout",
     "output_type": "stream",
     "text": [
      "📍 Station (18.0800, 73.0700)\n",
      "  Accuracy : 0.7021\n",
      "  Precision: 0.6927\n",
      "  Recall   : 0.7137\n",
      "  F1-score : 0.6908\n",
      "    Class 0: Precision=0.8400, Recall=0.6774, F1-score=0.7500\n",
      "    Class 1: Precision=0.5455, Recall=0.7500, F1-score=0.6316\n",
      "[16.4800, 74.3800] Epoch 1/5, Loss: 12.3506\n",
      "[16.4800, 74.3800] Epoch 2/5, Loss: 11.5992\n",
      "[16.4800, 74.3800] Epoch 3/5, Loss: 10.8867\n",
      "[16.4800, 74.3800] Epoch 4/5, Loss: 10.9176\n",
      "[16.4800, 74.3800] Epoch 5/5, Loss: 10.2622\n",
      "[16.4800, 74.3800] Epoch 6/5, Loss: 10.2087\n",
      "[16.4800, 74.3800] Epoch 7/5, Loss: 10.0376\n",
      "[16.4800, 74.3800] Epoch 8/5, Loss: 9.0256\n",
      "[16.4800, 74.3800] Epoch 9/5, Loss: 8.8517\n",
      "[16.4800, 74.3800] Epoch 10/5, Loss: 9.5648\n",
      "[16.4800, 74.3800] Epoch 11/5, Loss: 9.6229\n",
      "[16.4800, 74.3800] Epoch 12/5, Loss: 8.5246\n",
      "[16.4800, 74.3800] Epoch 13/5, Loss: 8.0349\n",
      "[16.4800, 74.3800] Epoch 14/5, Loss: 8.0270\n",
      "[16.4800, 74.3800] Epoch 15/5, Loss: 7.5430\n",
      "[16.4800, 74.3800] Epoch 16/5, Loss: 7.6927\n",
      "[16.4800, 74.3800] Epoch 17/5, Loss: 7.2424\n"
     ]
    },
    {
     "name": "stderr",
     "output_type": "stream",
     "text": [
      "Stations:  53%|█████▎    | 115/217 [02:33<02:20,  1.38s/it]"
     ]
    },
    {
     "name": "stdout",
     "output_type": "stream",
     "text": [
      "[16.4800, 74.3800] Epoch 18/5, Loss: 7.4089\n",
      "[16.4800, 74.3800] Epoch 19/5, Loss: 7.1957\n",
      "[16.4800, 74.3800] Epoch 20/5, Loss: 6.1553\n",
      "📍 Station (16.4800, 74.3800)\n",
      "  Accuracy : 0.9781\n",
      "  Precision: 0.4891\n",
      "  Recall   : 0.5000\n",
      "  F1-score : 0.4945\n",
      "    Class 0: Precision=0.9781, Recall=1.0000, F1-score=0.9889\n",
      "    Class 1: Precision=0.0000, Recall=0.0000, F1-score=0.0000\n",
      "[17.4900, 75.4000] Epoch 1/5, Loss: 12.9792\n",
      "[17.4900, 75.4000] Epoch 2/5, Loss: 12.5608\n",
      "[17.4900, 75.4000] Epoch 3/5, Loss: 11.8961\n",
      "[17.4900, 75.4000] Epoch 4/5, Loss: 11.1730\n",
      "[17.4900, 75.4000] Epoch 5/5, Loss: 10.9542\n",
      "[17.4900, 75.4000] Epoch 6/5, Loss: 10.8042\n",
      "[17.4900, 75.4000] Epoch 7/5, Loss: 10.4730\n",
      "[17.4900, 75.4000] Epoch 8/5, Loss: 10.0014\n",
      "[17.4900, 75.4000] Epoch 9/5, Loss: 9.9951\n",
      "[17.4900, 75.4000] Epoch 10/5, Loss: 9.6187\n",
      "[17.4900, 75.4000] Epoch 11/5, Loss: 9.2837\n",
      "[17.4900, 75.4000] Epoch 12/5, Loss: 9.1244\n",
      "[17.4900, 75.4000] Epoch 13/5, Loss: 8.7884\n",
      "[17.4900, 75.4000] Epoch 14/5, Loss: 8.3923\n",
      "[17.4900, 75.4000] Epoch 15/5, Loss: 8.1102\n",
      "[17.4900, 75.4000] Epoch 16/5, Loss: 8.0683\n",
      "[17.4900, 75.4000] Epoch 17/5, Loss: 7.7209\n",
      "[17.4900, 75.4000] Epoch 18/5, Loss: 7.2901\n",
      "[17.4900, 75.4000] Epoch 19/5, Loss: 6.8087\n"
     ]
    },
    {
     "name": "stderr",
     "output_type": "stream",
     "text": [
      "Stations:  53%|█████▎    | 116/217 [02:35<02:18,  1.38s/it]"
     ]
    },
    {
     "name": "stdout",
     "output_type": "stream",
     "text": [
      "[17.4900, 75.4000] Epoch 20/5, Loss: 7.0244\n",
      "📍 Station (17.4900, 75.4000)\n",
      "  Accuracy : 0.9562\n",
      "  Precision: 0.4816\n",
      "  Recall   : 0.4962\n",
      "  F1-score : 0.4888\n",
      "    Class 0: Precision=0.9632, Recall=0.9924, F1-score=0.9776\n",
      "    Class 1: Precision=0.0000, Recall=0.0000, F1-score=0.0000\n",
      "[19.5600, 73.2000] Epoch 1/5, Loss: 12.1971\n",
      "[19.5600, 73.2000] Epoch 2/5, Loss: 11.6353\n",
      "[19.5600, 73.2000] Epoch 3/5, Loss: 11.5141\n",
      "[19.5600, 73.2000] Epoch 4/5, Loss: 11.0258\n",
      "[19.5600, 73.2000] Epoch 5/5, Loss: 10.7287\n",
      "[19.5600, 73.2000] Epoch 6/5, Loss: 10.4436\n",
      "[19.5600, 73.2000] Epoch 7/5, Loss: 10.1477\n",
      "[19.5600, 73.2000] Epoch 8/5, Loss: 9.9891\n",
      "[19.5600, 73.2000] Epoch 9/5, Loss: 9.7681\n",
      "[19.5600, 73.2000] Epoch 10/5, Loss: 9.4914\n",
      "[19.5600, 73.2000] Epoch 11/5, Loss: 9.2805\n",
      "[19.5600, 73.2000] Epoch 12/5, Loss: 9.0496\n",
      "[19.5600, 73.2000] Epoch 13/5, Loss: 8.8974\n",
      "[19.5600, 73.2000] Epoch 14/5, Loss: 8.5965\n",
      "[19.5600, 73.2000] Epoch 15/5, Loss: 8.5145\n",
      "[19.5600, 73.2000] Epoch 16/5, Loss: 8.1053\n",
      "[19.5600, 73.2000] Epoch 17/5, Loss: 8.0734\n"
     ]
    },
    {
     "name": "stderr",
     "output_type": "stream",
     "text": [
      "Stations:  54%|█████▍    | 117/217 [02:36<02:18,  1.39s/it]"
     ]
    },
    {
     "name": "stdout",
     "output_type": "stream",
     "text": [
      "[19.5600, 73.2000] Epoch 18/5, Loss: 7.8569\n",
      "[19.5600, 73.2000] Epoch 19/5, Loss: 7.6845\n",
      "[19.5600, 73.2000] Epoch 20/5, Loss: 7.5366\n",
      "📍 Station (19.5600, 73.2000)\n",
      "  Accuracy : 0.6857\n",
      "  Precision: 0.6562\n",
      "  Recall   : 0.6935\n",
      "  F1-score : 0.6546\n",
      "    Class 0: Precision=0.8625, Recall=0.6765, F1-score=0.7582\n",
      "    Class 1: Precision=0.4500, Recall=0.7105, F1-score=0.5510\n",
      "[19.0800, 77.2900] Epoch 1/5, Loss: 12.5044\n",
      "[19.0800, 77.2900] Epoch 2/5, Loss: 11.9852\n",
      "[19.0800, 77.2900] Epoch 3/5, Loss: 11.6964\n",
      "[19.0800, 77.2900] Epoch 4/5, Loss: 11.4202\n",
      "[19.0800, 77.2900] Epoch 5/5, Loss: 10.9160\n",
      "[19.0800, 77.2900] Epoch 6/5, Loss: 10.8469\n",
      "[19.0800, 77.2900] Epoch 7/5, Loss: 10.4102\n",
      "[19.0800, 77.2900] Epoch 8/5, Loss: 10.1545\n",
      "[19.0800, 77.2900] Epoch 9/5, Loss: 9.9403\n",
      "[19.0800, 77.2900] Epoch 10/5, Loss: 9.3390\n",
      "[19.0800, 77.2900] Epoch 11/5, Loss: 9.1321\n",
      "[19.0800, 77.2900] Epoch 12/5, Loss: 8.8589\n",
      "[19.0800, 77.2900] Epoch 13/5, Loss: 8.3463\n",
      "[19.0800, 77.2900] Epoch 14/5, Loss: 8.2001\n",
      "[19.0800, 77.2900] Epoch 15/5, Loss: 7.8848\n",
      "[19.0800, 77.2900] Epoch 16/5, Loss: 7.3138\n",
      "[19.0800, 77.2900] Epoch 17/5, Loss: 7.2477\n",
      "[19.0800, 77.2900] Epoch 18/5, Loss: 6.8047\n",
      "[19.0800, 77.2900] Epoch 19/5, Loss: 6.2358\n"
     ]
    },
    {
     "name": "stderr",
     "output_type": "stream",
     "text": [
      "Stations:  54%|█████▍    | 118/217 [02:37<02:17,  1.38s/it]"
     ]
    },
    {
     "name": "stdout",
     "output_type": "stream",
     "text": [
      "[19.0800, 77.2900] Epoch 20/5, Loss: 6.0792\n",
      "📍 Station (19.0800, 77.2900)\n",
      "  Accuracy : 0.8116\n",
      "  Precision: 0.5568\n",
      "  Recall   : 0.5858\n",
      "  F1-score : 0.5639\n",
      "    Class 0: Precision=0.9231, Recall=0.8640, F1-score=0.8926\n",
      "    Class 1: Precision=0.1905, Recall=0.3077, F1-score=0.2353\n",
      "[21.0400, 76.0400] Epoch 1/5, Loss: 12.6442\n",
      "[21.0400, 76.0400] Epoch 2/5, Loss: 12.3031\n",
      "[21.0400, 76.0400] Epoch 3/5, Loss: 11.9667\n",
      "[21.0400, 76.0400] Epoch 4/5, Loss: 11.4849\n",
      "[21.0400, 76.0400] Epoch 5/5, Loss: 11.4170\n",
      "[21.0400, 76.0400] Epoch 6/5, Loss: 10.8259\n",
      "[21.0400, 76.0400] Epoch 7/5, Loss: 10.3119\n",
      "[21.0400, 76.0400] Epoch 8/5, Loss: 9.9812\n",
      "[21.0400, 76.0400] Epoch 9/5, Loss: 10.3309\n",
      "[21.0400, 76.0400] Epoch 10/5, Loss: 9.6045\n",
      "[21.0400, 76.0400] Epoch 11/5, Loss: 9.3475\n",
      "[21.0400, 76.0400] Epoch 12/5, Loss: 8.7093\n",
      "[21.0400, 76.0400] Epoch 13/5, Loss: 9.1947\n",
      "[21.0400, 76.0400] Epoch 14/5, Loss: 8.8554\n",
      "[21.0400, 76.0400] Epoch 15/5, Loss: 8.2182\n",
      "[21.0400, 76.0400] Epoch 16/5, Loss: 8.2974\n",
      "[21.0400, 76.0400] Epoch 17/5, Loss: 7.7719\n",
      "[21.0400, 76.0400] Epoch 18/5, Loss: 7.7461\n",
      "[21.0400, 76.0400] Epoch 19/5, Loss: 7.3844\n"
     ]
    },
    {
     "name": "stderr",
     "output_type": "stream",
     "text": [
      "Stations:  55%|█████▍    | 119/217 [02:39<02:17,  1.40s/it]"
     ]
    },
    {
     "name": "stdout",
     "output_type": "stream",
     "text": [
      "[21.0400, 76.0400] Epoch 20/5, Loss: 6.7327\n",
      "📍 Station (21.0400, 76.0400)\n",
      "  Accuracy : 0.9130\n",
      "  Precision: 0.4632\n",
      "  Recall   : 0.4922\n",
      "  F1-score : 0.4773\n",
      "    Class 0: Precision=0.9265, Recall=0.9844, F1-score=0.9545\n",
      "    Class 1: Precision=0.0000, Recall=0.0000, F1-score=0.0000\n",
      "[19.1400, 73.2400] Epoch 1/5, Loss: 12.2136\n",
      "[19.1400, 73.2400] Epoch 2/5, Loss: 11.9068\n",
      "[19.1400, 73.2400] Epoch 3/5, Loss: 11.4753\n",
      "[19.1400, 73.2400] Epoch 4/5, Loss: 10.9679\n",
      "[19.1400, 73.2400] Epoch 5/5, Loss: 10.5475\n",
      "[19.1400, 73.2400] Epoch 6/5, Loss: 10.2931\n",
      "[19.1400, 73.2400] Epoch 7/5, Loss: 10.0724\n",
      "[19.1400, 73.2400] Epoch 8/5, Loss: 9.8999\n",
      "[19.1400, 73.2400] Epoch 9/5, Loss: 9.6887\n",
      "[19.1400, 73.2400] Epoch 10/5, Loss: 9.4676\n",
      "[19.1400, 73.2400] Epoch 11/5, Loss: 9.2381\n",
      "[19.1400, 73.2400] Epoch 12/5, Loss: 9.1090\n",
      "[19.1400, 73.2400] Epoch 13/5, Loss: 9.0788\n",
      "[19.1400, 73.2400] Epoch 14/5, Loss: 8.8723\n",
      "[19.1400, 73.2400] Epoch 15/5, Loss: 8.5593\n",
      "[19.1400, 73.2400] Epoch 16/5, Loss: 8.4273\n",
      "[19.1400, 73.2400] Epoch 17/5, Loss: 8.3207\n"
     ]
    },
    {
     "name": "stderr",
     "output_type": "stream",
     "text": [
      "Stations:  55%|█████▌    | 120/217 [02:40<02:15,  1.39s/it]"
     ]
    },
    {
     "name": "stdout",
     "output_type": "stream",
     "text": [
      "[19.1400, 73.2400] Epoch 18/5, Loss: 8.0964\n",
      "[19.1400, 73.2400] Epoch 19/5, Loss: 8.1675\n",
      "[19.1400, 73.2400] Epoch 20/5, Loss: 7.9985\n",
      "📍 Station (19.1400, 73.2400)\n",
      "  Accuracy : 0.7357\n",
      "  Precision: 0.6917\n",
      "  Recall   : 0.7175\n",
      "  F1-score : 0.6988\n",
      "    Class 0: Precision=0.8539, Recall=0.7600, F1-score=0.8042\n",
      "    Class 1: Precision=0.5294, Recall=0.6750, F1-score=0.5934\n",
      "[18.1900, 72.5800] Epoch 1/5, Loss: 12.4649\n",
      "[18.1900, 72.5800] Epoch 2/5, Loss: 12.0387\n",
      "[18.1900, 72.5800] Epoch 3/5, Loss: 11.6731\n",
      "[18.1900, 72.5800] Epoch 4/5, Loss: 11.3365\n",
      "[18.1900, 72.5800] Epoch 5/5, Loss: 10.9914\n",
      "[18.1900, 72.5800] Epoch 6/5, Loss: 10.8492\n",
      "[18.1900, 72.5800] Epoch 7/5, Loss: 10.2864\n",
      "[18.1900, 72.5800] Epoch 8/5, Loss: 10.0956\n",
      "[18.1900, 72.5800] Epoch 9/5, Loss: 9.9950\n",
      "[18.1900, 72.5800] Epoch 10/5, Loss: 9.7196\n",
      "[18.1900, 72.5800] Epoch 11/5, Loss: 9.4422\n",
      "[18.1900, 72.5800] Epoch 12/5, Loss: 9.2601\n",
      "[18.1900, 72.5800] Epoch 13/5, Loss: 9.0092\n",
      "[18.1900, 72.5800] Epoch 14/5, Loss: 8.8585\n",
      "[18.1900, 72.5800] Epoch 15/5, Loss: 8.5518\n",
      "[18.1900, 72.5800] Epoch 16/5, Loss: 8.5525\n"
     ]
    },
    {
     "name": "stderr",
     "output_type": "stream",
     "text": [
      "Stations:  56%|█████▌    | 121/217 [02:42<02:12,  1.38s/it]"
     ]
    },
    {
     "name": "stdout",
     "output_type": "stream",
     "text": [
      "[18.1900, 72.5800] Epoch 17/5, Loss: 8.1547\n",
      "[18.1900, 72.5800] Epoch 18/5, Loss: 7.8342\n",
      "[18.1900, 72.5800] Epoch 19/5, Loss: 7.7360\n",
      "[18.1900, 72.5800] Epoch 20/5, Loss: 7.6392\n",
      "📍 Station (18.1900, 72.5800)\n",
      "  Accuracy : 0.6738\n",
      "  Precision: 0.6617\n",
      "  Recall   : 0.7160\n",
      "  F1-score : 0.6467\n",
      "    Class 0: Precision=0.9054, Recall=0.6321, F1-score=0.7444\n",
      "    Class 1: Precision=0.4179, Recall=0.8000, F1-score=0.5490\n",
      "[18.5000, 77.3100] Epoch 1/5, Loss: 12.8228\n",
      "[18.5000, 77.3100] Epoch 2/5, Loss: 11.9606\n",
      "[18.5000, 77.3100] Epoch 3/5, Loss: 11.7390\n",
      "[18.5000, 77.3100] Epoch 4/5, Loss: 11.5271\n",
      "[18.5000, 77.3100] Epoch 5/5, Loss: 10.7699\n",
      "[18.5000, 77.3100] Epoch 6/5, Loss: 10.7376\n",
      "[18.5000, 77.3100] Epoch 7/5, Loss: 10.3602\n",
      "[18.5000, 77.3100] Epoch 8/5, Loss: 9.8848\n",
      "[18.5000, 77.3100] Epoch 9/5, Loss: 9.5593\n",
      "[18.5000, 77.3100] Epoch 10/5, Loss: 9.1974\n",
      "[18.5000, 77.3100] Epoch 11/5, Loss: 8.9282\n",
      "[18.5000, 77.3100] Epoch 12/5, Loss: 8.3782\n",
      "[18.5000, 77.3100] Epoch 13/5, Loss: 8.3283\n",
      "[18.5000, 77.3100] Epoch 14/5, Loss: 7.9758\n",
      "[18.5000, 77.3100] Epoch 15/5, Loss: 7.4519\n",
      "[18.5000, 77.3100] Epoch 16/5, Loss: 7.0950\n",
      "[18.5000, 77.3100] Epoch 17/5, Loss: 6.9714\n",
      "[18.5000, 77.3100] Epoch 18/5, Loss: 6.2776\n",
      "[18.5000, 77.3100] Epoch 19/5, Loss: 5.9663\n"
     ]
    },
    {
     "name": "stderr",
     "output_type": "stream",
     "text": [
      "Stations:  56%|█████▌    | 122/217 [02:43<02:07,  1.34s/it]"
     ]
    },
    {
     "name": "stdout",
     "output_type": "stream",
     "text": [
      "[18.5000, 77.3100] Epoch 20/5, Loss: 5.7052\n",
      "📍 Station (18.5000, 77.3100)\n",
      "  Accuracy : 0.8777\n",
      "  Precision: 0.6466\n",
      "  Recall   : 0.6566\n",
      "  F1-score : 0.6513\n",
      "    Class 0: Precision=0.9360, Recall=0.9286, F1-score=0.9323\n",
      "    Class 1: Precision=0.3571, Recall=0.3846, F1-score=0.3704\n"
     ]
    },
    {
     "name": "stderr",
     "output_type": "stream",
     "text": [
      "\n"
     ]
    },
    {
     "ename": "ValueError",
     "evalue": "Expected more than 1 value per channel when training, got input size torch.Size([1, 32, 1])",
     "output_type": "error",
     "traceback": [
      "\u001b[31m---------------------------------------------------------------------------\u001b[39m",
      "\u001b[31mValueError\u001b[39m                                Traceback (most recent call last)",
      "\u001b[36mCell\u001b[39m\u001b[36m \u001b[39m\u001b[32mIn[14]\u001b[39m\u001b[32m, line 51\u001b[39m\n\u001b[32m     49\u001b[39m epoch_loss = \u001b[32m0.0\u001b[39m\n\u001b[32m     50\u001b[39m \u001b[38;5;28;01mfor\u001b[39;00m xb, yb \u001b[38;5;129;01min\u001b[39;00m train_loader:\n\u001b[32m---> \u001b[39m\u001b[32m51\u001b[39m     outputs = \u001b[43mmodel\u001b[49m\u001b[43m(\u001b[49m\u001b[43mxb\u001b[49m\u001b[43m)\u001b[49m\n\u001b[32m     53\u001b[39m     \u001b[38;5;66;03m# NaN check\u001b[39;00m\n\u001b[32m     54\u001b[39m     \u001b[38;5;28;01mif\u001b[39;00m torch.isnan(outputs).any():\n",
      "\u001b[36mFile \u001b[39m\u001b[32m~/Desktop/MH/.venv/lib/python3.12/site-packages/torch/nn/modules/module.py:1751\u001b[39m, in \u001b[36mModule._wrapped_call_impl\u001b[39m\u001b[34m(self, *args, **kwargs)\u001b[39m\n\u001b[32m   1749\u001b[39m     \u001b[38;5;28;01mreturn\u001b[39;00m \u001b[38;5;28mself\u001b[39m._compiled_call_impl(*args, **kwargs)  \u001b[38;5;66;03m# type: ignore[misc]\u001b[39;00m\n\u001b[32m   1750\u001b[39m \u001b[38;5;28;01melse\u001b[39;00m:\n\u001b[32m-> \u001b[39m\u001b[32m1751\u001b[39m     \u001b[38;5;28;01mreturn\u001b[39;00m \u001b[38;5;28;43mself\u001b[39;49m\u001b[43m.\u001b[49m\u001b[43m_call_impl\u001b[49m\u001b[43m(\u001b[49m\u001b[43m*\u001b[49m\u001b[43margs\u001b[49m\u001b[43m,\u001b[49m\u001b[43m \u001b[49m\u001b[43m*\u001b[49m\u001b[43m*\u001b[49m\u001b[43mkwargs\u001b[49m\u001b[43m)\u001b[49m\n",
      "\u001b[36mFile \u001b[39m\u001b[32m~/Desktop/MH/.venv/lib/python3.12/site-packages/torch/nn/modules/module.py:1762\u001b[39m, in \u001b[36mModule._call_impl\u001b[39m\u001b[34m(self, *args, **kwargs)\u001b[39m\n\u001b[32m   1757\u001b[39m \u001b[38;5;66;03m# If we don't have any hooks, we want to skip the rest of the logic in\u001b[39;00m\n\u001b[32m   1758\u001b[39m \u001b[38;5;66;03m# this function, and just call forward.\u001b[39;00m\n\u001b[32m   1759\u001b[39m \u001b[38;5;28;01mif\u001b[39;00m \u001b[38;5;129;01mnot\u001b[39;00m (\u001b[38;5;28mself\u001b[39m._backward_hooks \u001b[38;5;129;01mor\u001b[39;00m \u001b[38;5;28mself\u001b[39m._backward_pre_hooks \u001b[38;5;129;01mor\u001b[39;00m \u001b[38;5;28mself\u001b[39m._forward_hooks \u001b[38;5;129;01mor\u001b[39;00m \u001b[38;5;28mself\u001b[39m._forward_pre_hooks\n\u001b[32m   1760\u001b[39m         \u001b[38;5;129;01mor\u001b[39;00m _global_backward_pre_hooks \u001b[38;5;129;01mor\u001b[39;00m _global_backward_hooks\n\u001b[32m   1761\u001b[39m         \u001b[38;5;129;01mor\u001b[39;00m _global_forward_hooks \u001b[38;5;129;01mor\u001b[39;00m _global_forward_pre_hooks):\n\u001b[32m-> \u001b[39m\u001b[32m1762\u001b[39m     \u001b[38;5;28;01mreturn\u001b[39;00m \u001b[43mforward_call\u001b[49m\u001b[43m(\u001b[49m\u001b[43m*\u001b[49m\u001b[43margs\u001b[49m\u001b[43m,\u001b[49m\u001b[43m \u001b[49m\u001b[43m*\u001b[49m\u001b[43m*\u001b[49m\u001b[43mkwargs\u001b[49m\u001b[43m)\u001b[49m\n\u001b[32m   1764\u001b[39m result = \u001b[38;5;28;01mNone\u001b[39;00m\n\u001b[32m   1765\u001b[39m called_always_called_hooks = \u001b[38;5;28mset\u001b[39m()\n",
      "\u001b[36mCell\u001b[39m\u001b[36m \u001b[39m\u001b[32mIn[13]\u001b[39m\u001b[32m, line 29\u001b[39m, in \u001b[36mCNN.forward\u001b[39m\u001b[34m(self, x)\u001b[39m\n\u001b[32m     28\u001b[39m \u001b[38;5;28;01mdef\u001b[39;00m\u001b[38;5;250m \u001b[39m\u001b[34mforward\u001b[39m(\u001b[38;5;28mself\u001b[39m, x):\n\u001b[32m---> \u001b[39m\u001b[32m29\u001b[39m     \u001b[38;5;28;01mreturn\u001b[39;00m \u001b[38;5;28;43mself\u001b[39;49m\u001b[43m.\u001b[49m\u001b[43mmodel\u001b[49m\u001b[43m(\u001b[49m\u001b[43mx\u001b[49m\u001b[43m)\u001b[49m\n",
      "\u001b[36mFile \u001b[39m\u001b[32m~/Desktop/MH/.venv/lib/python3.12/site-packages/torch/nn/modules/module.py:1751\u001b[39m, in \u001b[36mModule._wrapped_call_impl\u001b[39m\u001b[34m(self, *args, **kwargs)\u001b[39m\n\u001b[32m   1749\u001b[39m     \u001b[38;5;28;01mreturn\u001b[39;00m \u001b[38;5;28mself\u001b[39m._compiled_call_impl(*args, **kwargs)  \u001b[38;5;66;03m# type: ignore[misc]\u001b[39;00m\n\u001b[32m   1750\u001b[39m \u001b[38;5;28;01melse\u001b[39;00m:\n\u001b[32m-> \u001b[39m\u001b[32m1751\u001b[39m     \u001b[38;5;28;01mreturn\u001b[39;00m \u001b[38;5;28;43mself\u001b[39;49m\u001b[43m.\u001b[49m\u001b[43m_call_impl\u001b[49m\u001b[43m(\u001b[49m\u001b[43m*\u001b[49m\u001b[43margs\u001b[49m\u001b[43m,\u001b[49m\u001b[43m \u001b[49m\u001b[43m*\u001b[49m\u001b[43m*\u001b[49m\u001b[43mkwargs\u001b[49m\u001b[43m)\u001b[49m\n",
      "\u001b[36mFile \u001b[39m\u001b[32m~/Desktop/MH/.venv/lib/python3.12/site-packages/torch/nn/modules/module.py:1762\u001b[39m, in \u001b[36mModule._call_impl\u001b[39m\u001b[34m(self, *args, **kwargs)\u001b[39m\n\u001b[32m   1757\u001b[39m \u001b[38;5;66;03m# If we don't have any hooks, we want to skip the rest of the logic in\u001b[39;00m\n\u001b[32m   1758\u001b[39m \u001b[38;5;66;03m# this function, and just call forward.\u001b[39;00m\n\u001b[32m   1759\u001b[39m \u001b[38;5;28;01mif\u001b[39;00m \u001b[38;5;129;01mnot\u001b[39;00m (\u001b[38;5;28mself\u001b[39m._backward_hooks \u001b[38;5;129;01mor\u001b[39;00m \u001b[38;5;28mself\u001b[39m._backward_pre_hooks \u001b[38;5;129;01mor\u001b[39;00m \u001b[38;5;28mself\u001b[39m._forward_hooks \u001b[38;5;129;01mor\u001b[39;00m \u001b[38;5;28mself\u001b[39m._forward_pre_hooks\n\u001b[32m   1760\u001b[39m         \u001b[38;5;129;01mor\u001b[39;00m _global_backward_pre_hooks \u001b[38;5;129;01mor\u001b[39;00m _global_backward_hooks\n\u001b[32m   1761\u001b[39m         \u001b[38;5;129;01mor\u001b[39;00m _global_forward_hooks \u001b[38;5;129;01mor\u001b[39;00m _global_forward_pre_hooks):\n\u001b[32m-> \u001b[39m\u001b[32m1762\u001b[39m     \u001b[38;5;28;01mreturn\u001b[39;00m \u001b[43mforward_call\u001b[49m\u001b[43m(\u001b[49m\u001b[43m*\u001b[49m\u001b[43margs\u001b[49m\u001b[43m,\u001b[49m\u001b[43m \u001b[49m\u001b[43m*\u001b[49m\u001b[43m*\u001b[49m\u001b[43mkwargs\u001b[49m\u001b[43m)\u001b[49m\n\u001b[32m   1764\u001b[39m result = \u001b[38;5;28;01mNone\u001b[39;00m\n\u001b[32m   1765\u001b[39m called_always_called_hooks = \u001b[38;5;28mset\u001b[39m()\n",
      "\u001b[36mFile \u001b[39m\u001b[32m~/Desktop/MH/.venv/lib/python3.12/site-packages/torch/nn/modules/container.py:240\u001b[39m, in \u001b[36mSequential.forward\u001b[39m\u001b[34m(self, input)\u001b[39m\n\u001b[32m    238\u001b[39m \u001b[38;5;28;01mdef\u001b[39;00m\u001b[38;5;250m \u001b[39m\u001b[34mforward\u001b[39m(\u001b[38;5;28mself\u001b[39m, \u001b[38;5;28minput\u001b[39m):\n\u001b[32m    239\u001b[39m     \u001b[38;5;28;01mfor\u001b[39;00m module \u001b[38;5;129;01min\u001b[39;00m \u001b[38;5;28mself\u001b[39m:\n\u001b[32m--> \u001b[39m\u001b[32m240\u001b[39m         \u001b[38;5;28minput\u001b[39m = \u001b[43mmodule\u001b[49m\u001b[43m(\u001b[49m\u001b[38;5;28;43minput\u001b[39;49m\u001b[43m)\u001b[49m\n\u001b[32m    241\u001b[39m     \u001b[38;5;28;01mreturn\u001b[39;00m \u001b[38;5;28minput\u001b[39m\n",
      "\u001b[36mFile \u001b[39m\u001b[32m~/Desktop/MH/.venv/lib/python3.12/site-packages/torch/nn/modules/module.py:1751\u001b[39m, in \u001b[36mModule._wrapped_call_impl\u001b[39m\u001b[34m(self, *args, **kwargs)\u001b[39m\n\u001b[32m   1749\u001b[39m     \u001b[38;5;28;01mreturn\u001b[39;00m \u001b[38;5;28mself\u001b[39m._compiled_call_impl(*args, **kwargs)  \u001b[38;5;66;03m# type: ignore[misc]\u001b[39;00m\n\u001b[32m   1750\u001b[39m \u001b[38;5;28;01melse\u001b[39;00m:\n\u001b[32m-> \u001b[39m\u001b[32m1751\u001b[39m     \u001b[38;5;28;01mreturn\u001b[39;00m \u001b[38;5;28;43mself\u001b[39;49m\u001b[43m.\u001b[49m\u001b[43m_call_impl\u001b[49m\u001b[43m(\u001b[49m\u001b[43m*\u001b[49m\u001b[43margs\u001b[49m\u001b[43m,\u001b[49m\u001b[43m \u001b[49m\u001b[43m*\u001b[49m\u001b[43m*\u001b[49m\u001b[43mkwargs\u001b[49m\u001b[43m)\u001b[49m\n",
      "\u001b[36mFile \u001b[39m\u001b[32m~/Desktop/MH/.venv/lib/python3.12/site-packages/torch/nn/modules/module.py:1762\u001b[39m, in \u001b[36mModule._call_impl\u001b[39m\u001b[34m(self, *args, **kwargs)\u001b[39m\n\u001b[32m   1757\u001b[39m \u001b[38;5;66;03m# If we don't have any hooks, we want to skip the rest of the logic in\u001b[39;00m\n\u001b[32m   1758\u001b[39m \u001b[38;5;66;03m# this function, and just call forward.\u001b[39;00m\n\u001b[32m   1759\u001b[39m \u001b[38;5;28;01mif\u001b[39;00m \u001b[38;5;129;01mnot\u001b[39;00m (\u001b[38;5;28mself\u001b[39m._backward_hooks \u001b[38;5;129;01mor\u001b[39;00m \u001b[38;5;28mself\u001b[39m._backward_pre_hooks \u001b[38;5;129;01mor\u001b[39;00m \u001b[38;5;28mself\u001b[39m._forward_hooks \u001b[38;5;129;01mor\u001b[39;00m \u001b[38;5;28mself\u001b[39m._forward_pre_hooks\n\u001b[32m   1760\u001b[39m         \u001b[38;5;129;01mor\u001b[39;00m _global_backward_pre_hooks \u001b[38;5;129;01mor\u001b[39;00m _global_backward_hooks\n\u001b[32m   1761\u001b[39m         \u001b[38;5;129;01mor\u001b[39;00m _global_forward_hooks \u001b[38;5;129;01mor\u001b[39;00m _global_forward_pre_hooks):\n\u001b[32m-> \u001b[39m\u001b[32m1762\u001b[39m     \u001b[38;5;28;01mreturn\u001b[39;00m \u001b[43mforward_call\u001b[49m\u001b[43m(\u001b[49m\u001b[43m*\u001b[49m\u001b[43margs\u001b[49m\u001b[43m,\u001b[49m\u001b[43m \u001b[49m\u001b[43m*\u001b[49m\u001b[43m*\u001b[49m\u001b[43mkwargs\u001b[49m\u001b[43m)\u001b[49m\n\u001b[32m   1764\u001b[39m result = \u001b[38;5;28;01mNone\u001b[39;00m\n\u001b[32m   1765\u001b[39m called_always_called_hooks = \u001b[38;5;28mset\u001b[39m()\n",
      "\u001b[36mFile \u001b[39m\u001b[32m~/Desktop/MH/.venv/lib/python3.12/site-packages/torch/nn/modules/batchnorm.py:193\u001b[39m, in \u001b[36m_BatchNorm.forward\u001b[39m\u001b[34m(self, input)\u001b[39m\n\u001b[32m    186\u001b[39m     bn_training = (\u001b[38;5;28mself\u001b[39m.running_mean \u001b[38;5;129;01mis\u001b[39;00m \u001b[38;5;28;01mNone\u001b[39;00m) \u001b[38;5;129;01mand\u001b[39;00m (\u001b[38;5;28mself\u001b[39m.running_var \u001b[38;5;129;01mis\u001b[39;00m \u001b[38;5;28;01mNone\u001b[39;00m)\n\u001b[32m    188\u001b[39m \u001b[38;5;250m\u001b[39m\u001b[33mr\u001b[39m\u001b[33;03m\"\"\"\u001b[39;00m\n\u001b[32m    189\u001b[39m \u001b[33;03mBuffers are only updated if they are to be tracked and we are in training mode. Thus they only need to be\u001b[39;00m\n\u001b[32m    190\u001b[39m \u001b[33;03mpassed when the update should occur (i.e. in training mode when they are tracked), or when buffer stats are\u001b[39;00m\n\u001b[32m    191\u001b[39m \u001b[33;03mused for normalization (i.e. in eval mode when buffers are not None).\u001b[39;00m\n\u001b[32m    192\u001b[39m \u001b[33;03m\"\"\"\u001b[39;00m\n\u001b[32m--> \u001b[39m\u001b[32m193\u001b[39m \u001b[38;5;28;01mreturn\u001b[39;00m \u001b[43mF\u001b[49m\u001b[43m.\u001b[49m\u001b[43mbatch_norm\u001b[49m\u001b[43m(\u001b[49m\n\u001b[32m    194\u001b[39m \u001b[43m    \u001b[49m\u001b[38;5;28;43minput\u001b[39;49m\u001b[43m,\u001b[49m\n\u001b[32m    195\u001b[39m \u001b[43m    \u001b[49m\u001b[38;5;66;43;03m# If buffers are not to be tracked, ensure that they won't be updated\u001b[39;49;00m\n\u001b[32m    196\u001b[39m \u001b[43m    \u001b[49m\u001b[38;5;28;43mself\u001b[39;49m\u001b[43m.\u001b[49m\u001b[43mrunning_mean\u001b[49m\n\u001b[32m    197\u001b[39m \u001b[43m    \u001b[49m\u001b[38;5;28;43;01mif\u001b[39;49;00m\u001b[43m \u001b[49m\u001b[38;5;129;43;01mnot\u001b[39;49;00m\u001b[43m \u001b[49m\u001b[38;5;28;43mself\u001b[39;49m\u001b[43m.\u001b[49m\u001b[43mtraining\u001b[49m\u001b[43m \u001b[49m\u001b[38;5;129;43;01mor\u001b[39;49;00m\u001b[43m \u001b[49m\u001b[38;5;28;43mself\u001b[39;49m\u001b[43m.\u001b[49m\u001b[43mtrack_running_stats\u001b[49m\n\u001b[32m    198\u001b[39m \u001b[43m    \u001b[49m\u001b[38;5;28;43;01melse\u001b[39;49;00m\u001b[43m \u001b[49m\u001b[38;5;28;43;01mNone\u001b[39;49;00m\u001b[43m,\u001b[49m\n\u001b[32m    199\u001b[39m \u001b[43m    \u001b[49m\u001b[38;5;28;43mself\u001b[39;49m\u001b[43m.\u001b[49m\u001b[43mrunning_var\u001b[49m\u001b[43m \u001b[49m\u001b[38;5;28;43;01mif\u001b[39;49;00m\u001b[43m \u001b[49m\u001b[38;5;129;43;01mnot\u001b[39;49;00m\u001b[43m \u001b[49m\u001b[38;5;28;43mself\u001b[39;49m\u001b[43m.\u001b[49m\u001b[43mtraining\u001b[49m\u001b[43m \u001b[49m\u001b[38;5;129;43;01mor\u001b[39;49;00m\u001b[43m \u001b[49m\u001b[38;5;28;43mself\u001b[39;49m\u001b[43m.\u001b[49m\u001b[43mtrack_running_stats\u001b[49m\u001b[43m \u001b[49m\u001b[38;5;28;43;01melse\u001b[39;49;00m\u001b[43m \u001b[49m\u001b[38;5;28;43;01mNone\u001b[39;49;00m\u001b[43m,\u001b[49m\n\u001b[32m    200\u001b[39m \u001b[43m    \u001b[49m\u001b[38;5;28;43mself\u001b[39;49m\u001b[43m.\u001b[49m\u001b[43mweight\u001b[49m\u001b[43m,\u001b[49m\n\u001b[32m    201\u001b[39m \u001b[43m    \u001b[49m\u001b[38;5;28;43mself\u001b[39;49m\u001b[43m.\u001b[49m\u001b[43mbias\u001b[49m\u001b[43m,\u001b[49m\n\u001b[32m    202\u001b[39m \u001b[43m    \u001b[49m\u001b[43mbn_training\u001b[49m\u001b[43m,\u001b[49m\n\u001b[32m    203\u001b[39m \u001b[43m    \u001b[49m\u001b[43mexponential_average_factor\u001b[49m\u001b[43m,\u001b[49m\n\u001b[32m    204\u001b[39m \u001b[43m    \u001b[49m\u001b[38;5;28;43mself\u001b[39;49m\u001b[43m.\u001b[49m\u001b[43meps\u001b[49m\u001b[43m,\u001b[49m\n\u001b[32m    205\u001b[39m \u001b[43m\u001b[49m\u001b[43m)\u001b[49m\n",
      "\u001b[36mFile \u001b[39m\u001b[32m~/Desktop/MH/.venv/lib/python3.12/site-packages/torch/nn/functional.py:2820\u001b[39m, in \u001b[36mbatch_norm\u001b[39m\u001b[34m(input, running_mean, running_var, weight, bias, training, momentum, eps)\u001b[39m\n\u001b[32m   2807\u001b[39m     \u001b[38;5;28;01mreturn\u001b[39;00m handle_torch_function(\n\u001b[32m   2808\u001b[39m         batch_norm,\n\u001b[32m   2809\u001b[39m         (\u001b[38;5;28minput\u001b[39m, running_mean, running_var, weight, bias),\n\u001b[32m   (...)\u001b[39m\u001b[32m   2817\u001b[39m         eps=eps,\n\u001b[32m   2818\u001b[39m     )\n\u001b[32m   2819\u001b[39m \u001b[38;5;28;01mif\u001b[39;00m training:\n\u001b[32m-> \u001b[39m\u001b[32m2820\u001b[39m     \u001b[43m_verify_batch_size\u001b[49m\u001b[43m(\u001b[49m\u001b[38;5;28;43minput\u001b[39;49m\u001b[43m.\u001b[49m\u001b[43msize\u001b[49m\u001b[43m(\u001b[49m\u001b[43m)\u001b[49m\u001b[43m)\u001b[49m\n\u001b[32m   2822\u001b[39m \u001b[38;5;28;01mreturn\u001b[39;00m torch.batch_norm(\n\u001b[32m   2823\u001b[39m     \u001b[38;5;28minput\u001b[39m,\n\u001b[32m   2824\u001b[39m     weight,\n\u001b[32m   (...)\u001b[39m\u001b[32m   2831\u001b[39m     torch.backends.cudnn.enabled,\n\u001b[32m   2832\u001b[39m )\n",
      "\u001b[36mFile \u001b[39m\u001b[32m~/Desktop/MH/.venv/lib/python3.12/site-packages/torch/nn/functional.py:2786\u001b[39m, in \u001b[36m_verify_batch_size\u001b[39m\u001b[34m(size)\u001b[39m\n\u001b[32m   2784\u001b[39m     size_prods *= size[i + \u001b[32m2\u001b[39m]\n\u001b[32m   2785\u001b[39m \u001b[38;5;28;01mif\u001b[39;00m size_prods == \u001b[32m1\u001b[39m:\n\u001b[32m-> \u001b[39m\u001b[32m2786\u001b[39m     \u001b[38;5;28;01mraise\u001b[39;00m \u001b[38;5;167;01mValueError\u001b[39;00m(\n\u001b[32m   2787\u001b[39m         \u001b[33mf\u001b[39m\u001b[33m\"\u001b[39m\u001b[33mExpected more than 1 value per channel when training, got input size \u001b[39m\u001b[38;5;132;01m{\u001b[39;00msize\u001b[38;5;132;01m}\u001b[39;00m\u001b[33m\"\u001b[39m\n\u001b[32m   2788\u001b[39m     )\n",
      "\u001b[31mValueError\u001b[39m: Expected more than 1 value per channel when training, got input size torch.Size([1, 32, 1])"
     ]
    }
   ],
   "source": [
    "# Training loop per station\n",
    "for lat, lon in tqdm(stations, desc=\"Stations\"):\n",
    "    station_df = df[(df['station_lat'] == lat) & (df['station_lon'] == lon)]\n",
    "    if station_df[label_col].nunique() < 2:\n",
    "        continue  # Skip if only one class present\n",
    "\n",
    "    # Features and labels\n",
    "    X = station_df.drop(columns=[label_col, 'station_lat', 'station_lon']).values\n",
    "    y = station_df[label_col].values\n",
    "\n",
    "    # Normalize features\n",
    "    scaler = StandardScaler()\n",
    "    X = scaler.fit_transform(X)\n",
    "\n",
    "        # Train/test split\n",
    "    split_idx = int(len(X) * 0.8)  # first 80% for training, last 20% for testing\n",
    "    X_train, X_test = X[:split_idx], X[split_idx:]\n",
    "    y_train, y_test = y[:split_idx], y[split_idx:]\n",
    "\n",
    "    # Convert to tensors\n",
    "    X_train_tensor = torch.tensor(X_train, dtype=torch.float32).unsqueeze(2)  # (samples, features, 1)\n",
    "    X_test_tensor = torch.tensor(X_test, dtype=torch.float32).unsqueeze(2)    # same for test\n",
    "\n",
    "    y_train_tensor = torch.tensor(y_train, dtype=torch.long)\n",
    "    y_test_tensor = torch.tensor(y_test, dtype=torch.long)\n",
    "\n",
    "    train_loader = DataLoader(TensorDataset(X_train_tensor, y_train_tensor), batch_size=32, shuffle=False)\n",
    "\n",
    "    model = CNN(input_channels=X.shape[1], num_classes=len(np.unique(y))).to('cpu')\n",
    "\n",
    "    unique_classes = np.unique(y_train)\n",
    "    if len(unique_classes) < 2:\n",
    "        continue  # Skip stations with only one class\n",
    "\n",
    "    # Compute class weights for current station\n",
    "    class_weights = compute_class_weight(class_weight='balanced', classes=unique_classes, y=y_train)\n",
    "    # Create full weight vector of size [num_classes] with zeros\n",
    "    full_weights = torch.zeros(len(np.unique(y)))  # Use global num_classes from earlier\n",
    "    # Fill weights for present classes\n",
    "    for i, cls in enumerate(unique_classes):\n",
    "        full_weights[cls] = class_weights[i]\n",
    "\n",
    "    criterion = nn.CrossEntropyLoss(weight=full_weights)\n",
    "    optimizer = torch.optim.Adam(model.parameters(), lr=1e-4)\n",
    "\n",
    "    # Training\n",
    "    for epoch in range(20):\n",
    "        model.train()\n",
    "        epoch_loss = 0.0\n",
    "        for xb, yb in train_loader:\n",
    "            outputs = model(xb)\n",
    "\n",
    "            # NaN check\n",
    "            if torch.isnan(outputs).any():\n",
    "                print(f\"NaN in outputs at station ({lat:.4f}, {lon:.4f})\")\n",
    "                continue\n",
    "\n",
    "            loss = criterion(outputs, yb)\n",
    "            if torch.isnan(loss):\n",
    "                print(f\"NaN in loss at station ({lat:.4f}, {lon:.4f})\")\n",
    "                continue\n",
    "\n",
    "            optimizer.zero_grad()\n",
    "            loss.backward()\n",
    "\n",
    "            # Gradient clipping\n",
    "            torch.nn.utils.clip_grad_norm_(model.parameters(), max_norm=1.0)\n",
    "            optimizer.step()\n",
    "            epoch_loss += loss.item()\n",
    "\n",
    "        print(f\"[{lat:.4f}, {lon:.4f}] Epoch {epoch+1}/5, Loss: {epoch_loss:.4f}\")\n",
    "\n",
    "    # Evaluation\n",
    "    model.eval()\n",
    "    with torch.no_grad():\n",
    "        preds = model(X_test_tensor).argmax(dim=1).cpu().numpy()\n",
    "        y_true = y_test_tensor.cpu().numpy()\n",
    "\n",
    "        # Overall metrics\n",
    "        acc = accuracy_score(y_true, preds)\n",
    "        prec = precision_score(y_true, preds, average='macro', zero_division=0)\n",
    "        rec = recall_score(y_true, preds, average='macro', zero_division=0)\n",
    "        f1 = f1_score(y_true, preds, average='macro', zero_division=0)\n",
    "\n",
    "        print(f\"📍 Station ({lat:.4f}, {lon:.4f})\")\n",
    "        print(f\"  Accuracy : {acc:.4f}\")\n",
    "        print(f\"  Precision: {prec:.4f}\")\n",
    "        print(f\"  Recall   : {rec:.4f}\")\n",
    "        print(f\"  F1-score : {f1:.4f}\")\n",
    "\n",
    "        for cls in class_labels:\n",
    "            cls_mask = (y_true == cls)\n",
    "            cls_preds = (preds == cls)\n",
    "            tp = np.sum(cls_mask & cls_preds)\n",
    "            fp = np.sum(~cls_mask & cls_preds)\n",
    "            fn = np.sum(cls_mask & ~cls_preds)\n",
    "\n",
    "            cls_prec = tp / (tp + fp + 1e-8)\n",
    "            cls_rec = tp / (tp + fn + 1e-8)\n",
    "            cls_f1 = 2 * cls_prec * cls_rec / (cls_prec + cls_rec + 1e-8)\n",
    "\n",
    "            print(f\"    Class {cls}: Precision={cls_prec:.4f}, Recall={cls_rec:.4f}, F1-score={cls_f1:.4f}\")\n",
    "\n",
    "            # Log classwise metrics\n",
    "            classwise_metrics[cls]['precision'].append(cls_prec)\n",
    "            classwise_metrics[cls]['recall'].append(cls_rec)\n",
    "            classwise_metrics[cls]['f1'].append(cls_f1)\n",
    "\n",
    "\n",
    "        # Log metrics for averaging\n",
    "        all_metrics['accuracy'].append(acc)\n",
    "        all_metrics['precision'].append(prec)\n",
    "        all_metrics['recall'].append(rec)\n",
    "        all_metrics['f1'].append(f1)\n"
   ]
  },
  {
   "cell_type": "code",
   "execution_count": 15,
   "id": "a74a4b7b",
   "metadata": {},
   "outputs": [
    {
     "name": "stdout",
     "output_type": "stream",
     "text": [
      "\n",
      "🔚 Average Metrics Across All Stations:\n",
      "  Accuracy : 0.8351\n",
      "  Precision: 0.5993\n",
      "  Recall   : 0.6111\n",
      "  F1-score : 0.5920\n",
      "\n",
      "📊 Class-wise Average Metrics Across All Stations:\n",
      "  Class 0: Precision=0.9112, Recall=0.8647, F1-score=0.8831\n",
      "  Class 1: Precision=0.2709, Recall=0.3411, F1-score=0.2845\n"
     ]
    }
   ],
   "source": [
    "# After the for-loop over all stations:\n",
    "print(\"\\n🔚 Average Metrics Across All Stations:\")\n",
    "print(f\"  Accuracy : {np.mean(all_metrics['accuracy']):.4f}\")\n",
    "print(f\"  Precision: {np.mean(all_metrics['precision']):.4f}\")\n",
    "print(f\"  Recall   : {np.mean(all_metrics['recall']):.4f}\")\n",
    "print(f\"  F1-score : {np.mean(all_metrics['f1']):.4f}\")\n",
    "\n",
    "print(\"\\n📊 Class-wise Average Metrics Across All Stations:\")\n",
    "for cls in sorted(classwise_metrics.keys()):\n",
    "    prec = np.mean(classwise_metrics[cls]['precision'])\n",
    "    rec = np.mean(classwise_metrics[cls]['recall'])\n",
    "    f1 = np.mean(classwise_metrics[cls]['f1'])\n",
    "    print(f\"  Class {cls}: Precision={prec:.4f}, Recall={rec:.4f}, F1-score={f1:.4f}\")\n"
   ]
  }
 ],
 "metadata": {
  "kernelspec": {
   "display_name": ".venv",
   "language": "python",
   "name": "python3"
  },
  "language_info": {
   "codemirror_mode": {
    "name": "ipython",
    "version": 3
   },
   "file_extension": ".py",
   "mimetype": "text/x-python",
   "name": "python",
   "nbconvert_exporter": "python",
   "pygments_lexer": "ipython3",
   "version": "3.12.3"
  }
 },
 "nbformat": 4,
 "nbformat_minor": 5
}
