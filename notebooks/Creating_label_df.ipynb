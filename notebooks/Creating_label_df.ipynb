{
 "cells": [
  {
   "cell_type": "markdown",
   "id": "18db2ac5",
   "metadata": {},
   "source": [
    "### Importing libraries"
   ]
  },
  {
   "cell_type": "code",
   "execution_count": 24,
   "id": "66f25460",
   "metadata": {},
   "outputs": [],
   "source": [
    "import os\n",
    "import pandas as pd\n",
    "import re\n",
    "from glob import glob\n",
    "import matplotlib.pyplot as plt"
   ]
  },
  {
   "cell_type": "markdown",
   "id": "964e09c1",
   "metadata": {},
   "source": [
    "### Create a combined dataframe for all 6 years and months June-September"
   ]
  },
  {
   "cell_type": "code",
   "execution_count": null,
   "id": "9af4e38b",
   "metadata": {},
   "outputs": [
    {
     "name": "stdout",
     "output_type": "stream",
     "text": [
      "Final dataframe shape: (210450, 11)\n"
     ]
    }
   ],
   "source": [
    "# Define valid month indicators (case insensitive)\n",
    "VALID_MONTHS = [\"jun\", \"jul\", \"aug\", \"sep\"]\n",
    "\n",
    "# Root data folder\n",
    "root_folder = \"rf data\"\n",
    "all_dataframes = []\n",
    "\n",
    "# Function to detect file type based on preview of first 40 rows\n",
    "def detect_file_type(file_path):\n",
    "    try:\n",
    "        preview_df = pd.read_excel(file_path, header=None, nrows=40, sheet_name=\"Sheet1\", engine=\"xlrd\")\n",
    "\n",
    "        flat_values = preview_df.fillna(\"\").astype(str).values.flatten()\n",
    "        flat_values = [v.strip().lower() for v in flat_values]\n",
    "\n",
    "        # Check if any cell contains \"met. subdivision\"\n",
    "        if any(\"met. subdivision\" in v for v in flat_values):\n",
    "            # Check if it contains \"met. subdivision: <some name>\"\n",
    "            if any(\"met. subdivision:\" in v for v in flat_values):\n",
    "                return 1  # File Type 2\n",
    "            else:\n",
    "                return 2  # File Type 1\n",
    "        else:\n",
    "            return None  # Unknown file type\n",
    "\n",
    "    except Exception as e:\n",
    "        print(f\"Error detecting file type for {file_path}: {e}\")\n",
    "        return None\n",
    "\n",
    "# Function to process File Type 1\n",
    "def parse_file_type_1(file_path, year, month_str):\n",
    "    try:\n",
    "        df_raw = pd.read_excel(file_path, header=None, sheet_name=\"Sheet1\", engine=\"xlrd\")\n",
    "        parsed_rows = []\n",
    "\n",
    "        current_district = None\n",
    "        current_subdivision = None\n",
    "\n",
    "        for idx, row in df_raw.iterrows():\n",
    "            row_values = row.dropna().astype(str).tolist()\n",
    "            if not row_values:\n",
    "                continue  # skip empty rows\n",
    "\n",
    "            # Detect subdivision\n",
    "            if str(row[0]).strip().upper().startswith('MET. SUBDIVISION'):\n",
    "                current_subdivision = str(row[0]).split(':')[-1].strip().upper()\n",
    "                continue\n",
    "\n",
    "            # Detect district\n",
    "            if str(row[0]).strip().upper().startswith('DISTRICT'):\n",
    "                current_district = str(row[0]).split(':')[-1].strip().upper()\n",
    "                continue\n",
    "\n",
    "            # Detect valid station data row\n",
    "            if len(row) >= 37 and current_district and current_subdivision:\n",
    "                station = str(row[0]).strip()\n",
    "                rain_data = row[1:32].tolist()\n",
    "                total_rf = row[32]\n",
    "                rainy_days = row[33]\n",
    "                cris_id = row[34]\n",
    "                lat = row[35]\n",
    "                lon = row[36]\n",
    "\n",
    "                for day, rainfall in enumerate(rain_data, start=1):\n",
    "                    try:\n",
    "                        date = pd.to_datetime(f\"{year}-{month_str.title()}-{day:02d}\", errors='coerce')\n",
    "                    except:\n",
    "                        date = None\n",
    "\n",
    "                    if pd.notna(date):\n",
    "                        parsed_rows.append({\n",
    "                            'Year': year,\n",
    "                            'District': current_district,\n",
    "                            'Met_Division': current_subdivision,\n",
    "                            'Station': station,\n",
    "                            'Date': date,\n",
    "                            'Rainfall': rainfall,\n",
    "                            'Total': total_rf,\n",
    "                            'Rainy_Days': rainy_days,\n",
    "                            'CRIS_ID': cris_id,\n",
    "                            'LAT_DM': lat,\n",
    "                            'LONG_DM': lon\n",
    "                        })\n",
    "\n",
    "        return pd.DataFrame(parsed_rows) if parsed_rows else None\n",
    "\n",
    "    except Exception as e:\n",
    "        print(f\"Error parsing Type 1 file {file_path}: {e}\")\n",
    "        return None\n",
    "\n",
    "# Function to process File Type 2\n",
    "def parse_file_type_2(file_path, year, month_str):\n",
    "    try:\n",
    "        df = pd.read_excel(file_path, header=None, sheet_name=\"Sheet1\", engine=\"xlrd\")\n",
    "\n",
    "        # Detect the header row with both 'district' and 'subdivision'\n",
    "        data_start_idx = df[df.apply(\n",
    "            lambda row: row.astype(str).str.lower().str.contains(\"district\").any() and\n",
    "                        row.astype(str).str.lower().str.contains(\"met. subdivision\").any(),\n",
    "            axis=1\n",
    "        )].index[0]\n",
    "\n",
    "        # Load again with correct headers\n",
    "        df = pd.read_excel(file_path, header=data_start_idx, sheet_name=\"Sheet1\", engine=\"xlrd\")\n",
    "        df = df.iloc[:, :33]  # district, subdivision, days 1–31\n",
    "\n",
    "        df = df[df.iloc[:, 0].notna()]  # remove empty district rows\n",
    "        df.columns = ['District', 'Met_Subdivision'] + [f\"{day:02d}\" for day in range(1, 32)]\n",
    "\n",
    "        # Melt to long format: 1 row per day\n",
    "        df_long = df.melt(\n",
    "            id_vars=['District', 'Met_Subdivision'],\n",
    "            var_name='Day',\n",
    "            value_name='Rainfall'\n",
    "        )\n",
    "\n",
    "        # Add year and month to get full date\n",
    "        df_long['Year'] = year\n",
    "        df_long['Month'] = month_str.title()\n",
    "        df_long['Day'] = df_long['Day'].astype(str).str.zfill(2)\n",
    "        df_long['Date'] = pd.to_datetime(df_long['Year'].astype(str) + '-' + df_long['Month'] + '-' + df_long['Day'], errors='coerce')\n",
    "\n",
    "        # Drop rows with invalid dates\n",
    "        df_long = df_long[df_long['Date'].notna()]\n",
    "\n",
    "        # Reorder and rename columns\n",
    "        df_long = df_long.rename(columns={'Met_Subdivision': 'Met_Division'})\n",
    "        df_long = df_long[['Year', 'District', 'Met_Division', 'Date', 'Rainfall']]\n",
    "\n",
    "        return df_long\n",
    "\n",
    "    except Exception as e:\n",
    "        print(f\"Error parsing Type 2 file {file_path}: {e}\")\n",
    "        return None\n",
    "\n",
    "# Walk through each year folder\n",
    "year_folders = sorted(glob(os.path.join(root_folder, \"*/\")))\n",
    "\n",
    "for year_folder in year_folders:\n",
    "    year = os.path.basename(os.path.normpath(year_folder))\n",
    "    xls_files = glob(os.path.join(year_folder, \"*.xls\"))\n",
    "\n",
    "    for file_path in xls_files:\n",
    "        file_name = os.path.basename(file_path).lower()\n",
    "        if any(month in file_name for month in VALID_MONTHS):\n",
    "            file_type = detect_file_type(file_path)\n",
    "            month_str = next((m for m in VALID_MONTHS if m in file_name), None)\n",
    "            if not month_str:\n",
    "                print(f\"Could not detect month in file name: {file_path}\")\n",
    "                continue\n",
    "\n",
    "            if file_type == 1:\n",
    "                parsed_df = parse_file_type_1(file_path, year, month_str)\n",
    "            elif file_type == 2:\n",
    "                parsed_df = parse_file_type_2(file_path, year, month_str)\n",
    "            else:\n",
    "                print(f\"Unknown format, skipping file: {file_path}\")\n",
    "                continue\n",
    "\n",
    "            if parsed_df is not None:\n",
    "                all_dataframes.append(parsed_df)\n",
    "\n",
    "# Combine all\n",
    "if all_dataframes:\n",
    "    final_df = pd.concat(all_dataframes, ignore_index=True)\n",
    "    print(\"Final dataframe shape:\", final_df.shape)\n",
    "else:\n",
    "    print(\"No dataframes parsed correctly.\")\n"
   ]
  },
  {
   "cell_type": "code",
   "execution_count": 34,
   "id": "b885695d",
   "metadata": {},
   "outputs": [],
   "source": [
    "final_df.to_csv(\"combined_rainfall_data.csv\", index=False)"
   ]
  },
  {
   "cell_type": "markdown",
   "id": "5789e305",
   "metadata": {},
   "source": [
    "### Create individual station data"
   ]
  },
  {
   "cell_type": "code",
   "execution_count": 37,
   "id": "c1ec20c5",
   "metadata": {},
   "outputs": [
    {
     "name": "stdout",
     "output_type": "stream",
     "text": [
      "✅ Saved all station-wise CSVs in 'per_station_data' with LAT_DM and LONG_DM in filenames.\n"
     ]
    }
   ],
   "source": [
    "# Load dataset\n",
    "df = pd.read_csv(\"combined_rainfall_data.csv\")\n",
    "\n",
    "# Keep relevant columns and drop rows with missing Rainfall\n",
    "filtered_df = df[['Station', 'Date', 'Rainfall', 'LAT_DM', 'LONG_DM']].dropna(subset=['Rainfall'])\n",
    "\n",
    "# Convert 'Date' column to datetime format for proper sorting\n",
    "filtered_df['Date'] = pd.to_datetime(filtered_df['Date'])\n",
    "\n",
    "# Save the full filtered dataset sorted by Date\n",
    "filtered_df = filtered_df.sort_values(by='Date')\n",
    "filtered_df[['Station', 'Date', 'Rainfall']]\n",
    "\n",
    "# Create a directory to store individual station files\n",
    "output_dir = \"per_station_data\"\n",
    "os.makedirs(output_dir, exist_ok=True)\n",
    "\n",
    "# Group by station and save separate CSVs\n",
    "for station, group_df in filtered_df.groupby('Station'):\n",
    "    lat_dm = group_df['LAT_DM'].iloc[0]\n",
    "    long_dm = group_df['LONG_DM'].iloc[0]\n",
    "    \n",
    "    # Create safe filename\n",
    "    safe_station = station.replace(\" \", \"_\").replace(\"/\", \"_\").replace(\"\\\\\", \"_\")\n",
    "    filename = f\"{safe_station}_{lat_dm}_{long_dm}.csv\"\n",
    "    filepath = os.path.join(output_dir, filename)\n",
    "    \n",
    "    # Sort each station's data by Date before saving\n",
    "    group_df = group_df.sort_values(by='Date')\n",
    "    group_df[['Date', 'Rainfall']].to_csv(filepath, index=False)\n",
    "\n",
    "print(f\"✅ Saved all station-wise CSVs in '{output_dir}' with LAT_DM and LONG_DM in filenames.\")"
   ]
  },
  {
   "cell_type": "markdown",
   "id": "f4b2a7ac",
   "metadata": {},
   "source": [
    "### Visualizing "
   ]
  },
  {
   "cell_type": "code",
   "execution_count": 38,
   "id": "4240324a",
   "metadata": {},
   "outputs": [
    {
     "name": "stderr",
     "output_type": "stream",
     "text": [
      "<>:2: SyntaxWarning: invalid escape sequence '\\A'\n",
      "<>:2: SyntaxWarning: invalid escape sequence '\\A'\n",
      "C:\\Users\\Shubham\\AppData\\Local\\Temp\\ipykernel_36672\\2749819775.py:2: SyntaxWarning: invalid escape sequence '\\A'\n",
      "  df = pd.read_csv(\"per_station_data\\AHMEDNAGAR_-_IMD_PT_1905.0_7448.0.csv\")\n"
     ]
    },
    {
     "data": {
      "image/png": "[encoded data removed]",
      "text/plain": [
       "<Figure size 1200x600 with 1 Axes>"
      ]
     },
     "metadata": {},
     "output_type": "display_data"
    }
   ],
   "source": [
    "# Load the CSV file\n",
    "df = pd.read_csv(\"per_station_data\\AHMEDNAGAR_-_IMD_PT_1905.0_7448.0.csv\")\n",
    "\n",
    "# Ensure the 'Date' column is in datetime format\n",
    "df['Date'] = pd.to_datetime(df['Date'])\n",
    "\n",
    "# Plot the data\n",
    "plt.figure(figsize=(12, 6))\n",
    "plt.scatter(df['Date'], df['Rainfall'], marker='o', color='green', label='Rainfall')\n",
    "\n",
    "# Add labels and title\n",
    "plt.xlabel('Date')\n",
    "plt.ylabel('Rainfall (mm)')\n",
    "plt.title('Rainfall Over Time')\n",
    "plt.grid(True)\n",
    "plt.legend()\n",
    "\n",
    "# Rotate x-axis labels for better readability\n",
    "plt.xticks(rotation=45)\n",
    "\n",
    "# Show the plot\n",
    "plt.tight_layout()\n",
    "plt.show()"
   ]
  }
 ],
 "metadata": {
  "kernelspec": {
   "display_name": "Python 3",
   "language": "python",
   "name": "python3"
  },
  "language_info": {
   "codemirror_mode": {
    "name": "ipython",
    "version": 3
   },
   "file_extension": ".py",
   "mimetype": "text/x-python",
   "name": "python",
   "nbconvert_exporter": "python",
   "pygments_lexer": "ipython3",
   "version": "3.12.5"
  }
 },
 "nbformat": 4,
 "nbformat_minor": 5
}
